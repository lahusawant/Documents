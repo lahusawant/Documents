{
 "cells": [
  {
   "cell_type": "markdown",
   "metadata": {
    "application/vnd.databricks.v1+cell": {
     "cellMetadata": {
      "byteLimit": 2048000,
      "rowLimit": 10000
     },
     "inputWidgets": {},
     "nuid": "674abbff-0020-4b57-9d54-ee959f4efeb9",
     "showTitle": false,
     "tableResultSettingsMap": {},
     "title": ""
    },
    "jupyter": {
     "outputs_hidden": true
    }
   },
   "source": [
    "## DATA LOADING AND READING"
   ]
  },
  {
   "cell_type": "code",
   "execution_count": 0,
   "metadata": {
    "application/vnd.databricks.v1+cell": {
     "cellMetadata": {
      "byteLimit": 2048000,
      "rowLimit": 10000
     },
     "inputWidgets": {},
     "nuid": "0ec2260e-38c2-42e4-8539-5cf24bd69423",
     "showTitle": false,
     "tableResultSettingsMap": {},
     "title": ""
    }
   },
   "outputs": [],
   "source": [
    "df_csv_1 = spark\\\n",
    "            .read\\\n",
    "            .format('csv')\\\n",
    "            .option('inferSchema',True)\\\n",
    "            .option('header', True)\\\n",
    "            .load('/FileStore/tables/BigMart_Sales.csv')"
   ]
  },
  {
   "cell_type": "code",
   "execution_count": 0,
   "metadata": {
    "application/vnd.databricks.v1+cell": {
     "cellMetadata": {
      "byteLimit": 2048000,
      "rowLimit": 10000
     },
     "inputWidgets": {},
     "nuid": "209ce9b0-372a-4b4b-974d-65dde94d09fc",
     "showTitle": false,
     "tableResultSettingsMap": {},
     "title": ""
    }
   },
   "outputs": [
    {
     "output_type": "display_data",
     "data": {
      "text/html": [
       "<style scoped>\n",
       "  .table-result-container {\n",
       "    max-height: 300px;\n",
       "    overflow: auto;\n",
       "  }\n",
       "  table, th, td {\n",
       "    border: 1px solid black;\n",
       "    border-collapse: collapse;\n",
       "  }\n",
       "  th, td {\n",
       "    padding: 5px;\n",
       "  }\n",
       "  th {\n",
       "    text-align: left;\n",
       "  }\n",
       "</style><div class='table-result-container'><table class='table-result'><thead style='background-color: white'><tr><th>Item_Identifier</th><th>Item_Weight</th><th>Item_Fat_Content</th><th>Item_Visibility</th><th>Item_Type</th><th>Item_MRP</th><th>Outlet_Identifier</th><th>Outlet_Establishment_Year</th><th>Outlet_Size</th><th>Outlet_Location_Type</th><th>Outlet_Type</th><th>Item_Outlet_Sales</th></tr></thead><tbody><tr><td>FDA15</td><td>9.3</td><td>Low Fat</td><td>0.016047301</td><td>Dairy</td><td>249.8092</td><td>OUT049</td><td>1999</td><td>Medium</td><td>Tier 1</td><td>Supermarket Type1</td><td>3735.138</td></tr><tr><td>DRC01</td><td>5.92</td><td>Regular</td><td>0.019278216</td><td>Soft Drinks</td><td>48.2692</td><td>OUT018</td><td>2009</td><td>Medium</td><td>Tier 3</td><td>Supermarket Type2</td><td>443.4228</td></tr><tr><td>FDN15</td><td>17.5</td><td>Low Fat</td><td>0.016760075</td><td>Meat</td><td>141.618</td><td>OUT049</td><td>1999</td><td>Medium</td><td>Tier 1</td><td>Supermarket Type1</td><td>2097.27</td></tr><tr><td>FDX07</td><td>19.2</td><td>Regular</td><td>0.0</td><td>Fruits and Vegetables</td><td>182.095</td><td>OUT010</td><td>1998</td><td>null</td><td>Tier 3</td><td>Grocery Store</td><td>732.38</td></tr><tr><td>NCD19</td><td>8.93</td><td>Low Fat</td><td>0.0</td><td>Household</td><td>53.8614</td><td>OUT013</td><td>1987</td><td>High</td><td>Tier 3</td><td>Supermarket Type1</td><td>994.7052</td></tr><tr><td>FDP36</td><td>10.395</td><td>Regular</td><td>0.0</td><td>Baking Goods</td><td>51.4008</td><td>OUT018</td><td>2009</td><td>Medium</td><td>Tier 3</td><td>Supermarket Type2</td><td>556.6088</td></tr><tr><td>FDO10</td><td>13.65</td><td>Regular</td><td>0.012741089</td><td>Snack Foods</td><td>57.6588</td><td>OUT013</td><td>1987</td><td>High</td><td>Tier 3</td><td>Supermarket Type1</td><td>343.5528</td></tr><tr><td>FDP10</td><td>null</td><td>Low Fat</td><td>0.127469857</td><td>Snack Foods</td><td>107.7622</td><td>OUT027</td><td>1985</td><td>Medium</td><td>Tier 3</td><td>Supermarket Type3</td><td>4022.7636</td></tr><tr><td>FDH17</td><td>16.2</td><td>Regular</td><td>0.016687114</td><td>Frozen Foods</td><td>96.9726</td><td>OUT045</td><td>2002</td><td>null</td><td>Tier 2</td><td>Supermarket Type1</td><td>1076.5986</td></tr><tr><td>FDU28</td><td>19.2</td><td>Regular</td><td>0.09444959</td><td>Frozen Foods</td><td>187.8214</td><td>OUT017</td><td>2007</td><td>null</td><td>Tier 2</td><td>Supermarket Type1</td><td>4710.535</td></tr></tbody></table></div>"
      ]
     },
     "metadata": {
      "application/vnd.databricks.v1+output": {
       "addedWidgets": {},
       "aggData": [],
       "aggError": "",
       "aggOverflow": false,
       "aggSchema": [],
       "aggSeriesLimitReached": false,
       "aggType": "",
       "arguments": {},
       "columnCustomDisplayInfos": {},
       "data": [
        [
         "FDA15",
         9.3,
         "Low Fat",
         0.016047301,
         "Dairy",
         249.8092,
         "OUT049",
         1999,
         "Medium",
         "Tier 1",
         "Supermarket Type1",
         3735.138
        ],
        [
         "DRC01",
         5.92,
         "Regular",
         0.019278216,
         "Soft Drinks",
         48.2692,
         "OUT018",
         2009,
         "Medium",
         "Tier 3",
         "Supermarket Type2",
         443.4228
        ],
        [
         "FDN15",
         17.5,
         "Low Fat",
         0.016760075,
         "Meat",
         141.618,
         "OUT049",
         1999,
         "Medium",
         "Tier 1",
         "Supermarket Type1",
         2097.27
        ],
        [
         "FDX07",
         19.2,
         "Regular",
         0.0,
         "Fruits and Vegetables",
         182.095,
         "OUT010",
         1998,
         null,
         "Tier 3",
         "Grocery Store",
         732.38
        ],
        [
         "NCD19",
         8.93,
         "Low Fat",
         0.0,
         "Household",
         53.8614,
         "OUT013",
         1987,
         "High",
         "Tier 3",
         "Supermarket Type1",
         994.7052
        ],
        [
         "FDP36",
         10.395,
         "Regular",
         0.0,
         "Baking Goods",
         51.4008,
         "OUT018",
         2009,
         "Medium",
         "Tier 3",
         "Supermarket Type2",
         556.6088
        ],
        [
         "FDO10",
         13.65,
         "Regular",
         0.012741089,
         "Snack Foods",
         57.6588,
         "OUT013",
         1987,
         "High",
         "Tier 3",
         "Supermarket Type1",
         343.5528
        ],
        [
         "FDP10",
         null,
         "Low Fat",
         0.127469857,
         "Snack Foods",
         107.7622,
         "OUT027",
         1985,
         "Medium",
         "Tier 3",
         "Supermarket Type3",
         4022.7636
        ],
        [
         "FDH17",
         16.2,
         "Regular",
         0.016687114,
         "Frozen Foods",
         96.9726,
         "OUT045",
         2002,
         null,
         "Tier 2",
         "Supermarket Type1",
         1076.5986
        ],
        [
         "FDU28",
         19.2,
         "Regular",
         0.09444959,
         "Frozen Foods",
         187.8214,
         "OUT017",
         2007,
         null,
         "Tier 2",
         "Supermarket Type1",
         4710.535
        ]
       ],
       "datasetInfos": [],
       "dbfsResultPath": null,
       "isJsonSchema": true,
       "metadata": {},
       "overflow": false,
       "plotOptions": {
        "customPlotOptions": {},
        "displayType": "table",
        "pivotAggregation": null,
        "pivotColumns": null,
        "xColumns": null,
        "yColumns": null
       },
       "removedWidgets": [],
       "schema": [
        {
         "metadata": "{}",
         "name": "Item_Identifier",
         "type": "\"string\""
        },
        {
         "metadata": "{}",
         "name": "Item_Weight",
         "type": "\"double\""
        },
        {
         "metadata": "{}",
         "name": "Item_Fat_Content",
         "type": "\"string\""
        },
        {
         "metadata": "{}",
         "name": "Item_Visibility",
         "type": "\"double\""
        },
        {
         "metadata": "{}",
         "name": "Item_Type",
         "type": "\"string\""
        },
        {
         "metadata": "{}",
         "name": "Item_MRP",
         "type": "\"double\""
        },
        {
         "metadata": "{}",
         "name": "Outlet_Identifier",
         "type": "\"string\""
        },
        {
         "metadata": "{}",
         "name": "Outlet_Establishment_Year",
         "type": "\"integer\""
        },
        {
         "metadata": "{}",
         "name": "Outlet_Size",
         "type": "\"string\""
        },
        {
         "metadata": "{}",
         "name": "Outlet_Location_Type",
         "type": "\"string\""
        },
        {
         "metadata": "{}",
         "name": "Outlet_Type",
         "type": "\"string\""
        },
        {
         "metadata": "{}",
         "name": "Item_Outlet_Sales",
         "type": "\"double\""
        }
       ],
       "type": "table"
      }
     },
     "output_type": "display_data"
    }
   ],
   "source": [
    "df_csv_1.limit(10).display()"
   ]
  },
  {
   "cell_type": "code",
   "execution_count": 0,
   "metadata": {
    "application/vnd.databricks.v1+cell": {
     "cellMetadata": {
      "byteLimit": 2048000,
      "rowLimit": 10000
     },
     "inputWidgets": {},
     "nuid": "cf6648eb-6722-4f48-872e-358281a2e03c",
     "showTitle": false,
     "tableResultSettingsMap": {},
     "title": ""
    }
   },
   "outputs": [],
   "source": [
    "df_csv_2 =  spark\\\n",
    "            .read\\\n",
    "            .csv('/FileStore/tables/BigMart_Sales.csv',inferSchema=True,header=True)"
   ]
  },
  {
   "cell_type": "code",
   "execution_count": 0,
   "metadata": {
    "application/vnd.databricks.v1+cell": {
     "cellMetadata": {
      "byteLimit": 2048000,
      "rowLimit": 10000
     },
     "inputWidgets": {},
     "nuid": "5a412027-9e4e-49a6-a255-ca424892cd81",
     "showTitle": false,
     "tableResultSettingsMap": {},
     "title": ""
    }
   },
   "outputs": [
    {
     "output_type": "display_data",
     "data": {
      "text/html": [
       "<style scoped>\n",
       "  .table-result-container {\n",
       "    max-height: 300px;\n",
       "    overflow: auto;\n",
       "  }\n",
       "  table, th, td {\n",
       "    border: 1px solid black;\n",
       "    border-collapse: collapse;\n",
       "  }\n",
       "  th, td {\n",
       "    padding: 5px;\n",
       "  }\n",
       "  th {\n",
       "    text-align: left;\n",
       "  }\n",
       "</style><div class='table-result-container'><table class='table-result'><thead style='background-color: white'><tr><th>Item_Identifier</th><th>Item_Weight</th><th>Item_Fat_Content</th><th>Item_Visibility</th><th>Item_Type</th><th>Item_MRP</th><th>Outlet_Identifier</th><th>Outlet_Establishment_Year</th><th>Outlet_Size</th><th>Outlet_Location_Type</th><th>Outlet_Type</th><th>Item_Outlet_Sales</th></tr></thead><tbody><tr><td>FDA15</td><td>9.3</td><td>Low Fat</td><td>0.016047301</td><td>Dairy</td><td>249.8092</td><td>OUT049</td><td>1999</td><td>Medium</td><td>Tier 1</td><td>Supermarket Type1</td><td>3735.138</td></tr><tr><td>DRC01</td><td>5.92</td><td>Regular</td><td>0.019278216</td><td>Soft Drinks</td><td>48.2692</td><td>OUT018</td><td>2009</td><td>Medium</td><td>Tier 3</td><td>Supermarket Type2</td><td>443.4228</td></tr><tr><td>FDN15</td><td>17.5</td><td>Low Fat</td><td>0.016760075</td><td>Meat</td><td>141.618</td><td>OUT049</td><td>1999</td><td>Medium</td><td>Tier 1</td><td>Supermarket Type1</td><td>2097.27</td></tr><tr><td>FDX07</td><td>19.2</td><td>Regular</td><td>0.0</td><td>Fruits and Vegetables</td><td>182.095</td><td>OUT010</td><td>1998</td><td>null</td><td>Tier 3</td><td>Grocery Store</td><td>732.38</td></tr><tr><td>NCD19</td><td>8.93</td><td>Low Fat</td><td>0.0</td><td>Household</td><td>53.8614</td><td>OUT013</td><td>1987</td><td>High</td><td>Tier 3</td><td>Supermarket Type1</td><td>994.7052</td></tr><tr><td>FDP36</td><td>10.395</td><td>Regular</td><td>0.0</td><td>Baking Goods</td><td>51.4008</td><td>OUT018</td><td>2009</td><td>Medium</td><td>Tier 3</td><td>Supermarket Type2</td><td>556.6088</td></tr><tr><td>FDO10</td><td>13.65</td><td>Regular</td><td>0.012741089</td><td>Snack Foods</td><td>57.6588</td><td>OUT013</td><td>1987</td><td>High</td><td>Tier 3</td><td>Supermarket Type1</td><td>343.5528</td></tr><tr><td>FDP10</td><td>null</td><td>Low Fat</td><td>0.127469857</td><td>Snack Foods</td><td>107.7622</td><td>OUT027</td><td>1985</td><td>Medium</td><td>Tier 3</td><td>Supermarket Type3</td><td>4022.7636</td></tr><tr><td>FDH17</td><td>16.2</td><td>Regular</td><td>0.016687114</td><td>Frozen Foods</td><td>96.9726</td><td>OUT045</td><td>2002</td><td>null</td><td>Tier 2</td><td>Supermarket Type1</td><td>1076.5986</td></tr><tr><td>FDU28</td><td>19.2</td><td>Regular</td><td>0.09444959</td><td>Frozen Foods</td><td>187.8214</td><td>OUT017</td><td>2007</td><td>null</td><td>Tier 2</td><td>Supermarket Type1</td><td>4710.535</td></tr></tbody></table></div>"
      ]
     },
     "metadata": {
      "application/vnd.databricks.v1+output": {
       "addedWidgets": {},
       "aggData": [],
       "aggError": "",
       "aggOverflow": false,
       "aggSchema": [],
       "aggSeriesLimitReached": false,
       "aggType": "",
       "arguments": {},
       "columnCustomDisplayInfos": {},
       "data": [
        [
         "FDA15",
         9.3,
         "Low Fat",
         0.016047301,
         "Dairy",
         249.8092,
         "OUT049",
         1999,
         "Medium",
         "Tier 1",
         "Supermarket Type1",
         3735.138
        ],
        [
         "DRC01",
         5.92,
         "Regular",
         0.019278216,
         "Soft Drinks",
         48.2692,
         "OUT018",
         2009,
         "Medium",
         "Tier 3",
         "Supermarket Type2",
         443.4228
        ],
        [
         "FDN15",
         17.5,
         "Low Fat",
         0.016760075,
         "Meat",
         141.618,
         "OUT049",
         1999,
         "Medium",
         "Tier 1",
         "Supermarket Type1",
         2097.27
        ],
        [
         "FDX07",
         19.2,
         "Regular",
         0.0,
         "Fruits and Vegetables",
         182.095,
         "OUT010",
         1998,
         null,
         "Tier 3",
         "Grocery Store",
         732.38
        ],
        [
         "NCD19",
         8.93,
         "Low Fat",
         0.0,
         "Household",
         53.8614,
         "OUT013",
         1987,
         "High",
         "Tier 3",
         "Supermarket Type1",
         994.7052
        ],
        [
         "FDP36",
         10.395,
         "Regular",
         0.0,
         "Baking Goods",
         51.4008,
         "OUT018",
         2009,
         "Medium",
         "Tier 3",
         "Supermarket Type2",
         556.6088
        ],
        [
         "FDO10",
         13.65,
         "Regular",
         0.012741089,
         "Snack Foods",
         57.6588,
         "OUT013",
         1987,
         "High",
         "Tier 3",
         "Supermarket Type1",
         343.5528
        ],
        [
         "FDP10",
         null,
         "Low Fat",
         0.127469857,
         "Snack Foods",
         107.7622,
         "OUT027",
         1985,
         "Medium",
         "Tier 3",
         "Supermarket Type3",
         4022.7636
        ],
        [
         "FDH17",
         16.2,
         "Regular",
         0.016687114,
         "Frozen Foods",
         96.9726,
         "OUT045",
         2002,
         null,
         "Tier 2",
         "Supermarket Type1",
         1076.5986
        ],
        [
         "FDU28",
         19.2,
         "Regular",
         0.09444959,
         "Frozen Foods",
         187.8214,
         "OUT017",
         2007,
         null,
         "Tier 2",
         "Supermarket Type1",
         4710.535
        ]
       ],
       "datasetInfos": [],
       "dbfsResultPath": null,
       "isJsonSchema": true,
       "metadata": {},
       "overflow": false,
       "plotOptions": {
        "customPlotOptions": {},
        "displayType": "table",
        "pivotAggregation": null,
        "pivotColumns": null,
        "xColumns": null,
        "yColumns": null
       },
       "removedWidgets": [],
       "schema": [
        {
         "metadata": "{}",
         "name": "Item_Identifier",
         "type": "\"string\""
        },
        {
         "metadata": "{}",
         "name": "Item_Weight",
         "type": "\"double\""
        },
        {
         "metadata": "{}",
         "name": "Item_Fat_Content",
         "type": "\"string\""
        },
        {
         "metadata": "{}",
         "name": "Item_Visibility",
         "type": "\"double\""
        },
        {
         "metadata": "{}",
         "name": "Item_Type",
         "type": "\"string\""
        },
        {
         "metadata": "{}",
         "name": "Item_MRP",
         "type": "\"double\""
        },
        {
         "metadata": "{}",
         "name": "Outlet_Identifier",
         "type": "\"string\""
        },
        {
         "metadata": "{}",
         "name": "Outlet_Establishment_Year",
         "type": "\"integer\""
        },
        {
         "metadata": "{}",
         "name": "Outlet_Size",
         "type": "\"string\""
        },
        {
         "metadata": "{}",
         "name": "Outlet_Location_Type",
         "type": "\"string\""
        },
        {
         "metadata": "{}",
         "name": "Outlet_Type",
         "type": "\"string\""
        },
        {
         "metadata": "{}",
         "name": "Item_Outlet_Sales",
         "type": "\"double\""
        }
       ],
       "type": "table"
      }
     },
     "output_type": "display_data"
    }
   ],
   "source": [
    "df_csv_2.limit(10).display()"
   ]
  },
  {
   "cell_type": "code",
   "execution_count": 0,
   "metadata": {
    "application/vnd.databricks.v1+cell": {
     "cellMetadata": {
      "byteLimit": 2048000,
      "rowLimit": 10000
     },
     "inputWidgets": {},
     "nuid": "20472b65-5098-4e6c-b5f0-9f924b90a27b",
     "showTitle": false,
     "tableResultSettingsMap": {},
     "title": ""
    }
   },
   "outputs": [],
   "source": [
    "df_json_1 = spark\\\n",
    "            .read\\\n",
    "            .format(\"json\")\\\n",
    "            .option(\"inferSchema\",True)\\\n",
    "            .option(\"header\",True)\\\n",
    "            .option(\"multiLine\",False)\\\n",
    "            .load(\"/FileStore/tables/drivers-1.json\")"
   ]
  },
  {
   "cell_type": "code",
   "execution_count": 0,
   "metadata": {
    "application/vnd.databricks.v1+cell": {
     "cellMetadata": {
      "byteLimit": 2048000,
      "rowLimit": 10000
     },
     "inputWidgets": {},
     "nuid": "354d88fb-1191-4a68-b76e-45157047eea7",
     "showTitle": false,
     "tableResultSettingsMap": {},
     "title": ""
    }
   },
   "outputs": [
    {
     "output_type": "display_data",
     "data": {
      "text/html": [
       "<style scoped>\n",
       "  .table-result-container {\n",
       "    max-height: 300px;\n",
       "    overflow: auto;\n",
       "  }\n",
       "  table, th, td {\n",
       "    border: 1px solid black;\n",
       "    border-collapse: collapse;\n",
       "  }\n",
       "  th, td {\n",
       "    padding: 5px;\n",
       "  }\n",
       "  th {\n",
       "    text-align: left;\n",
       "  }\n",
       "</style><div class='table-result-container'><table class='table-result'><thead style='background-color: white'><tr><th>code</th><th>dob</th><th>driverId</th><th>driverRef</th><th>name</th><th>nationality</th><th>number</th><th>url</th></tr></thead><tbody><tr><td>HAM</td><td>1985-01-07</td><td>1</td><td>hamilton</td><td>List(Lewis, Hamilton)</td><td>British</td><td>44</td><td>http://en.wikipedia.org/wiki/Lewis_Hamilton</td></tr><tr><td>HEI</td><td>1977-05-10</td><td>2</td><td>heidfeld</td><td>List(Nick, Heidfeld)</td><td>German</td><td>\\N</td><td>http://en.wikipedia.org/wiki/Nick_Heidfeld</td></tr><tr><td>ROS</td><td>1985-06-27</td><td>3</td><td>rosberg</td><td>List(Nico, Rosberg)</td><td>German</td><td>6</td><td>http://en.wikipedia.org/wiki/Nico_Rosberg</td></tr><tr><td>ALO</td><td>1981-07-29</td><td>4</td><td>alonso</td><td>List(Fernando, Alonso)</td><td>Spanish</td><td>14</td><td>http://en.wikipedia.org/wiki/Fernando_Alonso</td></tr><tr><td>KOV</td><td>1981-10-19</td><td>5</td><td>kovalainen</td><td>List(Heikki, Kovalainen)</td><td>Finnish</td><td>\\N</td><td>http://en.wikipedia.org/wiki/Heikki_Kovalainen</td></tr><tr><td>NAK</td><td>1985-01-11</td><td>6</td><td>nakajima</td><td>List(Kazuki, Nakajima)</td><td>Japanese</td><td>\\N</td><td>http://en.wikipedia.org/wiki/Kazuki_Nakajima</td></tr><tr><td>BOU</td><td>1979-02-28</td><td>7</td><td>bourdais</td><td>List(Sébastien, Bourdais)</td><td>French</td><td>\\N</td><td>http://en.wikipedia.org/wiki/S%C3%A9bastien_Bourdais</td></tr><tr><td>RAI</td><td>1979-10-17</td><td>8</td><td>raikkonen</td><td>List(Kimi, Räikkönen)</td><td>Finnish</td><td>7</td><td>http://en.wikipedia.org/wiki/Kimi_R%C3%A4ikk%C3%B6nen</td></tr><tr><td>KUB</td><td>1984-12-07</td><td>9</td><td>kubica</td><td>List(Robert, Kubica)</td><td>Polish</td><td>88</td><td>http://en.wikipedia.org/wiki/Robert_Kubica</td></tr><tr><td>GLO</td><td>1982-03-18</td><td>10</td><td>glock</td><td>List(Timo, Glock)</td><td>German</td><td>\\N</td><td>http://en.wikipedia.org/wiki/Timo_Glock</td></tr></tbody></table></div>"
      ]
     },
     "metadata": {
      "application/vnd.databricks.v1+output": {
       "addedWidgets": {},
       "aggData": [],
       "aggError": "",
       "aggOverflow": false,
       "aggSchema": [],
       "aggSeriesLimitReached": false,
       "aggType": "",
       "arguments": {},
       "columnCustomDisplayInfos": {},
       "data": [
        [
         "HAM",
         "1985-01-07",
         1,
         "hamilton",
         [
          "Lewis",
          "Hamilton"
         ],
         "British",
         "44",
         "http://en.wikipedia.org/wiki/Lewis_Hamilton"
        ],
        [
         "HEI",
         "1977-05-10",
         2,
         "heidfeld",
         [
          "Nick",
          "Heidfeld"
         ],
         "German",
         "\\N",
         "http://en.wikipedia.org/wiki/Nick_Heidfeld"
        ],
        [
         "ROS",
         "1985-06-27",
         3,
         "rosberg",
         [
          "Nico",
          "Rosberg"
         ],
         "German",
         "6",
         "http://en.wikipedia.org/wiki/Nico_Rosberg"
        ],
        [
         "ALO",
         "1981-07-29",
         4,
         "alonso",
         [
          "Fernando",
          "Alonso"
         ],
         "Spanish",
         "14",
         "http://en.wikipedia.org/wiki/Fernando_Alonso"
        ],
        [
         "KOV",
         "1981-10-19",
         5,
         "kovalainen",
         [
          "Heikki",
          "Kovalainen"
         ],
         "Finnish",
         "\\N",
         "http://en.wikipedia.org/wiki/Heikki_Kovalainen"
        ],
        [
         "NAK",
         "1985-01-11",
         6,
         "nakajima",
         [
          "Kazuki",
          "Nakajima"
         ],
         "Japanese",
         "\\N",
         "http://en.wikipedia.org/wiki/Kazuki_Nakajima"
        ],
        [
         "BOU",
         "1979-02-28",
         7,
         "bourdais",
         [
          "Sébastien",
          "Bourdais"
         ],
         "French",
         "\\N",
         "http://en.wikipedia.org/wiki/S%C3%A9bastien_Bourdais"
        ],
        [
         "RAI",
         "1979-10-17",
         8,
         "raikkonen",
         [
          "Kimi",
          "Räikkönen"
         ],
         "Finnish",
         "7",
         "http://en.wikipedia.org/wiki/Kimi_R%C3%A4ikk%C3%B6nen"
        ],
        [
         "KUB",
         "1984-12-07",
         9,
         "kubica",
         [
          "Robert",
          "Kubica"
         ],
         "Polish",
         "88",
         "http://en.wikipedia.org/wiki/Robert_Kubica"
        ],
        [
         "GLO",
         "1982-03-18",
         10,
         "glock",
         [
          "Timo",
          "Glock"
         ],
         "German",
         "\\N",
         "http://en.wikipedia.org/wiki/Timo_Glock"
        ]
       ],
       "datasetInfos": [],
       "dbfsResultPath": null,
       "isJsonSchema": true,
       "metadata": {},
       "overflow": false,
       "plotOptions": {
        "customPlotOptions": {},
        "displayType": "table",
        "pivotAggregation": null,
        "pivotColumns": null,
        "xColumns": null,
        "yColumns": null
       },
       "removedWidgets": [],
       "schema": [
        {
         "metadata": "{}",
         "name": "code",
         "type": "\"string\""
        },
        {
         "metadata": "{}",
         "name": "dob",
         "type": "\"string\""
        },
        {
         "metadata": "{}",
         "name": "driverId",
         "type": "\"long\""
        },
        {
         "metadata": "{}",
         "name": "driverRef",
         "type": "\"string\""
        },
        {
         "metadata": "{}",
         "name": "name",
         "type": "{\"type\":\"struct\",\"fields\":[{\"name\":\"forename\",\"type\":\"string\",\"nullable\":true,\"metadata\":{}},{\"name\":\"surname\",\"type\":\"string\",\"nullable\":true,\"metadata\":{}}]}"
        },
        {
         "metadata": "{}",
         "name": "nationality",
         "type": "\"string\""
        },
        {
         "metadata": "{}",
         "name": "number",
         "type": "\"string\""
        },
        {
         "metadata": "{}",
         "name": "url",
         "type": "\"string\""
        }
       ],
       "type": "table"
      }
     },
     "output_type": "display_data"
    }
   ],
   "source": [
    "df_json_1.limit(10).display()"
   ]
  },
  {
   "cell_type": "code",
   "execution_count": 0,
   "metadata": {
    "application/vnd.databricks.v1+cell": {
     "cellMetadata": {
      "byteLimit": 2048000,
      "rowLimit": 10000
     },
     "inputWidgets": {},
     "nuid": "55301de4-ac23-4b1c-a8f2-87fa73cfc0c4",
     "showTitle": false,
     "tableResultSettingsMap": {},
     "title": ""
    }
   },
   "outputs": [],
   "source": [
    "df_json_2 = spark\\\n",
    "            .read\\\n",
    "            .json(\"/FileStore/tables/drivers-1.json\")"
   ]
  },
  {
   "cell_type": "code",
   "execution_count": 0,
   "metadata": {
    "application/vnd.databricks.v1+cell": {
     "cellMetadata": {
      "byteLimit": 2048000,
      "rowLimit": 10000
     },
     "inputWidgets": {},
     "nuid": "d8cfeb77-b027-421d-98f5-824e6c60442e",
     "showTitle": false,
     "tableResultSettingsMap": {},
     "title": ""
    }
   },
   "outputs": [
    {
     "output_type": "display_data",
     "data": {
      "text/html": [
       "<style scoped>\n",
       "  .table-result-container {\n",
       "    max-height: 300px;\n",
       "    overflow: auto;\n",
       "  }\n",
       "  table, th, td {\n",
       "    border: 1px solid black;\n",
       "    border-collapse: collapse;\n",
       "  }\n",
       "  th, td {\n",
       "    padding: 5px;\n",
       "  }\n",
       "  th {\n",
       "    text-align: left;\n",
       "  }\n",
       "</style><div class='table-result-container'><table class='table-result'><thead style='background-color: white'><tr><th>code</th><th>dob</th><th>driverId</th><th>driverRef</th><th>name</th><th>nationality</th><th>number</th><th>url</th></tr></thead><tbody><tr><td>HAM</td><td>1985-01-07</td><td>1</td><td>hamilton</td><td>List(Lewis, Hamilton)</td><td>British</td><td>44</td><td>http://en.wikipedia.org/wiki/Lewis_Hamilton</td></tr><tr><td>HEI</td><td>1977-05-10</td><td>2</td><td>heidfeld</td><td>List(Nick, Heidfeld)</td><td>German</td><td>\\N</td><td>http://en.wikipedia.org/wiki/Nick_Heidfeld</td></tr><tr><td>ROS</td><td>1985-06-27</td><td>3</td><td>rosberg</td><td>List(Nico, Rosberg)</td><td>German</td><td>6</td><td>http://en.wikipedia.org/wiki/Nico_Rosberg</td></tr><tr><td>ALO</td><td>1981-07-29</td><td>4</td><td>alonso</td><td>List(Fernando, Alonso)</td><td>Spanish</td><td>14</td><td>http://en.wikipedia.org/wiki/Fernando_Alonso</td></tr><tr><td>KOV</td><td>1981-10-19</td><td>5</td><td>kovalainen</td><td>List(Heikki, Kovalainen)</td><td>Finnish</td><td>\\N</td><td>http://en.wikipedia.org/wiki/Heikki_Kovalainen</td></tr><tr><td>NAK</td><td>1985-01-11</td><td>6</td><td>nakajima</td><td>List(Kazuki, Nakajima)</td><td>Japanese</td><td>\\N</td><td>http://en.wikipedia.org/wiki/Kazuki_Nakajima</td></tr><tr><td>BOU</td><td>1979-02-28</td><td>7</td><td>bourdais</td><td>List(Sébastien, Bourdais)</td><td>French</td><td>\\N</td><td>http://en.wikipedia.org/wiki/S%C3%A9bastien_Bourdais</td></tr><tr><td>RAI</td><td>1979-10-17</td><td>8</td><td>raikkonen</td><td>List(Kimi, Räikkönen)</td><td>Finnish</td><td>7</td><td>http://en.wikipedia.org/wiki/Kimi_R%C3%A4ikk%C3%B6nen</td></tr><tr><td>KUB</td><td>1984-12-07</td><td>9</td><td>kubica</td><td>List(Robert, Kubica)</td><td>Polish</td><td>88</td><td>http://en.wikipedia.org/wiki/Robert_Kubica</td></tr><tr><td>GLO</td><td>1982-03-18</td><td>10</td><td>glock</td><td>List(Timo, Glock)</td><td>German</td><td>\\N</td><td>http://en.wikipedia.org/wiki/Timo_Glock</td></tr></tbody></table></div>"
      ]
     },
     "metadata": {
      "application/vnd.databricks.v1+output": {
       "addedWidgets": {},
       "aggData": [],
       "aggError": "",
       "aggOverflow": false,
       "aggSchema": [],
       "aggSeriesLimitReached": false,
       "aggType": "",
       "arguments": {},
       "columnCustomDisplayInfos": {},
       "data": [
        [
         "HAM",
         "1985-01-07",
         1,
         "hamilton",
         [
          "Lewis",
          "Hamilton"
         ],
         "British",
         "44",
         "http://en.wikipedia.org/wiki/Lewis_Hamilton"
        ],
        [
         "HEI",
         "1977-05-10",
         2,
         "heidfeld",
         [
          "Nick",
          "Heidfeld"
         ],
         "German",
         "\\N",
         "http://en.wikipedia.org/wiki/Nick_Heidfeld"
        ],
        [
         "ROS",
         "1985-06-27",
         3,
         "rosberg",
         [
          "Nico",
          "Rosberg"
         ],
         "German",
         "6",
         "http://en.wikipedia.org/wiki/Nico_Rosberg"
        ],
        [
         "ALO",
         "1981-07-29",
         4,
         "alonso",
         [
          "Fernando",
          "Alonso"
         ],
         "Spanish",
         "14",
         "http://en.wikipedia.org/wiki/Fernando_Alonso"
        ],
        [
         "KOV",
         "1981-10-19",
         5,
         "kovalainen",
         [
          "Heikki",
          "Kovalainen"
         ],
         "Finnish",
         "\\N",
         "http://en.wikipedia.org/wiki/Heikki_Kovalainen"
        ],
        [
         "NAK",
         "1985-01-11",
         6,
         "nakajima",
         [
          "Kazuki",
          "Nakajima"
         ],
         "Japanese",
         "\\N",
         "http://en.wikipedia.org/wiki/Kazuki_Nakajima"
        ],
        [
         "BOU",
         "1979-02-28",
         7,
         "bourdais",
         [
          "Sébastien",
          "Bourdais"
         ],
         "French",
         "\\N",
         "http://en.wikipedia.org/wiki/S%C3%A9bastien_Bourdais"
        ],
        [
         "RAI",
         "1979-10-17",
         8,
         "raikkonen",
         [
          "Kimi",
          "Räikkönen"
         ],
         "Finnish",
         "7",
         "http://en.wikipedia.org/wiki/Kimi_R%C3%A4ikk%C3%B6nen"
        ],
        [
         "KUB",
         "1984-12-07",
         9,
         "kubica",
         [
          "Robert",
          "Kubica"
         ],
         "Polish",
         "88",
         "http://en.wikipedia.org/wiki/Robert_Kubica"
        ],
        [
         "GLO",
         "1982-03-18",
         10,
         "glock",
         [
          "Timo",
          "Glock"
         ],
         "German",
         "\\N",
         "http://en.wikipedia.org/wiki/Timo_Glock"
        ]
       ],
       "datasetInfos": [],
       "dbfsResultPath": null,
       "isJsonSchema": true,
       "metadata": {},
       "overflow": false,
       "plotOptions": {
        "customPlotOptions": {},
        "displayType": "table",
        "pivotAggregation": null,
        "pivotColumns": null,
        "xColumns": null,
        "yColumns": null
       },
       "removedWidgets": [],
       "schema": [
        {
         "metadata": "{}",
         "name": "code",
         "type": "\"string\""
        },
        {
         "metadata": "{}",
         "name": "dob",
         "type": "\"string\""
        },
        {
         "metadata": "{}",
         "name": "driverId",
         "type": "\"long\""
        },
        {
         "metadata": "{}",
         "name": "driverRef",
         "type": "\"string\""
        },
        {
         "metadata": "{}",
         "name": "name",
         "type": "{\"type\":\"struct\",\"fields\":[{\"name\":\"forename\",\"type\":\"string\",\"nullable\":true,\"metadata\":{}},{\"name\":\"surname\",\"type\":\"string\",\"nullable\":true,\"metadata\":{}}]}"
        },
        {
         "metadata": "{}",
         "name": "nationality",
         "type": "\"string\""
        },
        {
         "metadata": "{}",
         "name": "number",
         "type": "\"string\""
        },
        {
         "metadata": "{}",
         "name": "url",
         "type": "\"string\""
        }
       ],
       "type": "table"
      }
     },
     "output_type": "display_data"
    }
   ],
   "source": [
    "df_json_2.limit(10).display()"
   ]
  },
  {
   "cell_type": "markdown",
   "metadata": {
    "application/vnd.databricks.v1+cell": {
     "cellMetadata": {
      "byteLimit": 2048000,
      "rowLimit": 10000
     },
     "inputWidgets": {},
     "nuid": "4844a5ca-fba1-4428-928a-2bb3643ccd05",
     "showTitle": false,
     "tableResultSettingsMap": {},
     "title": ""
    }
   },
   "source": [
    "## Schema defination"
   ]
  },
  {
   "cell_type": "markdown",
   "metadata": {
    "application/vnd.databricks.v1+cell": {
     "cellMetadata": {
      "byteLimit": 2048000,
      "rowLimit": 10000
     },
     "inputWidgets": {},
     "nuid": "80190ed3-19e4-4cd5-b0a9-fd25124d6646",
     "showTitle": false,
     "tableResultSettingsMap": {},
     "title": ""
    }
   },
   "source": [
    "### DDL schema"
   ]
  },
  {
   "cell_type": "code",
   "execution_count": 0,
   "metadata": {
    "application/vnd.databricks.v1+cell": {
     "cellMetadata": {
      "byteLimit": 2048000,
      "rowLimit": 10000
     },
     "inputWidgets": {},
     "nuid": "c307c8ef-dae3-4355-a324-731a19de0836",
     "showTitle": false,
     "tableResultSettingsMap": {},
     "title": ""
    }
   },
   "outputs": [],
   "source": [
    "ddl_schema = '''\n",
    "                Item_Identifier  STRING ,\n",
    "                Item_Weight  STRING ,\n",
    "                Item_Fat_Content  STRING ,\n",
    "                Item_Visibility  DOUBLE ,\n",
    "                Item_Type  STRING ,\n",
    "                Item_MRP  DOUBLE ,\n",
    "                Outlet_Identifier  STRING ,\n",
    "                Outlet_Establishment_Year  INT ,\n",
    "                Outlet_Size  STRING ,\n",
    "                Outlet_Location_Type  STRING ,\n",
    "                Outlet_Type  STRING ,\n",
    "                Item_Outlet_Sales  DOUBLE \n",
    "            '''"
   ]
  },
  {
   "cell_type": "code",
   "execution_count": 0,
   "metadata": {
    "application/vnd.databricks.v1+cell": {
     "cellMetadata": {
      "byteLimit": 2048000,
      "rowLimit": 10000
     },
     "inputWidgets": {},
     "nuid": "9871448e-5ea2-41db-90b4-4112e928927e",
     "showTitle": false,
     "tableResultSettingsMap": {},
     "title": ""
    }
   },
   "outputs": [],
   "source": [
    "df_schema_1 = spark\\\n",
    "                .read\\\n",
    "                .format(\"csv\")\\\n",
    "                .schema(ddl_schema)\\\n",
    "                .option(\"header\",True)\\\n",
    "                .load(\"/FileStore/tables/BigMart_Sales.csv\")"
   ]
  },
  {
   "cell_type": "code",
   "execution_count": 0,
   "metadata": {
    "application/vnd.databricks.v1+cell": {
     "cellMetadata": {
      "byteLimit": 2048000,
      "rowLimit": 10000
     },
     "inputWidgets": {},
     "nuid": "bffe7db1-ed38-4038-855e-05552e56c0a5",
     "showTitle": false,
     "tableResultSettingsMap": {},
     "title": ""
    }
   },
   "outputs": [
    {
     "output_type": "display_data",
     "data": {
      "text/html": [
       "<style scoped>\n",
       "  .table-result-container {\n",
       "    max-height: 300px;\n",
       "    overflow: auto;\n",
       "  }\n",
       "  table, th, td {\n",
       "    border: 1px solid black;\n",
       "    border-collapse: collapse;\n",
       "  }\n",
       "  th, td {\n",
       "    padding: 5px;\n",
       "  }\n",
       "  th {\n",
       "    text-align: left;\n",
       "  }\n",
       "</style><div class='table-result-container'><table class='table-result'><thead style='background-color: white'><tr><th>Item_Identifier</th><th>Item_Weight</th><th>Item_Fat_Content</th><th>Item_Visibility</th><th>Item_Type</th><th>Item_MRP</th><th>Outlet_Identifier</th><th>Outlet_Establishment_Year</th><th>Outlet_Size</th><th>Outlet_Location_Type</th><th>Outlet_Type</th><th>Item_Outlet_Sales</th></tr></thead><tbody><tr><td>FDA15</td><td>9.3</td><td>Low Fat</td><td>0.016047301</td><td>Dairy</td><td>249.8092</td><td>OUT049</td><td>1999</td><td>Medium</td><td>Tier 1</td><td>Supermarket Type1</td><td>3735.138</td></tr><tr><td>DRC01</td><td>5.92</td><td>Regular</td><td>0.019278216</td><td>Soft Drinks</td><td>48.2692</td><td>OUT018</td><td>2009</td><td>Medium</td><td>Tier 3</td><td>Supermarket Type2</td><td>443.4228</td></tr><tr><td>FDN15</td><td>17.5</td><td>Low Fat</td><td>0.016760075</td><td>Meat</td><td>141.618</td><td>OUT049</td><td>1999</td><td>Medium</td><td>Tier 1</td><td>Supermarket Type1</td><td>2097.27</td></tr><tr><td>FDX07</td><td>19.2</td><td>Regular</td><td>0.0</td><td>Fruits and Vegetables</td><td>182.095</td><td>OUT010</td><td>1998</td><td>null</td><td>Tier 3</td><td>Grocery Store</td><td>732.38</td></tr><tr><td>NCD19</td><td>8.93</td><td>Low Fat</td><td>0.0</td><td>Household</td><td>53.8614</td><td>OUT013</td><td>1987</td><td>High</td><td>Tier 3</td><td>Supermarket Type1</td><td>994.7052</td></tr><tr><td>FDP36</td><td>10.395</td><td>Regular</td><td>0.0</td><td>Baking Goods</td><td>51.4008</td><td>OUT018</td><td>2009</td><td>Medium</td><td>Tier 3</td><td>Supermarket Type2</td><td>556.6088</td></tr><tr><td>FDO10</td><td>13.65</td><td>Regular</td><td>0.012741089</td><td>Snack Foods</td><td>57.6588</td><td>OUT013</td><td>1987</td><td>High</td><td>Tier 3</td><td>Supermarket Type1</td><td>343.5528</td></tr><tr><td>FDP10</td><td>null</td><td>Low Fat</td><td>0.127469857</td><td>Snack Foods</td><td>107.7622</td><td>OUT027</td><td>1985</td><td>Medium</td><td>Tier 3</td><td>Supermarket Type3</td><td>4022.7636</td></tr><tr><td>FDH17</td><td>16.2</td><td>Regular</td><td>0.016687114</td><td>Frozen Foods</td><td>96.9726</td><td>OUT045</td><td>2002</td><td>null</td><td>Tier 2</td><td>Supermarket Type1</td><td>1076.5986</td></tr><tr><td>FDU28</td><td>19.2</td><td>Regular</td><td>0.09444959</td><td>Frozen Foods</td><td>187.8214</td><td>OUT017</td><td>2007</td><td>null</td><td>Tier 2</td><td>Supermarket Type1</td><td>4710.535</td></tr></tbody></table></div>"
      ]
     },
     "metadata": {
      "application/vnd.databricks.v1+output": {
       "addedWidgets": {},
       "aggData": [],
       "aggError": "",
       "aggOverflow": false,
       "aggSchema": [],
       "aggSeriesLimitReached": false,
       "aggType": "",
       "arguments": {},
       "columnCustomDisplayInfos": {},
       "data": [
        [
         "FDA15",
         "9.3",
         "Low Fat",
         0.016047301,
         "Dairy",
         249.8092,
         "OUT049",
         1999,
         "Medium",
         "Tier 1",
         "Supermarket Type1",
         3735.138
        ],
        [
         "DRC01",
         "5.92",
         "Regular",
         0.019278216,
         "Soft Drinks",
         48.2692,
         "OUT018",
         2009,
         "Medium",
         "Tier 3",
         "Supermarket Type2",
         443.4228
        ],
        [
         "FDN15",
         "17.5",
         "Low Fat",
         0.016760075,
         "Meat",
         141.618,
         "OUT049",
         1999,
         "Medium",
         "Tier 1",
         "Supermarket Type1",
         2097.27
        ],
        [
         "FDX07",
         "19.2",
         "Regular",
         0.0,
         "Fruits and Vegetables",
         182.095,
         "OUT010",
         1998,
         null,
         "Tier 3",
         "Grocery Store",
         732.38
        ],
        [
         "NCD19",
         "8.93",
         "Low Fat",
         0.0,
         "Household",
         53.8614,
         "OUT013",
         1987,
         "High",
         "Tier 3",
         "Supermarket Type1",
         994.7052
        ],
        [
         "FDP36",
         "10.395",
         "Regular",
         0.0,
         "Baking Goods",
         51.4008,
         "OUT018",
         2009,
         "Medium",
         "Tier 3",
         "Supermarket Type2",
         556.6088
        ],
        [
         "FDO10",
         "13.65",
         "Regular",
         0.012741089,
         "Snack Foods",
         57.6588,
         "OUT013",
         1987,
         "High",
         "Tier 3",
         "Supermarket Type1",
         343.5528
        ],
        [
         "FDP10",
         null,
         "Low Fat",
         0.127469857,
         "Snack Foods",
         107.7622,
         "OUT027",
         1985,
         "Medium",
         "Tier 3",
         "Supermarket Type3",
         4022.7636
        ],
        [
         "FDH17",
         "16.2",
         "Regular",
         0.016687114,
         "Frozen Foods",
         96.9726,
         "OUT045",
         2002,
         null,
         "Tier 2",
         "Supermarket Type1",
         1076.5986
        ],
        [
         "FDU28",
         "19.2",
         "Regular",
         0.09444959,
         "Frozen Foods",
         187.8214,
         "OUT017",
         2007,
         null,
         "Tier 2",
         "Supermarket Type1",
         4710.535
        ]
       ],
       "datasetInfos": [],
       "dbfsResultPath": null,
       "isJsonSchema": true,
       "metadata": {},
       "overflow": false,
       "plotOptions": {
        "customPlotOptions": {},
        "displayType": "table",
        "pivotAggregation": null,
        "pivotColumns": null,
        "xColumns": null,
        "yColumns": null
       },
       "removedWidgets": [],
       "schema": [
        {
         "metadata": "{}",
         "name": "Item_Identifier",
         "type": "\"string\""
        },
        {
         "metadata": "{}",
         "name": "Item_Weight",
         "type": "\"string\""
        },
        {
         "metadata": "{}",
         "name": "Item_Fat_Content",
         "type": "\"string\""
        },
        {
         "metadata": "{}",
         "name": "Item_Visibility",
         "type": "\"double\""
        },
        {
         "metadata": "{}",
         "name": "Item_Type",
         "type": "\"string\""
        },
        {
         "metadata": "{}",
         "name": "Item_MRP",
         "type": "\"double\""
        },
        {
         "metadata": "{}",
         "name": "Outlet_Identifier",
         "type": "\"string\""
        },
        {
         "metadata": "{}",
         "name": "Outlet_Establishment_Year",
         "type": "\"integer\""
        },
        {
         "metadata": "{}",
         "name": "Outlet_Size",
         "type": "\"string\""
        },
        {
         "metadata": "{}",
         "name": "Outlet_Location_Type",
         "type": "\"string\""
        },
        {
         "metadata": "{}",
         "name": "Outlet_Type",
         "type": "\"string\""
        },
        {
         "metadata": "{}",
         "name": "Item_Outlet_Sales",
         "type": "\"double\""
        }
       ],
       "type": "table"
      }
     },
     "output_type": "display_data"
    }
   ],
   "source": [
    "df_schema_1.limit(10).display()"
   ]
  },
  {
   "cell_type": "code",
   "execution_count": 0,
   "metadata": {
    "application/vnd.databricks.v1+cell": {
     "cellMetadata": {
      "byteLimit": 2048000,
      "rowLimit": 10000
     },
     "inputWidgets": {},
     "nuid": "44d81168-2af0-4924-ae2d-f36f5b0a9148",
     "showTitle": false,
     "tableResultSettingsMap": {},
     "title": ""
    }
   },
   "outputs": [
    {
     "output_type": "stream",
     "name": "stdout",
     "output_type": "stream",
     "text": [
      "root\n |-- Item_Identifier: string (nullable = true)\n |-- Item_Weight: string (nullable = true)\n |-- Item_Fat_Content: string (nullable = true)\n |-- Item_Visibility: double (nullable = true)\n |-- Item_Type: string (nullable = true)\n |-- Item_MRP: double (nullable = true)\n |-- Outlet_Identifier: string (nullable = true)\n |-- Outlet_Establishment_Year: integer (nullable = true)\n |-- Outlet_Size: string (nullable = true)\n |-- Outlet_Location_Type: string (nullable = true)\n |-- Outlet_Type: string (nullable = true)\n |-- Item_Outlet_Sales: double (nullable = true)\n\n"
     ]
    }
   ],
   "source": [
    "df_schema_1.printSchema()"
   ]
  },
  {
   "cell_type": "markdown",
   "metadata": {
    "application/vnd.databricks.v1+cell": {
     "cellMetadata": {
      "byteLimit": 2048000,
      "rowLimit": 10000
     },
     "inputWidgets": {},
     "nuid": "7917ad71-a58d-4cbb-a22f-06ec50599a6c",
     "showTitle": false,
     "tableResultSettingsMap": {},
     "title": ""
    }
   },
   "source": [
    "### StructType() Schema"
   ]
  },
  {
   "cell_type": "code",
   "execution_count": 0,
   "metadata": {
    "application/vnd.databricks.v1+cell": {
     "cellMetadata": {
      "byteLimit": 2048000,
      "rowLimit": 10000
     },
     "inputWidgets": {},
     "nuid": "b9203d28-fc7f-4afb-8f9d-38f6a3c5f48d",
     "showTitle": false,
     "tableResultSettingsMap": {},
     "title": ""
    }
   },
   "outputs": [],
   "source": [
    "from pyspark.sql.types import *\n",
    "from pyspark.sql.functions import *"
   ]
  },
  {
   "cell_type": "code",
   "execution_count": 0,
   "metadata": {
    "application/vnd.databricks.v1+cell": {
     "cellMetadata": {
      "byteLimit": 2048000,
      "rowLimit": 10000
     },
     "inputWidgets": {},
     "nuid": "de05f908-da03-4f5f-a99a-1d75e2474c0f",
     "showTitle": false,
     "tableResultSettingsMap": {},
     "title": ""
    }
   },
   "outputs": [],
   "source": [
    "struct_schema = StructType([\n",
    "                            StructField('Item_Identifier',StringType(),True),\n",
    "                            StructField('Item_Weight',StringType(),True),\n",
    "                            StructField('Item_Fat_Content',StringType(),True),\n",
    "                            StructField('Item_Visibility',StringType(),True),\n",
    "                            StructField('Item_Type',StringType(),True),\n",
    "                            StructField('Item_MRP',StringType(),True),\n",
    "                            StructField('Outlet_Identifier',StringType(),True),\n",
    "                            StructField('Outlet_Establishment_Year',StringType(),True),\n",
    "                            StructField('Outlet_Size',StringType(),True),\n",
    "                            StructField('Outlet_Location_Type',StringType(),True),\n",
    "                            StructField('Outlet_Type',StringType(),True),\n",
    "                            StructField('Item_Outlet_Sales',StringType(),True)\n",
    "                        ])"
   ]
  },
  {
   "cell_type": "code",
   "execution_count": 0,
   "metadata": {
    "application/vnd.databricks.v1+cell": {
     "cellMetadata": {
      "byteLimit": 2048000,
      "rowLimit": 10000
     },
     "inputWidgets": {},
     "nuid": "bf780011-b98c-4899-b2c1-a6e448539f8d",
     "showTitle": false,
     "tableResultSettingsMap": {},
     "title": ""
    }
   },
   "outputs": [],
   "source": [
    "df_schema_2 = spark\\\n",
    "                .read\\\n",
    "                .format(\"csv\")\\\n",
    "                .option(\"header\",True)\\\n",
    "                .load(\"/FileStore/tables/BigMart_Sales.csv\")"
   ]
  },
  {
   "cell_type": "code",
   "execution_count": 0,
   "metadata": {
    "application/vnd.databricks.v1+cell": {
     "cellMetadata": {
      "byteLimit": 2048000,
      "rowLimit": 10000
     },
     "inputWidgets": {},
     "nuid": "8b26fb49-eac9-4648-bf84-f247f1cde3fd",
     "showTitle": false,
     "tableResultSettingsMap": {},
     "title": ""
    }
   },
   "outputs": [
    {
     "output_type": "display_data",
     "data": {
      "text/html": [
       "<style scoped>\n",
       "  .table-result-container {\n",
       "    max-height: 300px;\n",
       "    overflow: auto;\n",
       "  }\n",
       "  table, th, td {\n",
       "    border: 1px solid black;\n",
       "    border-collapse: collapse;\n",
       "  }\n",
       "  th, td {\n",
       "    padding: 5px;\n",
       "  }\n",
       "  th {\n",
       "    text-align: left;\n",
       "  }\n",
       "</style><div class='table-result-container'><table class='table-result'><thead style='background-color: white'><tr><th>Item_Identifier</th><th>Item_Weight</th><th>Item_Fat_Content</th><th>Item_Visibility</th><th>Item_Type</th><th>Item_MRP</th><th>Outlet_Identifier</th><th>Outlet_Establishment_Year</th><th>Outlet_Size</th><th>Outlet_Location_Type</th><th>Outlet_Type</th><th>Item_Outlet_Sales</th></tr></thead><tbody><tr><td>FDA15</td><td>9.3</td><td>Low Fat</td><td>0.016047301</td><td>Dairy</td><td>249.8092</td><td>OUT049</td><td>1999</td><td>Medium</td><td>Tier 1</td><td>Supermarket Type1</td><td>3735.138</td></tr><tr><td>DRC01</td><td>5.92</td><td>Regular</td><td>0.019278216</td><td>Soft Drinks</td><td>48.2692</td><td>OUT018</td><td>2009</td><td>Medium</td><td>Tier 3</td><td>Supermarket Type2</td><td>443.4228</td></tr><tr><td>FDN15</td><td>17.5</td><td>Low Fat</td><td>0.016760075</td><td>Meat</td><td>141.618</td><td>OUT049</td><td>1999</td><td>Medium</td><td>Tier 1</td><td>Supermarket Type1</td><td>2097.27</td></tr><tr><td>FDX07</td><td>19.2</td><td>Regular</td><td>0</td><td>Fruits and Vegetables</td><td>182.095</td><td>OUT010</td><td>1998</td><td>null</td><td>Tier 3</td><td>Grocery Store</td><td>732.38</td></tr><tr><td>NCD19</td><td>8.93</td><td>Low Fat</td><td>0</td><td>Household</td><td>53.8614</td><td>OUT013</td><td>1987</td><td>High</td><td>Tier 3</td><td>Supermarket Type1</td><td>994.7052</td></tr><tr><td>FDP36</td><td>10.395</td><td>Regular</td><td>0</td><td>Baking Goods</td><td>51.4008</td><td>OUT018</td><td>2009</td><td>Medium</td><td>Tier 3</td><td>Supermarket Type2</td><td>556.6088</td></tr><tr><td>FDO10</td><td>13.65</td><td>Regular</td><td>0.012741089</td><td>Snack Foods</td><td>57.6588</td><td>OUT013</td><td>1987</td><td>High</td><td>Tier 3</td><td>Supermarket Type1</td><td>343.5528</td></tr><tr><td>FDP10</td><td>null</td><td>Low Fat</td><td>0.127469857</td><td>Snack Foods</td><td>107.7622</td><td>OUT027</td><td>1985</td><td>Medium</td><td>Tier 3</td><td>Supermarket Type3</td><td>4022.7636</td></tr><tr><td>FDH17</td><td>16.2</td><td>Regular</td><td>0.016687114</td><td>Frozen Foods</td><td>96.9726</td><td>OUT045</td><td>2002</td><td>null</td><td>Tier 2</td><td>Supermarket Type1</td><td>1076.5986</td></tr><tr><td>FDU28</td><td>19.2</td><td>Regular</td><td>0.09444959</td><td>Frozen Foods</td><td>187.8214</td><td>OUT017</td><td>2007</td><td>null</td><td>Tier 2</td><td>Supermarket Type1</td><td>4710.535</td></tr></tbody></table></div>"
      ]
     },
     "metadata": {
      "application/vnd.databricks.v1+output": {
       "addedWidgets": {},
       "aggData": [],
       "aggError": "",
       "aggOverflow": false,
       "aggSchema": [],
       "aggSeriesLimitReached": false,
       "aggType": "",
       "arguments": {},
       "columnCustomDisplayInfos": {},
       "data": [
        [
         "FDA15",
         "9.3",
         "Low Fat",
         "0.016047301",
         "Dairy",
         "249.8092",
         "OUT049",
         "1999",
         "Medium",
         "Tier 1",
         "Supermarket Type1",
         "3735.138"
        ],
        [
         "DRC01",
         "5.92",
         "Regular",
         "0.019278216",
         "Soft Drinks",
         "48.2692",
         "OUT018",
         "2009",
         "Medium",
         "Tier 3",
         "Supermarket Type2",
         "443.4228"
        ],
        [
         "FDN15",
         "17.5",
         "Low Fat",
         "0.016760075",
         "Meat",
         "141.618",
         "OUT049",
         "1999",
         "Medium",
         "Tier 1",
         "Supermarket Type1",
         "2097.27"
        ],
        [
         "FDX07",
         "19.2",
         "Regular",
         "0",
         "Fruits and Vegetables",
         "182.095",
         "OUT010",
         "1998",
         null,
         "Tier 3",
         "Grocery Store",
         "732.38"
        ],
        [
         "NCD19",
         "8.93",
         "Low Fat",
         "0",
         "Household",
         "53.8614",
         "OUT013",
         "1987",
         "High",
         "Tier 3",
         "Supermarket Type1",
         "994.7052"
        ],
        [
         "FDP36",
         "10.395",
         "Regular",
         "0",
         "Baking Goods",
         "51.4008",
         "OUT018",
         "2009",
         "Medium",
         "Tier 3",
         "Supermarket Type2",
         "556.6088"
        ],
        [
         "FDO10",
         "13.65",
         "Regular",
         "0.012741089",
         "Snack Foods",
         "57.6588",
         "OUT013",
         "1987",
         "High",
         "Tier 3",
         "Supermarket Type1",
         "343.5528"
        ],
        [
         "FDP10",
         null,
         "Low Fat",
         "0.127469857",
         "Snack Foods",
         "107.7622",
         "OUT027",
         "1985",
         "Medium",
         "Tier 3",
         "Supermarket Type3",
         "4022.7636"
        ],
        [
         "FDH17",
         "16.2",
         "Regular",
         "0.016687114",
         "Frozen Foods",
         "96.9726",
         "OUT045",
         "2002",
         null,
         "Tier 2",
         "Supermarket Type1",
         "1076.5986"
        ],
        [
         "FDU28",
         "19.2",
         "Regular",
         "0.09444959",
         "Frozen Foods",
         "187.8214",
         "OUT017",
         "2007",
         null,
         "Tier 2",
         "Supermarket Type1",
         "4710.535"
        ]
       ],
       "datasetInfos": [],
       "dbfsResultPath": null,
       "isJsonSchema": true,
       "metadata": {},
       "overflow": false,
       "plotOptions": {
        "customPlotOptions": {},
        "displayType": "table",
        "pivotAggregation": null,
        "pivotColumns": null,
        "xColumns": null,
        "yColumns": null
       },
       "removedWidgets": [],
       "schema": [
        {
         "metadata": "{}",
         "name": "Item_Identifier",
         "type": "\"string\""
        },
        {
         "metadata": "{}",
         "name": "Item_Weight",
         "type": "\"string\""
        },
        {
         "metadata": "{}",
         "name": "Item_Fat_Content",
         "type": "\"string\""
        },
        {
         "metadata": "{}",
         "name": "Item_Visibility",
         "type": "\"string\""
        },
        {
         "metadata": "{}",
         "name": "Item_Type",
         "type": "\"string\""
        },
        {
         "metadata": "{}",
         "name": "Item_MRP",
         "type": "\"string\""
        },
        {
         "metadata": "{}",
         "name": "Outlet_Identifier",
         "type": "\"string\""
        },
        {
         "metadata": "{}",
         "name": "Outlet_Establishment_Year",
         "type": "\"string\""
        },
        {
         "metadata": "{}",
         "name": "Outlet_Size",
         "type": "\"string\""
        },
        {
         "metadata": "{}",
         "name": "Outlet_Location_Type",
         "type": "\"string\""
        },
        {
         "metadata": "{}",
         "name": "Outlet_Type",
         "type": "\"string\""
        },
        {
         "metadata": "{}",
         "name": "Item_Outlet_Sales",
         "type": "\"string\""
        }
       ],
       "type": "table"
      }
     },
     "output_type": "display_data"
    }
   ],
   "source": [
    "df_schema_2.limit(10).display()"
   ]
  },
  {
   "cell_type": "code",
   "execution_count": 0,
   "metadata": {
    "application/vnd.databricks.v1+cell": {
     "cellMetadata": {
      "byteLimit": 2048000,
      "rowLimit": 10000
     },
     "inputWidgets": {},
     "nuid": "efa753ea-f64e-4aa1-ae0e-b4ecf7671711",
     "showTitle": false,
     "tableResultSettingsMap": {},
     "title": ""
    }
   },
   "outputs": [
    {
     "output_type": "stream",
     "name": "stdout",
     "output_type": "stream",
     "text": [
      "root\n |-- Item_Identifier: string (nullable = true)\n |-- Item_Weight: string (nullable = true)\n |-- Item_Fat_Content: string (nullable = true)\n |-- Item_Visibility: string (nullable = true)\n |-- Item_Type: string (nullable = true)\n |-- Item_MRP: string (nullable = true)\n |-- Outlet_Identifier: string (nullable = true)\n |-- Outlet_Establishment_Year: string (nullable = true)\n |-- Outlet_Size: string (nullable = true)\n |-- Outlet_Location_Type: string (nullable = true)\n |-- Outlet_Type: string (nullable = true)\n |-- Item_Outlet_Sales: string (nullable = true)\n\n"
     ]
    }
   ],
   "source": [
    "df_schema_2.printSchema()"
   ]
  },
  {
   "cell_type": "markdown",
   "metadata": {
    "application/vnd.databricks.v1+cell": {
     "cellMetadata": {
      "byteLimit": 2048000,
      "rowLimit": 10000
     },
     "inputWidgets": {},
     "nuid": "02c6d00e-fe43-4c78-9de7-44be86f219a6",
     "showTitle": false,
     "tableResultSettingsMap": {},
     "title": ""
    }
   },
   "source": [
    "## Transformation"
   ]
  },
  {
   "cell_type": "markdown",
   "metadata": {
    "application/vnd.databricks.v1+cell": {
     "cellMetadata": {
      "byteLimit": 2048000,
      "rowLimit": 10000
     },
     "inputWidgets": {},
     "nuid": "0f63e89a-5fb1-4471-85e0-e93960375b49",
     "showTitle": false,
     "tableResultSettingsMap": {},
     "title": ""
    }
   },
   "source": [
    "### Select"
   ]
  },
  {
   "cell_type": "code",
   "execution_count": 0,
   "metadata": {
    "application/vnd.databricks.v1+cell": {
     "cellMetadata": {
      "byteLimit": 2048000,
      "rowLimit": 10000
     },
     "inputWidgets": {},
     "nuid": "6614cccb-edc3-4366-aaae-29363bb2aded",
     "showTitle": false,
     "tableResultSettingsMap": {},
     "title": ""
    }
   },
   "outputs": [
    {
     "output_type": "display_data",
     "data": {
      "text/html": [
       "<style scoped>\n",
       "  .table-result-container {\n",
       "    max-height: 300px;\n",
       "    overflow: auto;\n",
       "  }\n",
       "  table, th, td {\n",
       "    border: 1px solid black;\n",
       "    border-collapse: collapse;\n",
       "  }\n",
       "  th, td {\n",
       "    padding: 5px;\n",
       "  }\n",
       "  th {\n",
       "    text-align: left;\n",
       "  }\n",
       "</style><div class='table-result-container'><table class='table-result'><thead style='background-color: white'><tr><th>Item_Identifier</th><th>Item_Weight</th><th>Item_Fat_Content</th></tr></thead><tbody><tr><td>FDA15</td><td>9.3</td><td>Low Fat</td></tr><tr><td>DRC01</td><td>5.92</td><td>Regular</td></tr><tr><td>FDN15</td><td>17.5</td><td>Low Fat</td></tr><tr><td>FDX07</td><td>19.2</td><td>Regular</td></tr><tr><td>NCD19</td><td>8.93</td><td>Low Fat</td></tr><tr><td>FDP36</td><td>10.395</td><td>Regular</td></tr><tr><td>FDO10</td><td>13.65</td><td>Regular</td></tr><tr><td>FDP10</td><td>null</td><td>Low Fat</td></tr><tr><td>FDH17</td><td>16.2</td><td>Regular</td></tr><tr><td>FDU28</td><td>19.2</td><td>Regular</td></tr></tbody></table></div>"
      ]
     },
     "metadata": {
      "application/vnd.databricks.v1+output": {
       "addedWidgets": {},
       "aggData": [],
       "aggError": "",
       "aggOverflow": false,
       "aggSchema": [],
       "aggSeriesLimitReached": false,
       "aggType": "",
       "arguments": {},
       "columnCustomDisplayInfos": {},
       "data": [
        [
         "FDA15",
         "9.3",
         "Low Fat"
        ],
        [
         "DRC01",
         "5.92",
         "Regular"
        ],
        [
         "FDN15",
         "17.5",
         "Low Fat"
        ],
        [
         "FDX07",
         "19.2",
         "Regular"
        ],
        [
         "NCD19",
         "8.93",
         "Low Fat"
        ],
        [
         "FDP36",
         "10.395",
         "Regular"
        ],
        [
         "FDO10",
         "13.65",
         "Regular"
        ],
        [
         "FDP10",
         null,
         "Low Fat"
        ],
        [
         "FDH17",
         "16.2",
         "Regular"
        ],
        [
         "FDU28",
         "19.2",
         "Regular"
        ]
       ],
       "datasetInfos": [],
       "dbfsResultPath": null,
       "isJsonSchema": true,
       "metadata": {},
       "overflow": false,
       "plotOptions": {
        "customPlotOptions": {},
        "displayType": "table",
        "pivotAggregation": null,
        "pivotColumns": null,
        "xColumns": null,
        "yColumns": null
       },
       "removedWidgets": [],
       "schema": [
        {
         "metadata": "{}",
         "name": "Item_Identifier",
         "type": "\"string\""
        },
        {
         "metadata": "{}",
         "name": "Item_Weight",
         "type": "\"string\""
        },
        {
         "metadata": "{}",
         "name": "Item_Fat_Content",
         "type": "\"string\""
        }
       ],
       "type": "table"
      }
     },
     "output_type": "display_data"
    }
   ],
   "source": [
    "df_schema_1.select(\"Item_Identifier\",\\\n",
    "                    \"Item_Weight\",\\\n",
    "                    \"Item_Fat_Content\")\\\n",
    "                .limit(10)\\\n",
    "                .display()"
   ]
  },
  {
   "cell_type": "code",
   "execution_count": 0,
   "metadata": {
    "application/vnd.databricks.v1+cell": {
     "cellMetadata": {
      "byteLimit": 2048000,
      "rowLimit": 10000
     },
     "inputWidgets": {},
     "nuid": "cbcdb58b-b3bc-4cfc-b1e8-f53a2b265a09",
     "showTitle": false,
     "tableResultSettingsMap": {},
     "title": ""
    }
   },
   "outputs": [
    {
     "output_type": "display_data",
     "data": {
      "text/html": [
       "<style scoped>\n",
       "  .table-result-container {\n",
       "    max-height: 300px;\n",
       "    overflow: auto;\n",
       "  }\n",
       "  table, th, td {\n",
       "    border: 1px solid black;\n",
       "    border-collapse: collapse;\n",
       "  }\n",
       "  th, td {\n",
       "    padding: 5px;\n",
       "  }\n",
       "  th {\n",
       "    text-align: left;\n",
       "  }\n",
       "</style><div class='table-result-container'><table class='table-result'><thead style='background-color: white'><tr><th>Item_Identifier</th><th>Item_Weight</th><th>Item_Fat_Content</th></tr></thead><tbody><tr><td>FDA15</td><td>9.3</td><td>Low Fat</td></tr><tr><td>DRC01</td><td>5.92</td><td>Regular</td></tr><tr><td>FDN15</td><td>17.5</td><td>Low Fat</td></tr><tr><td>FDX07</td><td>19.2</td><td>Regular</td></tr><tr><td>NCD19</td><td>8.93</td><td>Low Fat</td></tr><tr><td>FDP36</td><td>10.395</td><td>Regular</td></tr><tr><td>FDO10</td><td>13.65</td><td>Regular</td></tr><tr><td>FDP10</td><td>null</td><td>Low Fat</td></tr><tr><td>FDH17</td><td>16.2</td><td>Regular</td></tr><tr><td>FDU28</td><td>19.2</td><td>Regular</td></tr></tbody></table></div>"
      ]
     },
     "metadata": {
      "application/vnd.databricks.v1+output": {
       "addedWidgets": {},
       "aggData": [],
       "aggError": "",
       "aggOverflow": false,
       "aggSchema": [],
       "aggSeriesLimitReached": false,
       "aggType": "",
       "arguments": {},
       "columnCustomDisplayInfos": {},
       "data": [
        [
         "FDA15",
         "9.3",
         "Low Fat"
        ],
        [
         "DRC01",
         "5.92",
         "Regular"
        ],
        [
         "FDN15",
         "17.5",
         "Low Fat"
        ],
        [
         "FDX07",
         "19.2",
         "Regular"
        ],
        [
         "NCD19",
         "8.93",
         "Low Fat"
        ],
        [
         "FDP36",
         "10.395",
         "Regular"
        ],
        [
         "FDO10",
         "13.65",
         "Regular"
        ],
        [
         "FDP10",
         null,
         "Low Fat"
        ],
        [
         "FDH17",
         "16.2",
         "Regular"
        ],
        [
         "FDU28",
         "19.2",
         "Regular"
        ]
       ],
       "datasetInfos": [],
       "dbfsResultPath": null,
       "isJsonSchema": true,
       "metadata": {},
       "overflow": false,
       "plotOptions": {
        "customPlotOptions": {},
        "displayType": "table",
        "pivotAggregation": null,
        "pivotColumns": null,
        "xColumns": null,
        "yColumns": null
       },
       "removedWidgets": [],
       "schema": [
        {
         "metadata": "{}",
         "name": "Item_Identifier",
         "type": "\"string\""
        },
        {
         "metadata": "{}",
         "name": "Item_Weight",
         "type": "\"string\""
        },
        {
         "metadata": "{}",
         "name": "Item_Fat_Content",
         "type": "\"string\""
        }
       ],
       "type": "table"
      }
     },
     "output_type": "display_data"
    }
   ],
   "source": [
    "df_schema_1.select(col(\"Item_Identifier\"),\\\n",
    "                    col(\"Item_Weight\"),\\\n",
    "                    col(\"Item_Fat_Content\"))\\\n",
    "                .limit(10)\\\n",
    "                .display()"
   ]
  },
  {
   "cell_type": "markdown",
   "metadata": {
    "application/vnd.databricks.v1+cell": {
     "cellMetadata": {
      "byteLimit": 2048000,
      "rowLimit": 10000
     },
     "inputWidgets": {},
     "nuid": "4da8105c-0500-4fb9-b7f8-48600b8aacbe",
     "showTitle": false,
     "tableResultSettingsMap": {},
     "title": ""
    }
   },
   "source": [
    "#### Alias"
   ]
  },
  {
   "cell_type": "code",
   "execution_count": 0,
   "metadata": {
    "application/vnd.databricks.v1+cell": {
     "cellMetadata": {
      "byteLimit": 2048000,
      "rowLimit": 10000
     },
     "inputWidgets": {},
     "nuid": "2344a7d2-4e3b-47a5-a0ee-c4f351eeefb2",
     "showTitle": false,
     "tableResultSettingsMap": {},
     "title": ""
    }
   },
   "outputs": [
    {
     "output_type": "display_data",
     "data": {
      "text/html": [
       "<style scoped>\n",
       "  .table-result-container {\n",
       "    max-height: 300px;\n",
       "    overflow: auto;\n",
       "  }\n",
       "  table, th, td {\n",
       "    border: 1px solid black;\n",
       "    border-collapse: collapse;\n",
       "  }\n",
       "  th, td {\n",
       "    padding: 5px;\n",
       "  }\n",
       "  th {\n",
       "    text-align: left;\n",
       "  }\n",
       "</style><div class='table-result-container'><table class='table-result'><thead style='background-color: white'><tr><th>Item_ID</th></tr></thead><tbody><tr><td>FDA15</td></tr><tr><td>DRC01</td></tr><tr><td>FDN15</td></tr><tr><td>FDX07</td></tr><tr><td>NCD19</td></tr><tr><td>FDP36</td></tr><tr><td>FDO10</td></tr><tr><td>FDP10</td></tr><tr><td>FDH17</td></tr><tr><td>FDU28</td></tr></tbody></table></div>"
      ]
     },
     "metadata": {
      "application/vnd.databricks.v1+output": {
       "addedWidgets": {},
       "aggData": [],
       "aggError": "",
       "aggOverflow": false,
       "aggSchema": [],
       "aggSeriesLimitReached": false,
       "aggType": "",
       "arguments": {},
       "columnCustomDisplayInfos": {},
       "data": [
        [
         "FDA15"
        ],
        [
         "DRC01"
        ],
        [
         "FDN15"
        ],
        [
         "FDX07"
        ],
        [
         "NCD19"
        ],
        [
         "FDP36"
        ],
        [
         "FDO10"
        ],
        [
         "FDP10"
        ],
        [
         "FDH17"
        ],
        [
         "FDU28"
        ]
       ],
       "datasetInfos": [],
       "dbfsResultPath": null,
       "isJsonSchema": true,
       "metadata": {},
       "overflow": false,
       "plotOptions": {
        "customPlotOptions": {},
        "displayType": "table",
        "pivotAggregation": null,
        "pivotColumns": null,
        "xColumns": null,
        "yColumns": null
       },
       "removedWidgets": [],
       "schema": [
        {
         "metadata": "{}",
         "name": "Item_ID",
         "type": "\"string\""
        }
       ],
       "type": "table"
      }
     },
     "output_type": "display_data"
    }
   ],
   "source": [
    "df_schema_1.select(col(\"Item_Identifier\")\\\n",
    "            .alias(\"Item_ID\"))\\\n",
    "                .limit(10)\\\n",
    "            .display()"
   ]
  },
  {
   "cell_type": "markdown",
   "metadata": {
    "application/vnd.databricks.v1+cell": {
     "cellMetadata": {
      "byteLimit": 2048000,
      "rowLimit": 10000
     },
     "inputWidgets": {},
     "nuid": "1e444dc0-d45a-4623-8679-35787a231510",
     "showTitle": false,
     "tableResultSettingsMap": {},
     "title": ""
    }
   },
   "source": [
    "#### Filter"
   ]
  },
  {
   "cell_type": "markdown",
   "metadata": {
    "application/vnd.databricks.v1+cell": {
     "cellMetadata": {
      "byteLimit": 2048000,
      "rowLimit": 10000
     },
     "inputWidgets": {},
     "nuid": "da7d230a-c134-40e3-9639-7ffaa0416f22",
     "showTitle": false,
     "tableResultSettingsMap": {},
     "title": ""
    }
   },
   "source": [
    "#### Example 1"
   ]
  },
  {
   "cell_type": "code",
   "execution_count": 0,
   "metadata": {
    "application/vnd.databricks.v1+cell": {
     "cellMetadata": {
      "byteLimit": 2048000,
      "rowLimit": 10000
     },
     "inputWidgets": {},
     "nuid": "953c7fe2-3bc8-4f76-b5aa-2a7ead5a7677",
     "showTitle": false,
     "tableResultSettingsMap": {},
     "title": ""
    }
   },
   "outputs": [
    {
     "output_type": "display_data",
     "data": {
      "text/html": [
       "<style scoped>\n",
       "  .table-result-container {\n",
       "    max-height: 300px;\n",
       "    overflow: auto;\n",
       "  }\n",
       "  table, th, td {\n",
       "    border: 1px solid black;\n",
       "    border-collapse: collapse;\n",
       "  }\n",
       "  th, td {\n",
       "    padding: 5px;\n",
       "  }\n",
       "  th {\n",
       "    text-align: left;\n",
       "  }\n",
       "</style><div class='table-result-container'><table class='table-result'><thead style='background-color: white'><tr><th>Item_Identifier</th><th>Item_Weight</th><th>Item_Fat_Content</th><th>Item_Visibility</th><th>Item_Type</th><th>Item_MRP</th><th>Outlet_Identifier</th><th>Outlet_Establishment_Year</th><th>Outlet_Size</th><th>Outlet_Location_Type</th><th>Outlet_Type</th><th>Item_Outlet_Sales</th></tr></thead><tbody><tr><td>DRC01</td><td>5.92</td><td>Regular</td><td>0.019278216</td><td>Soft Drinks</td><td>48.2692</td><td>OUT018</td><td>2009</td><td>Medium</td><td>Tier 3</td><td>Supermarket Type2</td><td>443.4228</td></tr><tr><td>FDX07</td><td>19.2</td><td>Regular</td><td>0.0</td><td>Fruits and Vegetables</td><td>182.095</td><td>OUT010</td><td>1998</td><td>null</td><td>Tier 3</td><td>Grocery Store</td><td>732.38</td></tr><tr><td>FDP36</td><td>10.395</td><td>Regular</td><td>0.0</td><td>Baking Goods</td><td>51.4008</td><td>OUT018</td><td>2009</td><td>Medium</td><td>Tier 3</td><td>Supermarket Type2</td><td>556.6088</td></tr><tr><td>FDO10</td><td>13.65</td><td>Regular</td><td>0.012741089</td><td>Snack Foods</td><td>57.6588</td><td>OUT013</td><td>1987</td><td>High</td><td>Tier 3</td><td>Supermarket Type1</td><td>343.5528</td></tr><tr><td>FDH17</td><td>16.2</td><td>Regular</td><td>0.016687114</td><td>Frozen Foods</td><td>96.9726</td><td>OUT045</td><td>2002</td><td>null</td><td>Tier 2</td><td>Supermarket Type1</td><td>1076.5986</td></tr><tr><td>FDU28</td><td>19.2</td><td>Regular</td><td>0.09444959</td><td>Frozen Foods</td><td>187.8214</td><td>OUT017</td><td>2007</td><td>null</td><td>Tier 2</td><td>Supermarket Type1</td><td>4710.535</td></tr><tr><td>FDA03</td><td>18.5</td><td>Regular</td><td>0.045463773</td><td>Dairy</td><td>144.1102</td><td>OUT046</td><td>1997</td><td>Small</td><td>Tier 1</td><td>Supermarket Type1</td><td>2187.153</td></tr><tr><td>FDX32</td><td>15.1</td><td>Regular</td><td>0.1000135</td><td>Fruits and Vegetables</td><td>145.4786</td><td>OUT049</td><td>1999</td><td>Medium</td><td>Tier 1</td><td>Supermarket Type1</td><td>1589.2646</td></tr><tr><td>FDS46</td><td>17.6</td><td>Regular</td><td>0.047257328</td><td>Snack Foods</td><td>119.6782</td><td>OUT046</td><td>1997</td><td>Small</td><td>Tier 1</td><td>Supermarket Type1</td><td>2145.2076</td></tr><tr><td>FDP49</td><td>9</td><td>Regular</td><td>0.069088961</td><td>Breakfast</td><td>56.3614</td><td>OUT046</td><td>1997</td><td>Small</td><td>Tier 1</td><td>Supermarket Type1</td><td>1547.3192</td></tr></tbody></table></div>"
      ]
     },
     "metadata": {
      "application/vnd.databricks.v1+output": {
       "addedWidgets": {},
       "aggData": [],
       "aggError": "",
       "aggOverflow": false,
       "aggSchema": [],
       "aggSeriesLimitReached": false,
       "aggType": "",
       "arguments": {},
       "columnCustomDisplayInfos": {},
       "data": [
        [
         "DRC01",
         "5.92",
         "Regular",
         0.019278216,
         "Soft Drinks",
         48.2692,
         "OUT018",
         2009,
         "Medium",
         "Tier 3",
         "Supermarket Type2",
         443.4228
        ],
        [
         "FDX07",
         "19.2",
         "Regular",
         0.0,
         "Fruits and Vegetables",
         182.095,
         "OUT010",
         1998,
         null,
         "Tier 3",
         "Grocery Store",
         732.38
        ],
        [
         "FDP36",
         "10.395",
         "Regular",
         0.0,
         "Baking Goods",
         51.4008,
         "OUT018",
         2009,
         "Medium",
         "Tier 3",
         "Supermarket Type2",
         556.6088
        ],
        [
         "FDO10",
         "13.65",
         "Regular",
         0.012741089,
         "Snack Foods",
         57.6588,
         "OUT013",
         1987,
         "High",
         "Tier 3",
         "Supermarket Type1",
         343.5528
        ],
        [
         "FDH17",
         "16.2",
         "Regular",
         0.016687114,
         "Frozen Foods",
         96.9726,
         "OUT045",
         2002,
         null,
         "Tier 2",
         "Supermarket Type1",
         1076.5986
        ],
        [
         "FDU28",
         "19.2",
         "Regular",
         0.09444959,
         "Frozen Foods",
         187.8214,
         "OUT017",
         2007,
         null,
         "Tier 2",
         "Supermarket Type1",
         4710.535
        ],
        [
         "FDA03",
         "18.5",
         "Regular",
         0.045463773,
         "Dairy",
         144.1102,
         "OUT046",
         1997,
         "Small",
         "Tier 1",
         "Supermarket Type1",
         2187.153
        ],
        [
         "FDX32",
         "15.1",
         "Regular",
         0.1000135,
         "Fruits and Vegetables",
         145.4786,
         "OUT049",
         1999,
         "Medium",
         "Tier 1",
         "Supermarket Type1",
         1589.2646
        ],
        [
         "FDS46",
         "17.6",
         "Regular",
         0.047257328,
         "Snack Foods",
         119.6782,
         "OUT046",
         1997,
         "Small",
         "Tier 1",
         "Supermarket Type1",
         2145.2076
        ],
        [
         "FDP49",
         "9",
         "Regular",
         0.069088961,
         "Breakfast",
         56.3614,
         "OUT046",
         1997,
         "Small",
         "Tier 1",
         "Supermarket Type1",
         1547.3192
        ]
       ],
       "datasetInfos": [],
       "dbfsResultPath": null,
       "isJsonSchema": true,
       "metadata": {},
       "overflow": false,
       "plotOptions": {
        "customPlotOptions": {},
        "displayType": "table",
        "pivotAggregation": null,
        "pivotColumns": null,
        "xColumns": null,
        "yColumns": null
       },
       "removedWidgets": [],
       "schema": [
        {
         "metadata": "{}",
         "name": "Item_Identifier",
         "type": "\"string\""
        },
        {
         "metadata": "{}",
         "name": "Item_Weight",
         "type": "\"string\""
        },
        {
         "metadata": "{}",
         "name": "Item_Fat_Content",
         "type": "\"string\""
        },
        {
         "metadata": "{}",
         "name": "Item_Visibility",
         "type": "\"double\""
        },
        {
         "metadata": "{}",
         "name": "Item_Type",
         "type": "\"string\""
        },
        {
         "metadata": "{}",
         "name": "Item_MRP",
         "type": "\"double\""
        },
        {
         "metadata": "{}",
         "name": "Outlet_Identifier",
         "type": "\"string\""
        },
        {
         "metadata": "{}",
         "name": "Outlet_Establishment_Year",
         "type": "\"integer\""
        },
        {
         "metadata": "{}",
         "name": "Outlet_Size",
         "type": "\"string\""
        },
        {
         "metadata": "{}",
         "name": "Outlet_Location_Type",
         "type": "\"string\""
        },
        {
         "metadata": "{}",
         "name": "Outlet_Type",
         "type": "\"string\""
        },
        {
         "metadata": "{}",
         "name": "Item_Outlet_Sales",
         "type": "\"double\""
        }
       ],
       "type": "table"
      }
     },
     "output_type": "display_data"
    }
   ],
   "source": [
    "df_schema_1.filter(col(\"Item_Fat_Content\")==\"Regular\").limit(10).display()"
   ]
  },
  {
   "cell_type": "markdown",
   "metadata": {
    "application/vnd.databricks.v1+cell": {
     "cellMetadata": {
      "byteLimit": 2048000,
      "rowLimit": 10000
     },
     "inputWidgets": {},
     "nuid": "3b80a6b2-159a-4bda-81f0-c6728a4a0795",
     "showTitle": false,
     "tableResultSettingsMap": {},
     "title": ""
    }
   },
   "source": [
    "#### Example 2"
   ]
  },
  {
   "cell_type": "code",
   "execution_count": 0,
   "metadata": {
    "application/vnd.databricks.v1+cell": {
     "cellMetadata": {
      "byteLimit": 2048000,
      "rowLimit": 10000
     },
     "inputWidgets": {},
     "nuid": "e6e53b9f-81b8-4491-988c-07a450bf0e22",
     "showTitle": false,
     "tableResultSettingsMap": {},
     "title": ""
    }
   },
   "outputs": [
    {
     "output_type": "display_data",
     "data": {
      "text/html": [
       "<style scoped>\n",
       "  .table-result-container {\n",
       "    max-height: 300px;\n",
       "    overflow: auto;\n",
       "  }\n",
       "  table, th, td {\n",
       "    border: 1px solid black;\n",
       "    border-collapse: collapse;\n",
       "  }\n",
       "  th, td {\n",
       "    padding: 5px;\n",
       "  }\n",
       "  th {\n",
       "    text-align: left;\n",
       "  }\n",
       "</style><div class='table-result-container'><table class='table-result'><thead style='background-color: white'><tr><th>Item_Identifier</th><th>Item_Weight</th><th>Item_Fat_Content</th><th>Item_Visibility</th><th>Item_Type</th><th>Item_MRP</th><th>Outlet_Identifier</th><th>Outlet_Establishment_Year</th><th>Outlet_Size</th><th>Outlet_Location_Type</th><th>Outlet_Type</th><th>Item_Outlet_Sales</th></tr></thead><tbody><tr><td>DRC01</td><td>5.92</td><td>Regular</td><td>0.019278216</td><td>Soft Drinks</td><td>48.2692</td><td>OUT018</td><td>2009</td><td>Medium</td><td>Tier 3</td><td>Supermarket Type2</td><td>443.4228</td></tr><tr><td>DRZ11</td><td>8.85</td><td>Regular</td><td>0.113123893</td><td>Soft Drinks</td><td>122.5388</td><td>OUT018</td><td>2009</td><td>Medium</td><td>Tier 3</td><td>Supermarket Type2</td><td>1609.9044</td></tr><tr><td>DRF49</td><td>7.27</td><td>Low Fat</td><td>0.071077939</td><td>Soft Drinks</td><td>114.2518</td><td>OUT046</td><td>1997</td><td>Small</td><td>Tier 1</td><td>Supermarket Type1</td><td>2618.5914</td></tr><tr><td>DRK12</td><td>9.5</td><td>LF</td><td>0.041878397</td><td>Soft Drinks</td><td>32.99</td><td>OUT035</td><td>2004</td><td>Small</td><td>Tier 2</td><td>Supermarket Type1</td><td>133.16</td></tr><tr><td>DRK01</td><td>7.63</td><td>Low Fat</td><td>0.06105276</td><td>Soft Drinks</td><td>95.4436</td><td>OUT035</td><td>2004</td><td>Small</td><td>Tier 2</td><td>Supermarket Type1</td><td>1418.154</td></tr><tr><td>DRF49</td><td>7.27</td><td>Low Fat</td><td>0.071222087</td><td>Soft Drinks</td><td>113.5518</td><td>OUT045</td><td>2002</td><td>null</td><td>Tier 2</td><td>Supermarket Type1</td><td>569.259</td></tr><tr><td>DRE60</td><td>9.395</td><td>Low Fat</td><td>0.159657596</td><td>Soft Drinks</td><td>224.972</td><td>OUT045</td><td>2002</td><td>null</td><td>Tier 2</td><td>Supermarket Type1</td><td>7696.648</td></tr><tr><td>DRI01</td><td>7.97</td><td>Low Fat</td><td>0.034452949</td><td>Soft Drinks</td><td>174.0422</td><td>OUT046</td><td>1997</td><td>Small</td><td>Tier 1</td><td>Supermarket Type1</td><td>2586.633</td></tr><tr><td>DRD37</td><td>9.8</td><td>Low Fat</td><td>0.013898123</td><td>Soft Drinks</td><td>46.506</td><td>OUT018</td><td>2009</td><td>Medium</td><td>Tier 3</td><td>Supermarket Type2</td><td>372.848</td></tr><tr><td>DRH13</td><td>8.575</td><td>Low Fat</td><td>0.023983258</td><td>Soft Drinks</td><td>106.328</td><td>OUT018</td><td>2009</td><td>Medium</td><td>Tier 3</td><td>Supermarket Type2</td><td>958.752</td></tr></tbody></table></div>"
      ]
     },
     "metadata": {
      "application/vnd.databricks.v1+output": {
       "addedWidgets": {},
       "aggData": [],
       "aggError": "",
       "aggOverflow": false,
       "aggSchema": [],
       "aggSeriesLimitReached": false,
       "aggType": "",
       "arguments": {},
       "columnCustomDisplayInfos": {},
       "data": [
        [
         "DRC01",
         "5.92",
         "Regular",
         0.019278216,
         "Soft Drinks",
         48.2692,
         "OUT018",
         2009,
         "Medium",
         "Tier 3",
         "Supermarket Type2",
         443.4228
        ],
        [
         "DRZ11",
         "8.85",
         "Regular",
         0.113123893,
         "Soft Drinks",
         122.5388,
         "OUT018",
         2009,
         "Medium",
         "Tier 3",
         "Supermarket Type2",
         1609.9044
        ],
        [
         "DRF49",
         "7.27",
         "Low Fat",
         0.071077939,
         "Soft Drinks",
         114.2518,
         "OUT046",
         1997,
         "Small",
         "Tier 1",
         "Supermarket Type1",
         2618.5914
        ],
        [
         "DRK12",
         "9.5",
         "LF",
         0.041878397,
         "Soft Drinks",
         32.99,
         "OUT035",
         2004,
         "Small",
         "Tier 2",
         "Supermarket Type1",
         133.16
        ],
        [
         "DRK01",
         "7.63",
         "Low Fat",
         0.06105276,
         "Soft Drinks",
         95.4436,
         "OUT035",
         2004,
         "Small",
         "Tier 2",
         "Supermarket Type1",
         1418.154
        ],
        [
         "DRF49",
         "7.27",
         "Low Fat",
         0.071222087,
         "Soft Drinks",
         113.5518,
         "OUT045",
         2002,
         null,
         "Tier 2",
         "Supermarket Type1",
         569.259
        ],
        [
         "DRE60",
         "9.395",
         "Low Fat",
         0.159657596,
         "Soft Drinks",
         224.972,
         "OUT045",
         2002,
         null,
         "Tier 2",
         "Supermarket Type1",
         7696.648
        ],
        [
         "DRI01",
         "7.97",
         "Low Fat",
         0.034452949,
         "Soft Drinks",
         174.0422,
         "OUT046",
         1997,
         "Small",
         "Tier 1",
         "Supermarket Type1",
         2586.633
        ],
        [
         "DRD37",
         "9.8",
         "Low Fat",
         0.013898123,
         "Soft Drinks",
         46.506,
         "OUT018",
         2009,
         "Medium",
         "Tier 3",
         "Supermarket Type2",
         372.848
        ],
        [
         "DRH13",
         "8.575",
         "Low Fat",
         0.023983258,
         "Soft Drinks",
         106.328,
         "OUT018",
         2009,
         "Medium",
         "Tier 3",
         "Supermarket Type2",
         958.752
        ]
       ],
       "datasetInfos": [],
       "dbfsResultPath": null,
       "isJsonSchema": true,
       "metadata": {},
       "overflow": false,
       "plotOptions": {
        "customPlotOptions": {},
        "displayType": "table",
        "pivotAggregation": null,
        "pivotColumns": null,
        "xColumns": null,
        "yColumns": null
       },
       "removedWidgets": [],
       "schema": [
        {
         "metadata": "{}",
         "name": "Item_Identifier",
         "type": "\"string\""
        },
        {
         "metadata": "{}",
         "name": "Item_Weight",
         "type": "\"string\""
        },
        {
         "metadata": "{}",
         "name": "Item_Fat_Content",
         "type": "\"string\""
        },
        {
         "metadata": "{}",
         "name": "Item_Visibility",
         "type": "\"double\""
        },
        {
         "metadata": "{}",
         "name": "Item_Type",
         "type": "\"string\""
        },
        {
         "metadata": "{}",
         "name": "Item_MRP",
         "type": "\"double\""
        },
        {
         "metadata": "{}",
         "name": "Outlet_Identifier",
         "type": "\"string\""
        },
        {
         "metadata": "{}",
         "name": "Outlet_Establishment_Year",
         "type": "\"integer\""
        },
        {
         "metadata": "{}",
         "name": "Outlet_Size",
         "type": "\"string\""
        },
        {
         "metadata": "{}",
         "name": "Outlet_Location_Type",
         "type": "\"string\""
        },
        {
         "metadata": "{}",
         "name": "Outlet_Type",
         "type": "\"string\""
        },
        {
         "metadata": "{}",
         "name": "Item_Outlet_Sales",
         "type": "\"double\""
        }
       ],
       "type": "table"
      }
     },
     "output_type": "display_data"
    }
   ],
   "source": [
    "df_schema_1.filter(\\\n",
    "                    (col(\"Item_Type\") == \"Soft Drinks\") & (col(\"Item_Weight\") < 10)\\\n",
    "                    ).limit(10).display()"
   ]
  },
  {
   "cell_type": "markdown",
   "metadata": {
    "application/vnd.databricks.v1+cell": {
     "cellMetadata": {
      "byteLimit": 2048000,
      "rowLimit": 10000
     },
     "inputWidgets": {},
     "nuid": "1625a462-9782-4b57-a2cf-ba10041e9df2",
     "showTitle": false,
     "tableResultSettingsMap": {},
     "title": ""
    }
   },
   "source": [
    "#### Example 3"
   ]
  },
  {
   "cell_type": "code",
   "execution_count": 0,
   "metadata": {
    "application/vnd.databricks.v1+cell": {
     "cellMetadata": {
      "byteLimit": 2048000,
      "rowLimit": 10000
     },
     "inputWidgets": {},
     "nuid": "611dd8ac-9463-4f09-a39b-b9793ed6ac86",
     "showTitle": false,
     "tableResultSettingsMap": {},
     "title": ""
    }
   },
   "outputs": [
    {
     "output_type": "display_data",
     "data": {
      "text/html": [
       "<style scoped>\n",
       "  .table-result-container {\n",
       "    max-height: 300px;\n",
       "    overflow: auto;\n",
       "  }\n",
       "  table, th, td {\n",
       "    border: 1px solid black;\n",
       "    border-collapse: collapse;\n",
       "  }\n",
       "  th, td {\n",
       "    padding: 5px;\n",
       "  }\n",
       "  th {\n",
       "    text-align: left;\n",
       "  }\n",
       "</style><div class='table-result-container'><table class='table-result'><thead style='background-color: white'><tr><th>Item_Identifier</th><th>Item_Weight</th><th>Item_Fat_Content</th><th>Item_Visibility</th><th>Item_Type</th><th>Item_MRP</th><th>Outlet_Identifier</th><th>Outlet_Establishment_Year</th><th>Outlet_Size</th><th>Outlet_Location_Type</th><th>Outlet_Type</th><th>Item_Outlet_Sales</th></tr></thead><tbody><tr><td>FDH17</td><td>16.2</td><td>Regular</td><td>0.016687114</td><td>Frozen Foods</td><td>96.9726</td><td>OUT045</td><td>2002</td><td>null</td><td>Tier 2</td><td>Supermarket Type1</td><td>1076.5986</td></tr><tr><td>FDU28</td><td>19.2</td><td>Regular</td><td>0.09444959</td><td>Frozen Foods</td><td>187.8214</td><td>OUT017</td><td>2007</td><td>null</td><td>Tier 2</td><td>Supermarket Type1</td><td>4710.535</td></tr><tr><td>NCD06</td><td>13</td><td>Low Fat</td><td>0.099887103</td><td>Household</td><td>45.906</td><td>OUT017</td><td>2007</td><td>null</td><td>Tier 2</td><td>Supermarket Type1</td><td>838.908</td></tr><tr><td>FDO23</td><td>17.85</td><td>Low Fat</td><td>0.0</td><td>Breads</td><td>93.1436</td><td>OUT045</td><td>2002</td><td>null</td><td>Tier 2</td><td>Supermarket Type1</td><td>2174.5028</td></tr><tr><td>NCP05</td><td>19.6</td><td>Low Fat</td><td>0.0</td><td>Health and Hygiene</td><td>153.3024</td><td>OUT045</td><td>2002</td><td>null</td><td>Tier 2</td><td>Supermarket Type1</td><td>2428.8384</td></tr><tr><td>FDV49</td><td>10</td><td>Low Fat</td><td>0.025879577</td><td>Canned</td><td>265.2226</td><td>OUT045</td><td>2002</td><td>null</td><td>Tier 2</td><td>Supermarket Type1</td><td>5815.0972</td></tr><tr><td>FDA43</td><td>10.895</td><td>Low Fat</td><td>0.065041581</td><td>Fruits and Vegetables</td><td>196.3794</td><td>OUT017</td><td>2007</td><td>null</td><td>Tier 2</td><td>Supermarket Type1</td><td>3121.2704</td></tr><tr><td>NCP18</td><td>12.15</td><td>Low Fat</td><td>0.028760013</td><td>Household</td><td>151.4708</td><td>OUT017</td><td>2007</td><td>null</td><td>Tier 2</td><td>Supermarket Type1</td><td>4815.0656</td></tr><tr><td>NCX54</td><td>9.195</td><td>Low Fat</td><td>0.048157338</td><td>Household</td><td>106.1622</td><td>OUT045</td><td>2002</td><td>null</td><td>Tier 2</td><td>Supermarket Type1</td><td>2117.244</td></tr><tr><td>FDV27</td><td>7.97</td><td>Regular</td><td>0.040071131</td><td>Meat</td><td>87.3514</td><td>OUT045</td><td>2002</td><td>null</td><td>Tier 2</td><td>Supermarket Type1</td><td>1062.6168</td></tr></tbody></table></div>"
      ]
     },
     "metadata": {
      "application/vnd.databricks.v1+output": {
       "addedWidgets": {},
       "aggData": [],
       "aggError": "",
       "aggOverflow": false,
       "aggSchema": [],
       "aggSeriesLimitReached": false,
       "aggType": "",
       "arguments": {},
       "columnCustomDisplayInfos": {},
       "data": [
        [
         "FDH17",
         "16.2",
         "Regular",
         0.016687114,
         "Frozen Foods",
         96.9726,
         "OUT045",
         2002,
         null,
         "Tier 2",
         "Supermarket Type1",
         1076.5986
        ],
        [
         "FDU28",
         "19.2",
         "Regular",
         0.09444959,
         "Frozen Foods",
         187.8214,
         "OUT017",
         2007,
         null,
         "Tier 2",
         "Supermarket Type1",
         4710.535
        ],
        [
         "NCD06",
         "13",
         "Low Fat",
         0.099887103,
         "Household",
         45.906,
         "OUT017",
         2007,
         null,
         "Tier 2",
         "Supermarket Type1",
         838.908
        ],
        [
         "FDO23",
         "17.85",
         "Low Fat",
         0.0,
         "Breads",
         93.1436,
         "OUT045",
         2002,
         null,
         "Tier 2",
         "Supermarket Type1",
         2174.5028
        ],
        [
         "NCP05",
         "19.6",
         "Low Fat",
         0.0,
         "Health and Hygiene",
         153.3024,
         "OUT045",
         2002,
         null,
         "Tier 2",
         "Supermarket Type1",
         2428.8384
        ],
        [
         "FDV49",
         "10",
         "Low Fat",
         0.025879577,
         "Canned",
         265.2226,
         "OUT045",
         2002,
         null,
         "Tier 2",
         "Supermarket Type1",
         5815.0972
        ],
        [
         "FDA43",
         "10.895",
         "Low Fat",
         0.065041581,
         "Fruits and Vegetables",
         196.3794,
         "OUT017",
         2007,
         null,
         "Tier 2",
         "Supermarket Type1",
         3121.2704
        ],
        [
         "NCP18",
         "12.15",
         "Low Fat",
         0.028760013,
         "Household",
         151.4708,
         "OUT017",
         2007,
         null,
         "Tier 2",
         "Supermarket Type1",
         4815.0656
        ],
        [
         "NCX54",
         "9.195",
         "Low Fat",
         0.048157338,
         "Household",
         106.1622,
         "OUT045",
         2002,
         null,
         "Tier 2",
         "Supermarket Type1",
         2117.244
        ],
        [
         "FDV27",
         "7.97",
         "Regular",
         0.040071131,
         "Meat",
         87.3514,
         "OUT045",
         2002,
         null,
         "Tier 2",
         "Supermarket Type1",
         1062.6168
        ]
       ],
       "datasetInfos": [],
       "dbfsResultPath": null,
       "isJsonSchema": true,
       "metadata": {},
       "overflow": false,
       "plotOptions": {
        "customPlotOptions": {},
        "displayType": "table",
        "pivotAggregation": null,
        "pivotColumns": null,
        "xColumns": null,
        "yColumns": null
       },
       "removedWidgets": [],
       "schema": [
        {
         "metadata": "{}",
         "name": "Item_Identifier",
         "type": "\"string\""
        },
        {
         "metadata": "{}",
         "name": "Item_Weight",
         "type": "\"string\""
        },
        {
         "metadata": "{}",
         "name": "Item_Fat_Content",
         "type": "\"string\""
        },
        {
         "metadata": "{}",
         "name": "Item_Visibility",
         "type": "\"double\""
        },
        {
         "metadata": "{}",
         "name": "Item_Type",
         "type": "\"string\""
        },
        {
         "metadata": "{}",
         "name": "Item_MRP",
         "type": "\"double\""
        },
        {
         "metadata": "{}",
         "name": "Outlet_Identifier",
         "type": "\"string\""
        },
        {
         "metadata": "{}",
         "name": "Outlet_Establishment_Year",
         "type": "\"integer\""
        },
        {
         "metadata": "{}",
         "name": "Outlet_Size",
         "type": "\"string\""
        },
        {
         "metadata": "{}",
         "name": "Outlet_Location_Type",
         "type": "\"string\""
        },
        {
         "metadata": "{}",
         "name": "Outlet_Type",
         "type": "\"string\""
        },
        {
         "metadata": "{}",
         "name": "Item_Outlet_Sales",
         "type": "\"double\""
        }
       ],
       "type": "table"
      }
     },
     "output_type": "display_data"
    }
   ],
   "source": [
    "df_schema_1.filter(\\\n",
    "                (col(\"Outlet_Location_Type\").isin(\"Tier 1\",\"Tier 2\"))\\\n",
    "                    & (col(\"Outlet_Size\").isNull()))\\\n",
    "            .limit(10)\\\n",
    "            .display()"
   ]
  },
  {
   "cell_type": "markdown",
   "metadata": {
    "application/vnd.databricks.v1+cell": {
     "cellMetadata": {
      "byteLimit": 2048000,
      "rowLimit": 10000
     },
     "inputWidgets": {},
     "nuid": "e5cbdbe9-f103-480a-9404-6aa1acb46f02",
     "showTitle": false,
     "tableResultSettingsMap": {},
     "title": ""
    }
   },
   "source": [
    "#### withColumnRenamed"
   ]
  },
  {
   "cell_type": "code",
   "execution_count": 0,
   "metadata": {
    "application/vnd.databricks.v1+cell": {
     "cellMetadata": {
      "byteLimit": 2048000,
      "rowLimit": 10000
     },
     "inputWidgets": {},
     "nuid": "8067e165-98a3-48e2-8a13-c299fb949525",
     "showTitle": false,
     "tableResultSettingsMap": {},
     "title": ""
    }
   },
   "outputs": [
    {
     "output_type": "display_data",
     "data": {
      "text/html": [
       "<style scoped>\n",
       "  .table-result-container {\n",
       "    max-height: 300px;\n",
       "    overflow: auto;\n",
       "  }\n",
       "  table, th, td {\n",
       "    border: 1px solid black;\n",
       "    border-collapse: collapse;\n",
       "  }\n",
       "  th, td {\n",
       "    padding: 5px;\n",
       "  }\n",
       "  th {\n",
       "    text-align: left;\n",
       "  }\n",
       "</style><div class='table-result-container'><table class='table-result'><thead style='background-color: white'><tr><th>Item_Identifier</th><th>Item_WT</th><th>Item_Fat_Content</th><th>Item_Visibility</th><th>Item_Type</th><th>Item_MRP</th><th>Outlet_Identifier</th><th>Outlet_Establishment_Year</th><th>Outlet_Size</th><th>Outlet_Location_Type</th><th>Outlet_Type</th><th>Item_Outlet_Sales</th></tr></thead><tbody><tr><td>FDA15</td><td>9.3</td><td>Low Fat</td><td>0.016047301</td><td>Dairy</td><td>249.8092</td><td>OUT049</td><td>1999</td><td>Medium</td><td>Tier 1</td><td>Supermarket Type1</td><td>3735.138</td></tr><tr><td>DRC01</td><td>5.92</td><td>Regular</td><td>0.019278216</td><td>Soft Drinks</td><td>48.2692</td><td>OUT018</td><td>2009</td><td>Medium</td><td>Tier 3</td><td>Supermarket Type2</td><td>443.4228</td></tr><tr><td>FDN15</td><td>17.5</td><td>Low Fat</td><td>0.016760075</td><td>Meat</td><td>141.618</td><td>OUT049</td><td>1999</td><td>Medium</td><td>Tier 1</td><td>Supermarket Type1</td><td>2097.27</td></tr><tr><td>FDX07</td><td>19.2</td><td>Regular</td><td>0.0</td><td>Fruits and Vegetables</td><td>182.095</td><td>OUT010</td><td>1998</td><td>null</td><td>Tier 3</td><td>Grocery Store</td><td>732.38</td></tr><tr><td>NCD19</td><td>8.93</td><td>Low Fat</td><td>0.0</td><td>Household</td><td>53.8614</td><td>OUT013</td><td>1987</td><td>High</td><td>Tier 3</td><td>Supermarket Type1</td><td>994.7052</td></tr><tr><td>FDP36</td><td>10.395</td><td>Regular</td><td>0.0</td><td>Baking Goods</td><td>51.4008</td><td>OUT018</td><td>2009</td><td>Medium</td><td>Tier 3</td><td>Supermarket Type2</td><td>556.6088</td></tr><tr><td>FDO10</td><td>13.65</td><td>Regular</td><td>0.012741089</td><td>Snack Foods</td><td>57.6588</td><td>OUT013</td><td>1987</td><td>High</td><td>Tier 3</td><td>Supermarket Type1</td><td>343.5528</td></tr><tr><td>FDP10</td><td>null</td><td>Low Fat</td><td>0.127469857</td><td>Snack Foods</td><td>107.7622</td><td>OUT027</td><td>1985</td><td>Medium</td><td>Tier 3</td><td>Supermarket Type3</td><td>4022.7636</td></tr><tr><td>FDH17</td><td>16.2</td><td>Regular</td><td>0.016687114</td><td>Frozen Foods</td><td>96.9726</td><td>OUT045</td><td>2002</td><td>null</td><td>Tier 2</td><td>Supermarket Type1</td><td>1076.5986</td></tr><tr><td>FDU28</td><td>19.2</td><td>Regular</td><td>0.09444959</td><td>Frozen Foods</td><td>187.8214</td><td>OUT017</td><td>2007</td><td>null</td><td>Tier 2</td><td>Supermarket Type1</td><td>4710.535</td></tr></tbody></table></div>"
      ]
     },
     "metadata": {
      "application/vnd.databricks.v1+output": {
       "addedWidgets": {},
       "aggData": [],
       "aggError": "",
       "aggOverflow": false,
       "aggSchema": [],
       "aggSeriesLimitReached": false,
       "aggType": "",
       "arguments": {},
       "columnCustomDisplayInfos": {},
       "data": [
        [
         "FDA15",
         "9.3",
         "Low Fat",
         0.016047301,
         "Dairy",
         249.8092,
         "OUT049",
         1999,
         "Medium",
         "Tier 1",
         "Supermarket Type1",
         3735.138
        ],
        [
         "DRC01",
         "5.92",
         "Regular",
         0.019278216,
         "Soft Drinks",
         48.2692,
         "OUT018",
         2009,
         "Medium",
         "Tier 3",
         "Supermarket Type2",
         443.4228
        ],
        [
         "FDN15",
         "17.5",
         "Low Fat",
         0.016760075,
         "Meat",
         141.618,
         "OUT049",
         1999,
         "Medium",
         "Tier 1",
         "Supermarket Type1",
         2097.27
        ],
        [
         "FDX07",
         "19.2",
         "Regular",
         0.0,
         "Fruits and Vegetables",
         182.095,
         "OUT010",
         1998,
         null,
         "Tier 3",
         "Grocery Store",
         732.38
        ],
        [
         "NCD19",
         "8.93",
         "Low Fat",
         0.0,
         "Household",
         53.8614,
         "OUT013",
         1987,
         "High",
         "Tier 3",
         "Supermarket Type1",
         994.7052
        ],
        [
         "FDP36",
         "10.395",
         "Regular",
         0.0,
         "Baking Goods",
         51.4008,
         "OUT018",
         2009,
         "Medium",
         "Tier 3",
         "Supermarket Type2",
         556.6088
        ],
        [
         "FDO10",
         "13.65",
         "Regular",
         0.012741089,
         "Snack Foods",
         57.6588,
         "OUT013",
         1987,
         "High",
         "Tier 3",
         "Supermarket Type1",
         343.5528
        ],
        [
         "FDP10",
         null,
         "Low Fat",
         0.127469857,
         "Snack Foods",
         107.7622,
         "OUT027",
         1985,
         "Medium",
         "Tier 3",
         "Supermarket Type3",
         4022.7636
        ],
        [
         "FDH17",
         "16.2",
         "Regular",
         0.016687114,
         "Frozen Foods",
         96.9726,
         "OUT045",
         2002,
         null,
         "Tier 2",
         "Supermarket Type1",
         1076.5986
        ],
        [
         "FDU28",
         "19.2",
         "Regular",
         0.09444959,
         "Frozen Foods",
         187.8214,
         "OUT017",
         2007,
         null,
         "Tier 2",
         "Supermarket Type1",
         4710.535
        ]
       ],
       "datasetInfos": [],
       "dbfsResultPath": null,
       "isJsonSchema": true,
       "metadata": {},
       "overflow": false,
       "plotOptions": {
        "customPlotOptions": {},
        "displayType": "table",
        "pivotAggregation": null,
        "pivotColumns": null,
        "xColumns": null,
        "yColumns": null
       },
       "removedWidgets": [],
       "schema": [
        {
         "metadata": "{}",
         "name": "Item_Identifier",
         "type": "\"string\""
        },
        {
         "metadata": "{}",
         "name": "Item_WT",
         "type": "\"string\""
        },
        {
         "metadata": "{}",
         "name": "Item_Fat_Content",
         "type": "\"string\""
        },
        {
         "metadata": "{}",
         "name": "Item_Visibility",
         "type": "\"double\""
        },
        {
         "metadata": "{}",
         "name": "Item_Type",
         "type": "\"string\""
        },
        {
         "metadata": "{}",
         "name": "Item_MRP",
         "type": "\"double\""
        },
        {
         "metadata": "{}",
         "name": "Outlet_Identifier",
         "type": "\"string\""
        },
        {
         "metadata": "{}",
         "name": "Outlet_Establishment_Year",
         "type": "\"integer\""
        },
        {
         "metadata": "{}",
         "name": "Outlet_Size",
         "type": "\"string\""
        },
        {
         "metadata": "{}",
         "name": "Outlet_Location_Type",
         "type": "\"string\""
        },
        {
         "metadata": "{}",
         "name": "Outlet_Type",
         "type": "\"string\""
        },
        {
         "metadata": "{}",
         "name": "Item_Outlet_Sales",
         "type": "\"double\""
        }
       ],
       "type": "table"
      }
     },
     "output_type": "display_data"
    }
   ],
   "source": [
    "df_schema_1.withColumnRenamed(\"Item_Weight\",\"Item_WT\").limit(10).display()"
   ]
  },
  {
   "cell_type": "markdown",
   "metadata": {
    "application/vnd.databricks.v1+cell": {
     "cellMetadata": {
      "byteLimit": 2048000,
      "rowLimit": 10000
     },
     "inputWidgets": {},
     "nuid": "e368bf26-2b53-420d-947e-ef837bda2bc9",
     "showTitle": false,
     "tableResultSettingsMap": {},
     "title": ""
    }
   },
   "source": [
    "#### withColumn"
   ]
  },
  {
   "cell_type": "markdown",
   "metadata": {
    "application/vnd.databricks.v1+cell": {
     "cellMetadata": {
      "byteLimit": 2048000,
      "rowLimit": 10000
     },
     "inputWidgets": {},
     "nuid": "ae9ef13f-15e2-4931-934e-4a7dc610eefc",
     "showTitle": false,
     "tableResultSettingsMap": {},
     "title": ""
    }
   },
   "source": [
    "#### Example 1"
   ]
  },
  {
   "cell_type": "code",
   "execution_count": 0,
   "metadata": {
    "application/vnd.databricks.v1+cell": {
     "cellMetadata": {
      "byteLimit": 2048000,
      "rowLimit": 10000
     },
     "inputWidgets": {},
     "nuid": "9bfa41a0-5b6d-48b8-a031-6c6cf5098243",
     "showTitle": false,
     "tableResultSettingsMap": {},
     "title": ""
    }
   },
   "outputs": [
    {
     "output_type": "display_data",
     "data": {
      "text/html": [
       "<style scoped>\n",
       "  .table-result-container {\n",
       "    max-height: 300px;\n",
       "    overflow: auto;\n",
       "  }\n",
       "  table, th, td {\n",
       "    border: 1px solid black;\n",
       "    border-collapse: collapse;\n",
       "  }\n",
       "  th, td {\n",
       "    padding: 5px;\n",
       "  }\n",
       "  th {\n",
       "    text-align: left;\n",
       "  }\n",
       "</style><div class='table-result-container'><table class='table-result'><thead style='background-color: white'><tr><th>Item_Identifier</th><th>Item_Weight</th><th>Item_Fat_Content</th><th>Item_Visibility</th><th>Item_Type</th><th>Item_MRP</th><th>Outlet_Identifier</th><th>Outlet_Establishment_Year</th><th>Outlet_Size</th><th>Outlet_Location_Type</th><th>Outlet_Type</th><th>Item_Outlet_Sales</th><th>flag</th></tr></thead><tbody><tr><td>FDA15</td><td>9.3</td><td>Low Fat</td><td>0.016047301</td><td>Dairy</td><td>249.8092</td><td>OUT049</td><td>1999</td><td>Medium</td><td>Tier 1</td><td>Supermarket Type1</td><td>3735.138</td><td>new</td></tr><tr><td>DRC01</td><td>5.92</td><td>Regular</td><td>0.019278216</td><td>Soft Drinks</td><td>48.2692</td><td>OUT018</td><td>2009</td><td>Medium</td><td>Tier 3</td><td>Supermarket Type2</td><td>443.4228</td><td>new</td></tr><tr><td>FDN15</td><td>17.5</td><td>Low Fat</td><td>0.016760075</td><td>Meat</td><td>141.618</td><td>OUT049</td><td>1999</td><td>Medium</td><td>Tier 1</td><td>Supermarket Type1</td><td>2097.27</td><td>new</td></tr><tr><td>FDX07</td><td>19.2</td><td>Regular</td><td>0.0</td><td>Fruits and Vegetables</td><td>182.095</td><td>OUT010</td><td>1998</td><td>null</td><td>Tier 3</td><td>Grocery Store</td><td>732.38</td><td>new</td></tr><tr><td>NCD19</td><td>8.93</td><td>Low Fat</td><td>0.0</td><td>Household</td><td>53.8614</td><td>OUT013</td><td>1987</td><td>High</td><td>Tier 3</td><td>Supermarket Type1</td><td>994.7052</td><td>new</td></tr><tr><td>FDP36</td><td>10.395</td><td>Regular</td><td>0.0</td><td>Baking Goods</td><td>51.4008</td><td>OUT018</td><td>2009</td><td>Medium</td><td>Tier 3</td><td>Supermarket Type2</td><td>556.6088</td><td>new</td></tr><tr><td>FDO10</td><td>13.65</td><td>Regular</td><td>0.012741089</td><td>Snack Foods</td><td>57.6588</td><td>OUT013</td><td>1987</td><td>High</td><td>Tier 3</td><td>Supermarket Type1</td><td>343.5528</td><td>new</td></tr><tr><td>FDP10</td><td>null</td><td>Low Fat</td><td>0.127469857</td><td>Snack Foods</td><td>107.7622</td><td>OUT027</td><td>1985</td><td>Medium</td><td>Tier 3</td><td>Supermarket Type3</td><td>4022.7636</td><td>new</td></tr><tr><td>FDH17</td><td>16.2</td><td>Regular</td><td>0.016687114</td><td>Frozen Foods</td><td>96.9726</td><td>OUT045</td><td>2002</td><td>null</td><td>Tier 2</td><td>Supermarket Type1</td><td>1076.5986</td><td>new</td></tr><tr><td>FDU28</td><td>19.2</td><td>Regular</td><td>0.09444959</td><td>Frozen Foods</td><td>187.8214</td><td>OUT017</td><td>2007</td><td>null</td><td>Tier 2</td><td>Supermarket Type1</td><td>4710.535</td><td>new</td></tr></tbody></table></div>"
      ]
     },
     "metadata": {
      "application/vnd.databricks.v1+output": {
       "addedWidgets": {},
       "aggData": [],
       "aggError": "",
       "aggOverflow": false,
       "aggSchema": [],
       "aggSeriesLimitReached": false,
       "aggType": "",
       "arguments": {},
       "columnCustomDisplayInfos": {},
       "data": [
        [
         "FDA15",
         "9.3",
         "Low Fat",
         0.016047301,
         "Dairy",
         249.8092,
         "OUT049",
         1999,
         "Medium",
         "Tier 1",
         "Supermarket Type1",
         3735.138,
         "new"
        ],
        [
         "DRC01",
         "5.92",
         "Regular",
         0.019278216,
         "Soft Drinks",
         48.2692,
         "OUT018",
         2009,
         "Medium",
         "Tier 3",
         "Supermarket Type2",
         443.4228,
         "new"
        ],
        [
         "FDN15",
         "17.5",
         "Low Fat",
         0.016760075,
         "Meat",
         141.618,
         "OUT049",
         1999,
         "Medium",
         "Tier 1",
         "Supermarket Type1",
         2097.27,
         "new"
        ],
        [
         "FDX07",
         "19.2",
         "Regular",
         0.0,
         "Fruits and Vegetables",
         182.095,
         "OUT010",
         1998,
         null,
         "Tier 3",
         "Grocery Store",
         732.38,
         "new"
        ],
        [
         "NCD19",
         "8.93",
         "Low Fat",
         0.0,
         "Household",
         53.8614,
         "OUT013",
         1987,
         "High",
         "Tier 3",
         "Supermarket Type1",
         994.7052,
         "new"
        ],
        [
         "FDP36",
         "10.395",
         "Regular",
         0.0,
         "Baking Goods",
         51.4008,
         "OUT018",
         2009,
         "Medium",
         "Tier 3",
         "Supermarket Type2",
         556.6088,
         "new"
        ],
        [
         "FDO10",
         "13.65",
         "Regular",
         0.012741089,
         "Snack Foods",
         57.6588,
         "OUT013",
         1987,
         "High",
         "Tier 3",
         "Supermarket Type1",
         343.5528,
         "new"
        ],
        [
         "FDP10",
         null,
         "Low Fat",
         0.127469857,
         "Snack Foods",
         107.7622,
         "OUT027",
         1985,
         "Medium",
         "Tier 3",
         "Supermarket Type3",
         4022.7636,
         "new"
        ],
        [
         "FDH17",
         "16.2",
         "Regular",
         0.016687114,
         "Frozen Foods",
         96.9726,
         "OUT045",
         2002,
         null,
         "Tier 2",
         "Supermarket Type1",
         1076.5986,
         "new"
        ],
        [
         "FDU28",
         "19.2",
         "Regular",
         0.09444959,
         "Frozen Foods",
         187.8214,
         "OUT017",
         2007,
         null,
         "Tier 2",
         "Supermarket Type1",
         4710.535,
         "new"
        ]
       ],
       "datasetInfos": [],
       "dbfsResultPath": null,
       "isJsonSchema": true,
       "metadata": {},
       "overflow": false,
       "plotOptions": {
        "customPlotOptions": {},
        "displayType": "table",
        "pivotAggregation": null,
        "pivotColumns": null,
        "xColumns": null,
        "yColumns": null
       },
       "removedWidgets": [],
       "schema": [
        {
         "metadata": "{}",
         "name": "Item_Identifier",
         "type": "\"string\""
        },
        {
         "metadata": "{}",
         "name": "Item_Weight",
         "type": "\"string\""
        },
        {
         "metadata": "{}",
         "name": "Item_Fat_Content",
         "type": "\"string\""
        },
        {
         "metadata": "{}",
         "name": "Item_Visibility",
         "type": "\"double\""
        },
        {
         "metadata": "{}",
         "name": "Item_Type",
         "type": "\"string\""
        },
        {
         "metadata": "{}",
         "name": "Item_MRP",
         "type": "\"double\""
        },
        {
         "metadata": "{}",
         "name": "Outlet_Identifier",
         "type": "\"string\""
        },
        {
         "metadata": "{}",
         "name": "Outlet_Establishment_Year",
         "type": "\"integer\""
        },
        {
         "metadata": "{}",
         "name": "Outlet_Size",
         "type": "\"string\""
        },
        {
         "metadata": "{}",
         "name": "Outlet_Location_Type",
         "type": "\"string\""
        },
        {
         "metadata": "{}",
         "name": "Outlet_Type",
         "type": "\"string\""
        },
        {
         "metadata": "{}",
         "name": "Item_Outlet_Sales",
         "type": "\"double\""
        },
        {
         "metadata": "{}",
         "name": "flag",
         "type": "\"string\""
        }
       ],
       "type": "table"
      }
     },
     "output_type": "display_data"
    }
   ],
   "source": [
    "df_schema_1.withColumn(\"flag\",lit(\"new\")).limit(10).display()"
   ]
  },
  {
   "cell_type": "code",
   "execution_count": 0,
   "metadata": {
    "application/vnd.databricks.v1+cell": {
     "cellMetadata": {
      "byteLimit": 2048000,
      "rowLimit": 10000
     },
     "inputWidgets": {},
     "nuid": "e9d3ecbe-c5f3-4555-be69-6b972271795b",
     "showTitle": false,
     "tableResultSettingsMap": {},
     "title": ""
    }
   },
   "outputs": [
    {
     "output_type": "display_data",
     "data": {
      "text/html": [
       "<style scoped>\n",
       "  .table-result-container {\n",
       "    max-height: 300px;\n",
       "    overflow: auto;\n",
       "  }\n",
       "  table, th, td {\n",
       "    border: 1px solid black;\n",
       "    border-collapse: collapse;\n",
       "  }\n",
       "  th, td {\n",
       "    padding: 5px;\n",
       "  }\n",
       "  th {\n",
       "    text-align: left;\n",
       "  }\n",
       "</style><div class='table-result-container'><table class='table-result'><thead style='background-color: white'><tr><th>Item_Identifier</th><th>Item_Weight</th><th>Item_Fat_Content</th><th>Item_Visibility</th><th>Item_Type</th><th>Item_MRP</th><th>Outlet_Identifier</th><th>Outlet_Establishment_Year</th><th>Outlet_Size</th><th>Outlet_Location_Type</th><th>Outlet_Type</th><th>Item_Outlet_Sales</th><th>Multiple</th></tr></thead><tbody><tr><td>FDA15</td><td>9.3</td><td>Low Fat</td><td>0.016047301</td><td>Dairy</td><td>249.8092</td><td>OUT049</td><td>1999</td><td>Medium</td><td>Tier 1</td><td>Supermarket Type1</td><td>3735.138</td><td>2323.2255600000003</td></tr><tr><td>DRC01</td><td>5.92</td><td>Regular</td><td>0.019278216</td><td>Soft Drinks</td><td>48.2692</td><td>OUT018</td><td>2009</td><td>Medium</td><td>Tier 3</td><td>Supermarket Type2</td><td>443.4228</td><td>285.75366399999996</td></tr><tr><td>FDN15</td><td>17.5</td><td>Low Fat</td><td>0.016760075</td><td>Meat</td><td>141.618</td><td>OUT049</td><td>1999</td><td>Medium</td><td>Tier 1</td><td>Supermarket Type1</td><td>2097.27</td><td>2478.315</td></tr><tr><td>FDX07</td><td>19.2</td><td>Regular</td><td>0.0</td><td>Fruits and Vegetables</td><td>182.095</td><td>OUT010</td><td>1998</td><td>null</td><td>Tier 3</td><td>Grocery Store</td><td>732.38</td><td>3496.2239999999997</td></tr><tr><td>NCD19</td><td>8.93</td><td>Low Fat</td><td>0.0</td><td>Household</td><td>53.8614</td><td>OUT013</td><td>1987</td><td>High</td><td>Tier 3</td><td>Supermarket Type1</td><td>994.7052</td><td>480.982302</td></tr><tr><td>FDP36</td><td>10.395</td><td>Regular</td><td>0.0</td><td>Baking Goods</td><td>51.4008</td><td>OUT018</td><td>2009</td><td>Medium</td><td>Tier 3</td><td>Supermarket Type2</td><td>556.6088</td><td>534.3113159999999</td></tr><tr><td>FDO10</td><td>13.65</td><td>Regular</td><td>0.012741089</td><td>Snack Foods</td><td>57.6588</td><td>OUT013</td><td>1987</td><td>High</td><td>Tier 3</td><td>Supermarket Type1</td><td>343.5528</td><td>787.04262</td></tr><tr><td>FDP10</td><td>null</td><td>Low Fat</td><td>0.127469857</td><td>Snack Foods</td><td>107.7622</td><td>OUT027</td><td>1985</td><td>Medium</td><td>Tier 3</td><td>Supermarket Type3</td><td>4022.7636</td><td>null</td></tr><tr><td>FDH17</td><td>16.2</td><td>Regular</td><td>0.016687114</td><td>Frozen Foods</td><td>96.9726</td><td>OUT045</td><td>2002</td><td>null</td><td>Tier 2</td><td>Supermarket Type1</td><td>1076.5986</td><td>1570.9561199999998</td></tr><tr><td>FDU28</td><td>19.2</td><td>Regular</td><td>0.09444959</td><td>Frozen Foods</td><td>187.8214</td><td>OUT017</td><td>2007</td><td>null</td><td>Tier 2</td><td>Supermarket Type1</td><td>4710.535</td><td>3606.17088</td></tr></tbody></table></div>"
      ]
     },
     "metadata": {
      "application/vnd.databricks.v1+output": {
       "addedWidgets": {},
       "aggData": [],
       "aggError": "",
       "aggOverflow": false,
       "aggSchema": [],
       "aggSeriesLimitReached": false,
       "aggType": "",
       "arguments": {},
       "columnCustomDisplayInfos": {},
       "data": [
        [
         "FDA15",
         "9.3",
         "Low Fat",
         0.016047301,
         "Dairy",
         249.8092,
         "OUT049",
         1999,
         "Medium",
         "Tier 1",
         "Supermarket Type1",
         3735.138,
         2323.2255600000003
        ],
        [
         "DRC01",
         "5.92",
         "Regular",
         0.019278216,
         "Soft Drinks",
         48.2692,
         "OUT018",
         2009,
         "Medium",
         "Tier 3",
         "Supermarket Type2",
         443.4228,
         285.75366399999996
        ],
        [
         "FDN15",
         "17.5",
         "Low Fat",
         0.016760075,
         "Meat",
         141.618,
         "OUT049",
         1999,
         "Medium",
         "Tier 1",
         "Supermarket Type1",
         2097.27,
         2478.315
        ],
        [
         "FDX07",
         "19.2",
         "Regular",
         0.0,
         "Fruits and Vegetables",
         182.095,
         "OUT010",
         1998,
         null,
         "Tier 3",
         "Grocery Store",
         732.38,
         3496.2239999999997
        ],
        [
         "NCD19",
         "8.93",
         "Low Fat",
         0.0,
         "Household",
         53.8614,
         "OUT013",
         1987,
         "High",
         "Tier 3",
         "Supermarket Type1",
         994.7052,
         480.982302
        ],
        [
         "FDP36",
         "10.395",
         "Regular",
         0.0,
         "Baking Goods",
         51.4008,
         "OUT018",
         2009,
         "Medium",
         "Tier 3",
         "Supermarket Type2",
         556.6088,
         534.3113159999999
        ],
        [
         "FDO10",
         "13.65",
         "Regular",
         0.012741089,
         "Snack Foods",
         57.6588,
         "OUT013",
         1987,
         "High",
         "Tier 3",
         "Supermarket Type1",
         343.5528,
         787.04262
        ],
        [
         "FDP10",
         null,
         "Low Fat",
         0.127469857,
         "Snack Foods",
         107.7622,
         "OUT027",
         1985,
         "Medium",
         "Tier 3",
         "Supermarket Type3",
         4022.7636,
         null
        ],
        [
         "FDH17",
         "16.2",
         "Regular",
         0.016687114,
         "Frozen Foods",
         96.9726,
         "OUT045",
         2002,
         null,
         "Tier 2",
         "Supermarket Type1",
         1076.5986,
         1570.9561199999998
        ],
        [
         "FDU28",
         "19.2",
         "Regular",
         0.09444959,
         "Frozen Foods",
         187.8214,
         "OUT017",
         2007,
         null,
         "Tier 2",
         "Supermarket Type1",
         4710.535,
         3606.17088
        ]
       ],
       "datasetInfos": [],
       "dbfsResultPath": null,
       "isJsonSchema": true,
       "metadata": {},
       "overflow": false,
       "plotOptions": {
        "customPlotOptions": {},
        "displayType": "table",
        "pivotAggregation": null,
        "pivotColumns": null,
        "xColumns": null,
        "yColumns": null
       },
       "removedWidgets": [],
       "schema": [
        {
         "metadata": "{}",
         "name": "Item_Identifier",
         "type": "\"string\""
        },
        {
         "metadata": "{}",
         "name": "Item_Weight",
         "type": "\"string\""
        },
        {
         "metadata": "{}",
         "name": "Item_Fat_Content",
         "type": "\"string\""
        },
        {
         "metadata": "{}",
         "name": "Item_Visibility",
         "type": "\"double\""
        },
        {
         "metadata": "{}",
         "name": "Item_Type",
         "type": "\"string\""
        },
        {
         "metadata": "{}",
         "name": "Item_MRP",
         "type": "\"double\""
        },
        {
         "metadata": "{}",
         "name": "Outlet_Identifier",
         "type": "\"string\""
        },
        {
         "metadata": "{}",
         "name": "Outlet_Establishment_Year",
         "type": "\"integer\""
        },
        {
         "metadata": "{}",
         "name": "Outlet_Size",
         "type": "\"string\""
        },
        {
         "metadata": "{}",
         "name": "Outlet_Location_Type",
         "type": "\"string\""
        },
        {
         "metadata": "{}",
         "name": "Outlet_Type",
         "type": "\"string\""
        },
        {
         "metadata": "{}",
         "name": "Item_Outlet_Sales",
         "type": "\"double\""
        },
        {
         "metadata": "{}",
         "name": "Multiple",
         "type": "\"double\""
        }
       ],
       "type": "table"
      }
     },
     "output_type": "display_data"
    }
   ],
   "source": [
    "df_schema_1.withColumn(\"Multiple\",col(\"Item_weight\")*col(\"Item_MRP\")).limit(10).display()"
   ]
  },
  {
   "cell_type": "markdown",
   "metadata": {
    "application/vnd.databricks.v1+cell": {
     "cellMetadata": {
      "byteLimit": 2048000,
      "rowLimit": 10000
     },
     "inputWidgets": {},
     "nuid": "880646a9-d0eb-4107-9336-f24c033afdaf",
     "showTitle": false,
     "tableResultSettingsMap": {},
     "title": ""
    }
   },
   "source": [
    "####Example 2"
   ]
  },
  {
   "cell_type": "code",
   "execution_count": 0,
   "metadata": {
    "application/vnd.databricks.v1+cell": {
     "cellMetadata": {
      "byteLimit": 2048000,
      "rowLimit": 10000
     },
     "inputWidgets": {},
     "nuid": "d522acbd-a5c7-470e-ac27-37a5cd88ac1d",
     "showTitle": false,
     "tableResultSettingsMap": {},
     "title": ""
    }
   },
   "outputs": [
    {
     "output_type": "display_data",
     "data": {
      "text/html": [
       "<style scoped>\n",
       "  .table-result-container {\n",
       "    max-height: 300px;\n",
       "    overflow: auto;\n",
       "  }\n",
       "  table, th, td {\n",
       "    border: 1px solid black;\n",
       "    border-collapse: collapse;\n",
       "  }\n",
       "  th, td {\n",
       "    padding: 5px;\n",
       "  }\n",
       "  th {\n",
       "    text-align: left;\n",
       "  }\n",
       "</style><div class='table-result-container'><table class='table-result'><thead style='background-color: white'><tr><th>Item_Identifier</th><th>Item_Weight</th><th>Item_Fat_Content</th><th>Item_Visibility</th><th>Item_Type</th><th>Item_MRP</th><th>Outlet_Identifier</th><th>Outlet_Establishment_Year</th><th>Outlet_Size</th><th>Outlet_Location_Type</th><th>Outlet_Type</th><th>Item_Outlet_Sales</th></tr></thead><tbody><tr><td>FDA15</td><td>9.3</td><td>LF</td><td>0.016047301</td><td>Dairy</td><td>249.8092</td><td>OUT049</td><td>1999</td><td>Medium</td><td>Tier 1</td><td>Supermarket Type1</td><td>3735.138</td></tr><tr><td>DRC01</td><td>5.92</td><td>Reg</td><td>0.019278216</td><td>Soft Drinks</td><td>48.2692</td><td>OUT018</td><td>2009</td><td>Medium</td><td>Tier 3</td><td>Supermarket Type2</td><td>443.4228</td></tr><tr><td>FDN15</td><td>17.5</td><td>LF</td><td>0.016760075</td><td>Meat</td><td>141.618</td><td>OUT049</td><td>1999</td><td>Medium</td><td>Tier 1</td><td>Supermarket Type1</td><td>2097.27</td></tr><tr><td>FDX07</td><td>19.2</td><td>Reg</td><td>0.0</td><td>Fruits and Vegetables</td><td>182.095</td><td>OUT010</td><td>1998</td><td>null</td><td>Tier 3</td><td>Grocery Store</td><td>732.38</td></tr><tr><td>NCD19</td><td>8.93</td><td>LF</td><td>0.0</td><td>Household</td><td>53.8614</td><td>OUT013</td><td>1987</td><td>High</td><td>Tier 3</td><td>Supermarket Type1</td><td>994.7052</td></tr><tr><td>FDP36</td><td>10.395</td><td>Reg</td><td>0.0</td><td>Baking Goods</td><td>51.4008</td><td>OUT018</td><td>2009</td><td>Medium</td><td>Tier 3</td><td>Supermarket Type2</td><td>556.6088</td></tr><tr><td>FDO10</td><td>13.65</td><td>Reg</td><td>0.012741089</td><td>Snack Foods</td><td>57.6588</td><td>OUT013</td><td>1987</td><td>High</td><td>Tier 3</td><td>Supermarket Type1</td><td>343.5528</td></tr><tr><td>FDP10</td><td>null</td><td>LF</td><td>0.127469857</td><td>Snack Foods</td><td>107.7622</td><td>OUT027</td><td>1985</td><td>Medium</td><td>Tier 3</td><td>Supermarket Type3</td><td>4022.7636</td></tr><tr><td>FDH17</td><td>16.2</td><td>Reg</td><td>0.016687114</td><td>Frozen Foods</td><td>96.9726</td><td>OUT045</td><td>2002</td><td>null</td><td>Tier 2</td><td>Supermarket Type1</td><td>1076.5986</td></tr><tr><td>FDU28</td><td>19.2</td><td>Reg</td><td>0.09444959</td><td>Frozen Foods</td><td>187.8214</td><td>OUT017</td><td>2007</td><td>null</td><td>Tier 2</td><td>Supermarket Type1</td><td>4710.535</td></tr></tbody></table></div>"
      ]
     },
     "metadata": {
      "application/vnd.databricks.v1+output": {
       "addedWidgets": {},
       "aggData": [],
       "aggError": "",
       "aggOverflow": false,
       "aggSchema": [],
       "aggSeriesLimitReached": false,
       "aggType": "",
       "arguments": {},
       "columnCustomDisplayInfos": {},
       "data": [
        [
         "FDA15",
         "9.3",
         "LF",
         0.016047301,
         "Dairy",
         249.8092,
         "OUT049",
         1999,
         "Medium",
         "Tier 1",
         "Supermarket Type1",
         3735.138
        ],
        [
         "DRC01",
         "5.92",
         "Reg",
         0.019278216,
         "Soft Drinks",
         48.2692,
         "OUT018",
         2009,
         "Medium",
         "Tier 3",
         "Supermarket Type2",
         443.4228
        ],
        [
         "FDN15",
         "17.5",
         "LF",
         0.016760075,
         "Meat",
         141.618,
         "OUT049",
         1999,
         "Medium",
         "Tier 1",
         "Supermarket Type1",
         2097.27
        ],
        [
         "FDX07",
         "19.2",
         "Reg",
         0.0,
         "Fruits and Vegetables",
         182.095,
         "OUT010",
         1998,
         null,
         "Tier 3",
         "Grocery Store",
         732.38
        ],
        [
         "NCD19",
         "8.93",
         "LF",
         0.0,
         "Household",
         53.8614,
         "OUT013",
         1987,
         "High",
         "Tier 3",
         "Supermarket Type1",
         994.7052
        ],
        [
         "FDP36",
         "10.395",
         "Reg",
         0.0,
         "Baking Goods",
         51.4008,
         "OUT018",
         2009,
         "Medium",
         "Tier 3",
         "Supermarket Type2",
         556.6088
        ],
        [
         "FDO10",
         "13.65",
         "Reg",
         0.012741089,
         "Snack Foods",
         57.6588,
         "OUT013",
         1987,
         "High",
         "Tier 3",
         "Supermarket Type1",
         343.5528
        ],
        [
         "FDP10",
         null,
         "LF",
         0.127469857,
         "Snack Foods",
         107.7622,
         "OUT027",
         1985,
         "Medium",
         "Tier 3",
         "Supermarket Type3",
         4022.7636
        ],
        [
         "FDH17",
         "16.2",
         "Reg",
         0.016687114,
         "Frozen Foods",
         96.9726,
         "OUT045",
         2002,
         null,
         "Tier 2",
         "Supermarket Type1",
         1076.5986
        ],
        [
         "FDU28",
         "19.2",
         "Reg",
         0.09444959,
         "Frozen Foods",
         187.8214,
         "OUT017",
         2007,
         null,
         "Tier 2",
         "Supermarket Type1",
         4710.535
        ]
       ],
       "datasetInfos": [],
       "dbfsResultPath": null,
       "isJsonSchema": true,
       "metadata": {},
       "overflow": false,
       "plotOptions": {
        "customPlotOptions": {},
        "displayType": "table",
        "pivotAggregation": null,
        "pivotColumns": null,
        "xColumns": null,
        "yColumns": null
       },
       "removedWidgets": [],
       "schema": [
        {
         "metadata": "{}",
         "name": "Item_Identifier",
         "type": "\"string\""
        },
        {
         "metadata": "{}",
         "name": "Item_Weight",
         "type": "\"string\""
        },
        {
         "metadata": "{}",
         "name": "Item_Fat_Content",
         "type": "\"string\""
        },
        {
         "metadata": "{}",
         "name": "Item_Visibility",
         "type": "\"double\""
        },
        {
         "metadata": "{}",
         "name": "Item_Type",
         "type": "\"string\""
        },
        {
         "metadata": "{}",
         "name": "Item_MRP",
         "type": "\"double\""
        },
        {
         "metadata": "{}",
         "name": "Outlet_Identifier",
         "type": "\"string\""
        },
        {
         "metadata": "{}",
         "name": "Outlet_Establishment_Year",
         "type": "\"integer\""
        },
        {
         "metadata": "{}",
         "name": "Outlet_Size",
         "type": "\"string\""
        },
        {
         "metadata": "{}",
         "name": "Outlet_Location_Type",
         "type": "\"string\""
        },
        {
         "metadata": "{}",
         "name": "Outlet_Type",
         "type": "\"string\""
        },
        {
         "metadata": "{}",
         "name": "Item_Outlet_Sales",
         "type": "\"double\""
        }
       ],
       "type": "table"
      }
     },
     "output_type": "display_data"
    }
   ],
   "source": [
    "df_schema_1.withColumn(\"Item_Fat_Content\",regexp_replace(col(\"Item_Fat_Content\"),\"Regular\",\"Reg\"))\\\n",
    "            .withColumn(\"Item_Fat_Content\",regexp_replace(col(\"Item_Fat_Content\"),\"Low Fat\",\"LF\"))\\\n",
    "            .limit(10)\\\n",
    "            .display()"
   ]
  },
  {
   "cell_type": "markdown",
   "metadata": {
    "application/vnd.databricks.v1+cell": {
     "cellMetadata": {
      "byteLimit": 2048000,
      "rowLimit": 10000
     },
     "inputWidgets": {},
     "nuid": "01853e5d-e987-4373-bbf8-e8aa507ccb03",
     "showTitle": false,
     "tableResultSettingsMap": {},
     "title": ""
    }
   },
   "source": [
    "#### Type Casting"
   ]
  },
  {
   "cell_type": "code",
   "execution_count": 0,
   "metadata": {
    "application/vnd.databricks.v1+cell": {
     "cellMetadata": {
      "byteLimit": 2048000,
      "rowLimit": 10000
     },
     "inputWidgets": {},
     "nuid": "b781dd99-4a95-4e9c-89aa-52dd2dae7faa",
     "showTitle": false,
     "tableResultSettingsMap": {},
     "title": ""
    }
   },
   "outputs": [
    {
     "output_type": "stream",
     "name": "stdout",
     "output_type": "stream",
     "text": [
      "root\n |-- Item_Identifier: string (nullable = true)\n |-- Item_Weight: string (nullable = true)\n |-- Item_Fat_Content: string (nullable = true)\n |-- Item_Visibility: double (nullable = true)\n |-- Item_Type: string (nullable = true)\n |-- Item_MRP: double (nullable = true)\n |-- Outlet_Identifier: string (nullable = true)\n |-- Outlet_Establishment_Year: integer (nullable = true)\n |-- Outlet_Size: string (nullable = true)\n |-- Outlet_Location_Type: string (nullable = true)\n |-- Outlet_Type: string (nullable = true)\n |-- Item_Outlet_Sales: double (nullable = true)\n\n"
     ]
    }
   ],
   "source": [
    "df_type_cast = df_csv_1.withColumn('Item_Weight', col('Item_Weight').cast(StringType()))\n",
    "df_type_cast.printSchema() "
   ]
  },
  {
   "cell_type": "markdown",
   "metadata": {
    "application/vnd.databricks.v1+cell": {
     "cellMetadata": {
      "byteLimit": 2048000,
      "rowLimit": 10000
     },
     "inputWidgets": {},
     "nuid": "8367e945-63a1-4345-bb72-ea8e73b3baa9",
     "showTitle": false,
     "tableResultSettingsMap": {},
     "title": ""
    }
   },
   "source": [
    "### sort / orderBy"
   ]
  },
  {
   "cell_type": "markdown",
   "metadata": {
    "application/vnd.databricks.v1+cell": {
     "cellMetadata": {
      "byteLimit": 2048000,
      "rowLimit": 10000
     },
     "inputWidgets": {},
     "nuid": "421ff86c-ae3c-44f3-9e1a-e4e004d725e0",
     "showTitle": false,
     "tableResultSettingsMap": {},
     "title": ""
    }
   },
   "source": [
    "### Example 1"
   ]
  },
  {
   "cell_type": "code",
   "execution_count": 0,
   "metadata": {
    "application/vnd.databricks.v1+cell": {
     "cellMetadata": {
      "byteLimit": 2048000,
      "rowLimit": 10000
     },
     "inputWidgets": {},
     "nuid": "e21fa011-d5e9-43a8-a70e-0a21a017ba80",
     "showTitle": false,
     "tableResultSettingsMap": {},
     "title": ""
    }
   },
   "outputs": [
    {
     "output_type": "display_data",
     "data": {
      "text/html": [
       "<style scoped>\n",
       "  .table-result-container {\n",
       "    max-height: 300px;\n",
       "    overflow: auto;\n",
       "  }\n",
       "  table, th, td {\n",
       "    border: 1px solid black;\n",
       "    border-collapse: collapse;\n",
       "  }\n",
       "  th, td {\n",
       "    padding: 5px;\n",
       "  }\n",
       "  th {\n",
       "    text-align: left;\n",
       "  }\n",
       "</style><div class='table-result-container'><table class='table-result'><thead style='background-color: white'><tr><th>Item_Identifier</th><th>Item_Weight</th><th>Item_Fat_Content</th><th>Item_Visibility</th><th>Item_Type</th><th>Item_MRP</th><th>Outlet_Identifier</th><th>Outlet_Establishment_Year</th><th>Outlet_Size</th><th>Outlet_Location_Type</th><th>Outlet_Type</th><th>Item_Outlet_Sales</th></tr></thead><tbody><tr><td>FDC02</td><td>21.35</td><td>Low Fat</td><td>0.115194717</td><td>Canned</td><td>258.3278</td><td>OUT010</td><td>1998</td><td>null</td><td>Tier 3</td><td>Grocery Store</td><td>520.6556</td></tr><tr><td>FDC02</td><td>21.35</td><td>Low Fat</td><td>0.069102831</td><td>Canned</td><td>259.9278</td><td>OUT018</td><td>2009</td><td>Medium</td><td>Tier 3</td><td>Supermarket Type2</td><td>6768.5228</td></tr><tr><td>FDC02</td><td>21.35</td><td>Low Fat</td><td>0.068809463</td><td>Canned</td><td>258.5278</td><td>OUT035</td><td>2004</td><td>Small</td><td>Tier 2</td><td>Supermarket Type1</td><td>5206.556</td></tr><tr><td>FDC02</td><td>21.35</td><td>Low Fat</td><td>0.068765205</td><td>Canned</td><td>260.4278</td><td>OUT013</td><td>1987</td><td>High</td><td>Tier 3</td><td>Supermarket Type1</td><td>3644.5892</td></tr><tr><td>FDR07</td><td>21.35</td><td>Low Fat</td><td>0.130127365</td><td>Fruits and Vegetables</td><td>96.2094</td><td>OUT010</td><td>1998</td><td>null</td><td>Tier 3</td><td>Grocery Store</td><td>190.4188</td></tr><tr><td>FDC02</td><td>21.35</td><td>Low Fat</td><td>0.068822477</td><td>Canned</td><td>258.3278</td><td>OUT046</td><td>1997</td><td>Small</td><td>Tier 1</td><td>Supermarket Type1</td><td>7028.8506</td></tr><tr><td>FDR07</td><td>21.35</td><td>Low Fat</td><td>0.078060605</td><td>Fruits and Vegetables</td><td>96.0094</td><td>OUT018</td><td>2009</td><td>Medium</td><td>Tier 3</td><td>Supermarket Type2</td><td>380.8376</td></tr><tr><td>FDT03</td><td>21.25</td><td>Low Fat</td><td>0.01005532</td><td>Meat</td><td>183.1608</td><td>OUT017</td><td>2007</td><td>null</td><td>Tier 2</td><td>Supermarket Type1</td><td>2756.412</td></tr><tr><td>FDT03</td><td>21.25</td><td>Low Fat</td><td>0.009996872</td><td>Meat</td><td>185.5608</td><td>OUT035</td><td>2004</td><td>Small</td><td>Tier 2</td><td>Supermarket Type1</td><td>3123.9336</td></tr><tr><td>NCO42</td><td>21.25</td><td>LF</td><td>0.024650932</td><td>Household</td><td>146.0102</td><td>OUT035</td><td>2004</td><td>Small</td><td>Tier 2</td><td>Supermarket Type1</td><td>2916.204</td></tr></tbody></table></div>"
      ]
     },
     "metadata": {
      "application/vnd.databricks.v1+output": {
       "addedWidgets": {},
       "aggData": [],
       "aggError": "",
       "aggOverflow": false,
       "aggSchema": [],
       "aggSeriesLimitReached": false,
       "aggType": "",
       "arguments": {},
       "columnCustomDisplayInfos": {},
       "data": [
        [
         "FDC02",
         21.35,
         "Low Fat",
         0.115194717,
         "Canned",
         258.3278,
         "OUT010",
         1998,
         null,
         "Tier 3",
         "Grocery Store",
         520.6556
        ],
        [
         "FDC02",
         21.35,
         "Low Fat",
         0.069102831,
         "Canned",
         259.9278,
         "OUT018",
         2009,
         "Medium",
         "Tier 3",
         "Supermarket Type2",
         6768.5228
        ],
        [
         "FDC02",
         21.35,
         "Low Fat",
         0.068809463,
         "Canned",
         258.5278,
         "OUT035",
         2004,
         "Small",
         "Tier 2",
         "Supermarket Type1",
         5206.556
        ],
        [
         "FDC02",
         21.35,
         "Low Fat",
         0.068765205,
         "Canned",
         260.4278,
         "OUT013",
         1987,
         "High",
         "Tier 3",
         "Supermarket Type1",
         3644.5892
        ],
        [
         "FDR07",
         21.35,
         "Low Fat",
         0.130127365,
         "Fruits and Vegetables",
         96.2094,
         "OUT010",
         1998,
         null,
         "Tier 3",
         "Grocery Store",
         190.4188
        ],
        [
         "FDC02",
         21.35,
         "Low Fat",
         0.068822477,
         "Canned",
         258.3278,
         "OUT046",
         1997,
         "Small",
         "Tier 1",
         "Supermarket Type1",
         7028.8506
        ],
        [
         "FDR07",
         21.35,
         "Low Fat",
         0.078060605,
         "Fruits and Vegetables",
         96.0094,
         "OUT018",
         2009,
         "Medium",
         "Tier 3",
         "Supermarket Type2",
         380.8376
        ],
        [
         "FDT03",
         21.25,
         "Low Fat",
         0.01005532,
         "Meat",
         183.1608,
         "OUT017",
         2007,
         null,
         "Tier 2",
         "Supermarket Type1",
         2756.412
        ],
        [
         "FDT03",
         21.25,
         "Low Fat",
         0.009996872,
         "Meat",
         185.5608,
         "OUT035",
         2004,
         "Small",
         "Tier 2",
         "Supermarket Type1",
         3123.9336
        ],
        [
         "NCO42",
         21.25,
         "LF",
         0.024650932,
         "Household",
         146.0102,
         "OUT035",
         2004,
         "Small",
         "Tier 2",
         "Supermarket Type1",
         2916.204
        ]
       ],
       "datasetInfos": [],
       "dbfsResultPath": null,
       "isJsonSchema": true,
       "metadata": {},
       "overflow": false,
       "plotOptions": {
        "customPlotOptions": {},
        "displayType": "table",
        "pivotAggregation": null,
        "pivotColumns": null,
        "xColumns": null,
        "yColumns": null
       },
       "removedWidgets": [],
       "schema": [
        {
         "metadata": "{}",
         "name": "Item_Identifier",
         "type": "\"string\""
        },
        {
         "metadata": "{}",
         "name": "Item_Weight",
         "type": "\"double\""
        },
        {
         "metadata": "{}",
         "name": "Item_Fat_Content",
         "type": "\"string\""
        },
        {
         "metadata": "{}",
         "name": "Item_Visibility",
         "type": "\"double\""
        },
        {
         "metadata": "{}",
         "name": "Item_Type",
         "type": "\"string\""
        },
        {
         "metadata": "{}",
         "name": "Item_MRP",
         "type": "\"double\""
        },
        {
         "metadata": "{}",
         "name": "Outlet_Identifier",
         "type": "\"string\""
        },
        {
         "metadata": "{}",
         "name": "Outlet_Establishment_Year",
         "type": "\"integer\""
        },
        {
         "metadata": "{}",
         "name": "Outlet_Size",
         "type": "\"string\""
        },
        {
         "metadata": "{}",
         "name": "Outlet_Location_Type",
         "type": "\"string\""
        },
        {
         "metadata": "{}",
         "name": "Outlet_Type",
         "type": "\"string\""
        },
        {
         "metadata": "{}",
         "name": "Item_Outlet_Sales",
         "type": "\"double\""
        }
       ],
       "type": "table"
      }
     },
     "output_type": "display_data"
    }
   ],
   "source": [
    "df_csv_1.sort(col(\"Item_Weight\")\\\n",
    "        .desc())\\\n",
    "        .limit(10)\\\n",
    "        .display()"
   ]
  },
  {
   "cell_type": "markdown",
   "metadata": {
    "application/vnd.databricks.v1+cell": {
     "cellMetadata": {
      "byteLimit": 2048000,
      "rowLimit": 10000
     },
     "inputWidgets": {},
     "nuid": "895720c1-ee67-4829-8079-e16343b622dd",
     "showTitle": false,
     "tableResultSettingsMap": {},
     "title": ""
    }
   },
   "source": [
    "### Example 2"
   ]
  },
  {
   "cell_type": "code",
   "execution_count": 0,
   "metadata": {
    "application/vnd.databricks.v1+cell": {
     "cellMetadata": {
      "byteLimit": 2048000,
      "rowLimit": 10000
     },
     "inputWidgets": {},
     "nuid": "0fac4a8d-4d2e-4735-a92b-89c4df6aff20",
     "showTitle": false,
     "tableResultSettingsMap": {},
     "title": ""
    }
   },
   "outputs": [
    {
     "output_type": "display_data",
     "data": {
      "text/html": [
       "<style scoped>\n",
       "  .table-result-container {\n",
       "    max-height: 300px;\n",
       "    overflow: auto;\n",
       "  }\n",
       "  table, th, td {\n",
       "    border: 1px solid black;\n",
       "    border-collapse: collapse;\n",
       "  }\n",
       "  th, td {\n",
       "    padding: 5px;\n",
       "  }\n",
       "  th {\n",
       "    text-align: left;\n",
       "  }\n",
       "</style><div class='table-result-container'><table class='table-result'><thead style='background-color: white'><tr><th>Item_Identifier</th><th>Item_Weight</th><th>Item_Fat_Content</th><th>Item_Visibility</th><th>Item_Type</th><th>Item_MRP</th><th>Outlet_Identifier</th><th>Outlet_Establishment_Year</th><th>Outlet_Size</th><th>Outlet_Location_Type</th><th>Outlet_Type</th><th>Item_Outlet_Sales</th></tr></thead><tbody><tr><td>FDP33</td><td>18.7</td><td>Low Fat</td><td>0.0</td><td>Snack Foods</td><td>256.6672</td><td>OUT018</td><td>2009</td><td>Medium</td><td>Tier 3</td><td>Supermarket Type2</td><td>3068.0064</td></tr><tr><td>NCP05</td><td>19.6</td><td>Low Fat</td><td>0.0</td><td>Health and Hygiene</td><td>153.3024</td><td>OUT045</td><td>2002</td><td>null</td><td>Tier 2</td><td>Supermarket Type1</td><td>2428.8384</td></tr><tr><td>FDV25</td><td>5.905</td><td>Low Fat</td><td>0.0</td><td>Canned</td><td>222.5456</td><td>OUT045</td><td>2002</td><td>null</td><td>Tier 2</td><td>Supermarket Type1</td><td>5305.0944</td></tr><tr><td>FDX07</td><td>19.2</td><td>Regular</td><td>0.0</td><td>Fruits and Vegetables</td><td>182.095</td><td>OUT010</td><td>1998</td><td>null</td><td>Tier 3</td><td>Grocery Store</td><td>732.38</td></tr><tr><td>FDH35</td><td>18.25</td><td>Low Fat</td><td>0.0</td><td>Starchy Foods</td><td>164.7526</td><td>OUT045</td><td>2002</td><td>null</td><td>Tier 2</td><td>Supermarket Type1</td><td>4604.6728</td></tr><tr><td>NCD19</td><td>8.93</td><td>Low Fat</td><td>0.0</td><td>Household</td><td>53.8614</td><td>OUT013</td><td>1987</td><td>High</td><td>Tier 3</td><td>Supermarket Type1</td><td>994.7052</td></tr><tr><td>FDO23</td><td>17.85</td><td>Low Fat</td><td>0.0</td><td>Breads</td><td>93.1436</td><td>OUT045</td><td>2002</td><td>null</td><td>Tier 2</td><td>Supermarket Type1</td><td>2174.5028</td></tr><tr><td>FDP36</td><td>10.395</td><td>Regular</td><td>0.0</td><td>Baking Goods</td><td>51.4008</td><td>OUT018</td><td>2009</td><td>Medium</td><td>Tier 3</td><td>Supermarket Type2</td><td>556.6088</td></tr><tr><td>FDY07</td><td>11.8</td><td>Low Fat</td><td>0.0</td><td>Fruits and Vegetables</td><td>45.5402</td><td>OUT049</td><td>1999</td><td>Medium</td><td>Tier 1</td><td>Supermarket Type1</td><td>1516.0266</td></tr><tr><td>FDM20</td><td>10.0</td><td>Low Fat</td><td>0.0</td><td>Fruits and Vegetables</td><td>246.9144</td><td>OUT018</td><td>2009</td><td>Medium</td><td>Tier 3</td><td>Supermarket Type2</td><td>3185.1872</td></tr></tbody></table></div>"
      ]
     },
     "metadata": {
      "application/vnd.databricks.v1+output": {
       "addedWidgets": {},
       "aggData": [],
       "aggError": "",
       "aggOverflow": false,
       "aggSchema": [],
       "aggSeriesLimitReached": false,
       "aggType": "",
       "arguments": {},
       "columnCustomDisplayInfos": {},
       "data": [
        [
         "FDP33",
         18.7,
         "Low Fat",
         0.0,
         "Snack Foods",
         256.6672,
         "OUT018",
         2009,
         "Medium",
         "Tier 3",
         "Supermarket Type2",
         3068.0064
        ],
        [
         "NCP05",
         19.6,
         "Low Fat",
         0.0,
         "Health and Hygiene",
         153.3024,
         "OUT045",
         2002,
         null,
         "Tier 2",
         "Supermarket Type1",
         2428.8384
        ],
        [
         "FDV25",
         5.905,
         "Low Fat",
         0.0,
         "Canned",
         222.5456,
         "OUT045",
         2002,
         null,
         "Tier 2",
         "Supermarket Type1",
         5305.0944
        ],
        [
         "FDX07",
         19.2,
         "Regular",
         0.0,
         "Fruits and Vegetables",
         182.095,
         "OUT010",
         1998,
         null,
         "Tier 3",
         "Grocery Store",
         732.38
        ],
        [
         "FDH35",
         18.25,
         "Low Fat",
         0.0,
         "Starchy Foods",
         164.7526,
         "OUT045",
         2002,
         null,
         "Tier 2",
         "Supermarket Type1",
         4604.6728
        ],
        [
         "NCD19",
         8.93,
         "Low Fat",
         0.0,
         "Household",
         53.8614,
         "OUT013",
         1987,
         "High",
         "Tier 3",
         "Supermarket Type1",
         994.7052
        ],
        [
         "FDO23",
         17.85,
         "Low Fat",
         0.0,
         "Breads",
         93.1436,
         "OUT045",
         2002,
         null,
         "Tier 2",
         "Supermarket Type1",
         2174.5028
        ],
        [
         "FDP36",
         10.395,
         "Regular",
         0.0,
         "Baking Goods",
         51.4008,
         "OUT018",
         2009,
         "Medium",
         "Tier 3",
         "Supermarket Type2",
         556.6088
        ],
        [
         "FDY07",
         11.8,
         "Low Fat",
         0.0,
         "Fruits and Vegetables",
         45.5402,
         "OUT049",
         1999,
         "Medium",
         "Tier 1",
         "Supermarket Type1",
         1516.0266
        ],
        [
         "FDM20",
         10.0,
         "Low Fat",
         0.0,
         "Fruits and Vegetables",
         246.9144,
         "OUT018",
         2009,
         "Medium",
         "Tier 3",
         "Supermarket Type2",
         3185.1872
        ]
       ],
       "datasetInfos": [],
       "dbfsResultPath": null,
       "isJsonSchema": true,
       "metadata": {},
       "overflow": false,
       "plotOptions": {
        "customPlotOptions": {},
        "displayType": "table",
        "pivotAggregation": null,
        "pivotColumns": null,
        "xColumns": null,
        "yColumns": null
       },
       "removedWidgets": [],
       "schema": [
        {
         "metadata": "{}",
         "name": "Item_Identifier",
         "type": "\"string\""
        },
        {
         "metadata": "{}",
         "name": "Item_Weight",
         "type": "\"double\""
        },
        {
         "metadata": "{}",
         "name": "Item_Fat_Content",
         "type": "\"string\""
        },
        {
         "metadata": "{}",
         "name": "Item_Visibility",
         "type": "\"double\""
        },
        {
         "metadata": "{}",
         "name": "Item_Type",
         "type": "\"string\""
        },
        {
         "metadata": "{}",
         "name": "Item_MRP",
         "type": "\"double\""
        },
        {
         "metadata": "{}",
         "name": "Outlet_Identifier",
         "type": "\"string\""
        },
        {
         "metadata": "{}",
         "name": "Outlet_Establishment_Year",
         "type": "\"integer\""
        },
        {
         "metadata": "{}",
         "name": "Outlet_Size",
         "type": "\"string\""
        },
        {
         "metadata": "{}",
         "name": "Outlet_Location_Type",
         "type": "\"string\""
        },
        {
         "metadata": "{}",
         "name": "Outlet_Type",
         "type": "\"string\""
        },
        {
         "metadata": "{}",
         "name": "Item_Outlet_Sales",
         "type": "\"double\""
        }
       ],
       "type": "table"
      }
     },
     "output_type": "display_data"
    }
   ],
   "source": [
    "df_csv_1.sort(col(\"Item_Visibility\")\n",
    "        .asc())\\\n",
    "        .limit(10)\\\n",
    "        .display()"
   ]
  },
  {
   "cell_type": "markdown",
   "metadata": {
    "application/vnd.databricks.v1+cell": {
     "cellMetadata": {
      "byteLimit": 2048000,
      "rowLimit": 10000
     },
     "inputWidgets": {},
     "nuid": "dd069ddc-0e9e-4de8-b954-dfec7fad42f2",
     "showTitle": false,
     "tableResultSettingsMap": {},
     "title": ""
    }
   },
   "source": [
    "### Example 3"
   ]
  },
  {
   "cell_type": "code",
   "execution_count": 0,
   "metadata": {
    "application/vnd.databricks.v1+cell": {
     "cellMetadata": {
      "byteLimit": 2048000,
      "rowLimit": 10000
     },
     "inputWidgets": {},
     "nuid": "1187b86d-e9ac-4905-ac7e-b3d06683f524",
     "showTitle": false,
     "tableResultSettingsMap": {},
     "title": ""
    }
   },
   "outputs": [
    {
     "output_type": "display_data",
     "data": {
      "text/html": [
       "<style scoped>\n",
       "  .table-result-container {\n",
       "    max-height: 300px;\n",
       "    overflow: auto;\n",
       "  }\n",
       "  table, th, td {\n",
       "    border: 1px solid black;\n",
       "    border-collapse: collapse;\n",
       "  }\n",
       "  th, td {\n",
       "    padding: 5px;\n",
       "  }\n",
       "  th {\n",
       "    text-align: left;\n",
       "  }\n",
       "</style><div class='table-result-container'><table class='table-result'><thead style='background-color: white'><tr><th>Item_Identifier</th><th>Item_Weight</th><th>Item_Fat_Content</th><th>Item_Visibility</th><th>Item_Type</th><th>Item_MRP</th><th>Outlet_Identifier</th><th>Outlet_Establishment_Year</th><th>Outlet_Size</th><th>Outlet_Location_Type</th><th>Outlet_Type</th><th>Item_Outlet_Sales</th></tr></thead><tbody><tr><td>FDR07</td><td>21.35</td><td>Low Fat</td><td>0.130127365</td><td>Fruits and Vegetables</td><td>96.2094</td><td>OUT010</td><td>1998</td><td>null</td><td>Tier 3</td><td>Grocery Store</td><td>190.4188</td></tr><tr><td>FDC02</td><td>21.35</td><td>Low Fat</td><td>0.115194717</td><td>Canned</td><td>258.3278</td><td>OUT010</td><td>1998</td><td>null</td><td>Tier 3</td><td>Grocery Store</td><td>520.6556</td></tr><tr><td>FDR07</td><td>21.35</td><td>Low Fat</td><td>0.078060605</td><td>Fruits and Vegetables</td><td>96.0094</td><td>OUT018</td><td>2009</td><td>Medium</td><td>Tier 3</td><td>Supermarket Type2</td><td>380.8376</td></tr><tr><td>FDC02</td><td>21.35</td><td>Low Fat</td><td>0.069102831</td><td>Canned</td><td>259.9278</td><td>OUT018</td><td>2009</td><td>Medium</td><td>Tier 3</td><td>Supermarket Type2</td><td>6768.5228</td></tr><tr><td>FDC02</td><td>21.35</td><td>Low Fat</td><td>0.068822477</td><td>Canned</td><td>258.3278</td><td>OUT046</td><td>1997</td><td>Small</td><td>Tier 1</td><td>Supermarket Type1</td><td>7028.8506</td></tr><tr><td>FDC02</td><td>21.35</td><td>Low Fat</td><td>0.068809463</td><td>Canned</td><td>258.5278</td><td>OUT035</td><td>2004</td><td>Small</td><td>Tier 2</td><td>Supermarket Type1</td><td>5206.556</td></tr><tr><td>FDC02</td><td>21.35</td><td>Low Fat</td><td>0.068765205</td><td>Canned</td><td>260.4278</td><td>OUT013</td><td>1987</td><td>High</td><td>Tier 3</td><td>Supermarket Type1</td><td>3644.5892</td></tr><tr><td>FDA45</td><td>21.25</td><td>Low Fat</td><td>0.156012631</td><td>Snack Foods</td><td>177.337</td><td>OUT018</td><td>2009</td><td>Medium</td><td>Tier 3</td><td>Supermarket Type2</td><td>2822.992</td></tr><tr><td>FDA45</td><td>21.25</td><td>Low Fat</td><td>0.155694794</td><td>Snack Foods</td><td>177.637</td><td>OUT045</td><td>2002</td><td>null</td><td>Tier 2</td><td>Supermarket Type1</td><td>2999.429</td></tr><tr><td>FDA45</td><td>21.25</td><td>Low Fat</td><td>0.155350299</td><td>Snack Foods</td><td>178.237</td><td>OUT035</td><td>2004</td><td>Small</td><td>Tier 2</td><td>Supermarket Type1</td><td>529.311</td></tr></tbody></table></div>"
      ]
     },
     "metadata": {
      "application/vnd.databricks.v1+output": {
       "addedWidgets": {},
       "aggData": [],
       "aggError": "",
       "aggOverflow": false,
       "aggSchema": [],
       "aggSeriesLimitReached": false,
       "aggType": "",
       "arguments": {},
       "columnCustomDisplayInfos": {},
       "data": [
        [
         "FDR07",
         21.35,
         "Low Fat",
         0.130127365,
         "Fruits and Vegetables",
         96.2094,
         "OUT010",
         1998,
         null,
         "Tier 3",
         "Grocery Store",
         190.4188
        ],
        [
         "FDC02",
         21.35,
         "Low Fat",
         0.115194717,
         "Canned",
         258.3278,
         "OUT010",
         1998,
         null,
         "Tier 3",
         "Grocery Store",
         520.6556
        ],
        [
         "FDR07",
         21.35,
         "Low Fat",
         0.078060605,
         "Fruits and Vegetables",
         96.0094,
         "OUT018",
         2009,
         "Medium",
         "Tier 3",
         "Supermarket Type2",
         380.8376
        ],
        [
         "FDC02",
         21.35,
         "Low Fat",
         0.069102831,
         "Canned",
         259.9278,
         "OUT018",
         2009,
         "Medium",
         "Tier 3",
         "Supermarket Type2",
         6768.5228
        ],
        [
         "FDC02",
         21.35,
         "Low Fat",
         0.068822477,
         "Canned",
         258.3278,
         "OUT046",
         1997,
         "Small",
         "Tier 1",
         "Supermarket Type1",
         7028.8506
        ],
        [
         "FDC02",
         21.35,
         "Low Fat",
         0.068809463,
         "Canned",
         258.5278,
         "OUT035",
         2004,
         "Small",
         "Tier 2",
         "Supermarket Type1",
         5206.556
        ],
        [
         "FDC02",
         21.35,
         "Low Fat",
         0.068765205,
         "Canned",
         260.4278,
         "OUT013",
         1987,
         "High",
         "Tier 3",
         "Supermarket Type1",
         3644.5892
        ],
        [
         "FDA45",
         21.25,
         "Low Fat",
         0.156012631,
         "Snack Foods",
         177.337,
         "OUT018",
         2009,
         "Medium",
         "Tier 3",
         "Supermarket Type2",
         2822.992
        ],
        [
         "FDA45",
         21.25,
         "Low Fat",
         0.155694794,
         "Snack Foods",
         177.637,
         "OUT045",
         2002,
         null,
         "Tier 2",
         "Supermarket Type1",
         2999.429
        ],
        [
         "FDA45",
         21.25,
         "Low Fat",
         0.155350299,
         "Snack Foods",
         178.237,
         "OUT035",
         2004,
         "Small",
         "Tier 2",
         "Supermarket Type1",
         529.311
        ]
       ],
       "datasetInfos": [],
       "dbfsResultPath": null,
       "isJsonSchema": true,
       "metadata": {},
       "overflow": false,
       "plotOptions": {
        "customPlotOptions": {},
        "displayType": "table",
        "pivotAggregation": null,
        "pivotColumns": null,
        "xColumns": null,
        "yColumns": null
       },
       "removedWidgets": [],
       "schema": [
        {
         "metadata": "{}",
         "name": "Item_Identifier",
         "type": "\"string\""
        },
        {
         "metadata": "{}",
         "name": "Item_Weight",
         "type": "\"double\""
        },
        {
         "metadata": "{}",
         "name": "Item_Fat_Content",
         "type": "\"string\""
        },
        {
         "metadata": "{}",
         "name": "Item_Visibility",
         "type": "\"double\""
        },
        {
         "metadata": "{}",
         "name": "Item_Type",
         "type": "\"string\""
        },
        {
         "metadata": "{}",
         "name": "Item_MRP",
         "type": "\"double\""
        },
        {
         "metadata": "{}",
         "name": "Outlet_Identifier",
         "type": "\"string\""
        },
        {
         "metadata": "{}",
         "name": "Outlet_Establishment_Year",
         "type": "\"integer\""
        },
        {
         "metadata": "{}",
         "name": "Outlet_Size",
         "type": "\"string\""
        },
        {
         "metadata": "{}",
         "name": "Outlet_Location_Type",
         "type": "\"string\""
        },
        {
         "metadata": "{}",
         "name": "Outlet_Type",
         "type": "\"string\""
        },
        {
         "metadata": "{}",
         "name": "Item_Outlet_Sales",
         "type": "\"double\""
        }
       ],
       "type": "table"
      }
     },
     "output_type": "display_data"
    }
   ],
   "source": [
    "df_csv_1.sort([\"Item_Weight\",\"Item_Visibility\"],ascending = [0,0])\\\n",
    "        .limit(10)\\\n",
    "        .display()"
   ]
  },
  {
   "cell_type": "markdown",
   "metadata": {
    "application/vnd.databricks.v1+cell": {
     "cellMetadata": {
      "byteLimit": 2048000,
      "rowLimit": 10000
     },
     "inputWidgets": {},
     "nuid": "dfe0fb0a-5632-4949-ac83-8edc69cb7ca7",
     "showTitle": false,
     "tableResultSettingsMap": {},
     "title": ""
    }
   },
   "source": [
    "### Example 4"
   ]
  },
  {
   "cell_type": "code",
   "execution_count": 0,
   "metadata": {
    "application/vnd.databricks.v1+cell": {
     "cellMetadata": {
      "byteLimit": 2048000,
      "rowLimit": 10000
     },
     "inputWidgets": {},
     "nuid": "05c425ca-6005-4907-8540-f50d71d3dc2f",
     "showTitle": false,
     "tableResultSettingsMap": {},
     "title": ""
    }
   },
   "outputs": [
    {
     "output_type": "display_data",
     "data": {
      "text/html": [
       "<style scoped>\n",
       "  .table-result-container {\n",
       "    max-height: 300px;\n",
       "    overflow: auto;\n",
       "  }\n",
       "  table, th, td {\n",
       "    border: 1px solid black;\n",
       "    border-collapse: collapse;\n",
       "  }\n",
       "  th, td {\n",
       "    padding: 5px;\n",
       "  }\n",
       "  th {\n",
       "    text-align: left;\n",
       "  }\n",
       "</style><div class='table-result-container'><table class='table-result'><thead style='background-color: white'><tr><th>Item_Identifier</th><th>Item_Weight</th><th>Item_Fat_Content</th><th>Item_Visibility</th><th>Item_Type</th><th>Item_MRP</th><th>Outlet_Identifier</th><th>Outlet_Establishment_Year</th><th>Outlet_Size</th><th>Outlet_Location_Type</th><th>Outlet_Type</th><th>Item_Outlet_Sales</th></tr></thead><tbody><tr><td>FDC02</td><td>21.35</td><td>Low Fat</td><td>0.068765205</td><td>Canned</td><td>260.4278</td><td>OUT013</td><td>1987</td><td>High</td><td>Tier 3</td><td>Supermarket Type1</td><td>3644.5892</td></tr><tr><td>FDC02</td><td>21.35</td><td>Low Fat</td><td>0.068809463</td><td>Canned</td><td>258.5278</td><td>OUT035</td><td>2004</td><td>Small</td><td>Tier 2</td><td>Supermarket Type1</td><td>5206.556</td></tr><tr><td>FDC02</td><td>21.35</td><td>Low Fat</td><td>0.068822477</td><td>Canned</td><td>258.3278</td><td>OUT046</td><td>1997</td><td>Small</td><td>Tier 1</td><td>Supermarket Type1</td><td>7028.8506</td></tr><tr><td>FDC02</td><td>21.35</td><td>Low Fat</td><td>0.069102831</td><td>Canned</td><td>259.9278</td><td>OUT018</td><td>2009</td><td>Medium</td><td>Tier 3</td><td>Supermarket Type2</td><td>6768.5228</td></tr><tr><td>FDR07</td><td>21.35</td><td>Low Fat</td><td>0.078060605</td><td>Fruits and Vegetables</td><td>96.0094</td><td>OUT018</td><td>2009</td><td>Medium</td><td>Tier 3</td><td>Supermarket Type2</td><td>380.8376</td></tr><tr><td>FDC02</td><td>21.35</td><td>Low Fat</td><td>0.115194717</td><td>Canned</td><td>258.3278</td><td>OUT010</td><td>1998</td><td>null</td><td>Tier 3</td><td>Grocery Store</td><td>520.6556</td></tr><tr><td>FDR07</td><td>21.35</td><td>Low Fat</td><td>0.130127365</td><td>Fruits and Vegetables</td><td>96.2094</td><td>OUT010</td><td>1998</td><td>null</td><td>Tier 3</td><td>Grocery Store</td><td>190.4188</td></tr><tr><td>FDT03</td><td>21.25</td><td>Low Fat</td><td>0.009996872</td><td>Meat</td><td>185.5608</td><td>OUT035</td><td>2004</td><td>Small</td><td>Tier 2</td><td>Supermarket Type1</td><td>3123.9336</td></tr><tr><td>FDT03</td><td>21.25</td><td>Low Fat</td><td>0.009998763</td><td>Meat</td><td>182.3608</td><td>OUT046</td><td>1997</td><td>Small</td><td>Tier 1</td><td>Supermarket Type1</td><td>551.2824</td></tr><tr><td>FDT03</td><td>21.25</td><td>Low Fat</td><td>0.01001904</td><td>Meat</td><td>184.6608</td><td>OUT045</td><td>2002</td><td>null</td><td>Tier 2</td><td>Supermarket Type1</td><td>367.5216</td></tr></tbody></table></div>"
      ]
     },
     "metadata": {
      "application/vnd.databricks.v1+output": {
       "addedWidgets": {},
       "aggData": [],
       "aggError": "",
       "aggOverflow": false,
       "aggSchema": [],
       "aggSeriesLimitReached": false,
       "aggType": "",
       "arguments": {},
       "columnCustomDisplayInfos": {},
       "data": [
        [
         "FDC02",
         21.35,
         "Low Fat",
         0.068765205,
         "Canned",
         260.4278,
         "OUT013",
         1987,
         "High",
         "Tier 3",
         "Supermarket Type1",
         3644.5892
        ],
        [
         "FDC02",
         21.35,
         "Low Fat",
         0.068809463,
         "Canned",
         258.5278,
         "OUT035",
         2004,
         "Small",
         "Tier 2",
         "Supermarket Type1",
         5206.556
        ],
        [
         "FDC02",
         21.35,
         "Low Fat",
         0.068822477,
         "Canned",
         258.3278,
         "OUT046",
         1997,
         "Small",
         "Tier 1",
         "Supermarket Type1",
         7028.8506
        ],
        [
         "FDC02",
         21.35,
         "Low Fat",
         0.069102831,
         "Canned",
         259.9278,
         "OUT018",
         2009,
         "Medium",
         "Tier 3",
         "Supermarket Type2",
         6768.5228
        ],
        [
         "FDR07",
         21.35,
         "Low Fat",
         0.078060605,
         "Fruits and Vegetables",
         96.0094,
         "OUT018",
         2009,
         "Medium",
         "Tier 3",
         "Supermarket Type2",
         380.8376
        ],
        [
         "FDC02",
         21.35,
         "Low Fat",
         0.115194717,
         "Canned",
         258.3278,
         "OUT010",
         1998,
         null,
         "Tier 3",
         "Grocery Store",
         520.6556
        ],
        [
         "FDR07",
         21.35,
         "Low Fat",
         0.130127365,
         "Fruits and Vegetables",
         96.2094,
         "OUT010",
         1998,
         null,
         "Tier 3",
         "Grocery Store",
         190.4188
        ],
        [
         "FDT03",
         21.25,
         "Low Fat",
         0.009996872,
         "Meat",
         185.5608,
         "OUT035",
         2004,
         "Small",
         "Tier 2",
         "Supermarket Type1",
         3123.9336
        ],
        [
         "FDT03",
         21.25,
         "Low Fat",
         0.009998763,
         "Meat",
         182.3608,
         "OUT046",
         1997,
         "Small",
         "Tier 1",
         "Supermarket Type1",
         551.2824
        ],
        [
         "FDT03",
         21.25,
         "Low Fat",
         0.01001904,
         "Meat",
         184.6608,
         "OUT045",
         2002,
         null,
         "Tier 2",
         "Supermarket Type1",
         367.5216
        ]
       ],
       "datasetInfos": [],
       "dbfsResultPath": null,
       "isJsonSchema": true,
       "metadata": {},
       "overflow": false,
       "plotOptions": {
        "customPlotOptions": {},
        "displayType": "table",
        "pivotAggregation": null,
        "pivotColumns": null,
        "xColumns": null,
        "yColumns": null
       },
       "removedWidgets": [],
       "schema": [
        {
         "metadata": "{}",
         "name": "Item_Identifier",
         "type": "\"string\""
        },
        {
         "metadata": "{}",
         "name": "Item_Weight",
         "type": "\"double\""
        },
        {
         "metadata": "{}",
         "name": "Item_Fat_Content",
         "type": "\"string\""
        },
        {
         "metadata": "{}",
         "name": "Item_Visibility",
         "type": "\"double\""
        },
        {
         "metadata": "{}",
         "name": "Item_Type",
         "type": "\"string\""
        },
        {
         "metadata": "{}",
         "name": "Item_MRP",
         "type": "\"double\""
        },
        {
         "metadata": "{}",
         "name": "Outlet_Identifier",
         "type": "\"string\""
        },
        {
         "metadata": "{}",
         "name": "Outlet_Establishment_Year",
         "type": "\"integer\""
        },
        {
         "metadata": "{}",
         "name": "Outlet_Size",
         "type": "\"string\""
        },
        {
         "metadata": "{}",
         "name": "Outlet_Location_Type",
         "type": "\"string\""
        },
        {
         "metadata": "{}",
         "name": "Outlet_Type",
         "type": "\"string\""
        },
        {
         "metadata": "{}",
         "name": "Item_Outlet_Sales",
         "type": "\"double\""
        }
       ],
       "type": "table"
      }
     },
     "output_type": "display_data"
    }
   ],
   "source": [
    "df_csv_1.sort(['Item_weight','Item_Visibility'], ascending = [0,1])\\\n",
    "    .limit(10)\\\n",
    "        .display()"
   ]
  },
  {
   "cell_type": "markdown",
   "metadata": {
    "application/vnd.databricks.v1+cell": {
     "cellMetadata": {
      "byteLimit": 2048000,
      "rowLimit": 10000
     },
     "inputWidgets": {},
     "nuid": "f6676d33-8042-4a0d-bdec-48ea4ad1f2d9",
     "showTitle": false,
     "tableResultSettingsMap": {},
     "title": ""
    }
   },
   "source": [
    "### Example 5"
   ]
  },
  {
   "cell_type": "code",
   "execution_count": 0,
   "metadata": {
    "application/vnd.databricks.v1+cell": {
     "cellMetadata": {
      "byteLimit": 2048000,
      "rowLimit": 10000
     },
     "inputWidgets": {},
     "nuid": "cefb0fee-d5f6-47a5-8bea-46c1b7021804",
     "showTitle": false,
     "tableResultSettingsMap": {},
     "title": ""
    }
   },
   "outputs": [
    {
     "output_type": "display_data",
     "data": {
      "text/html": [
       "<style scoped>\n",
       "  .table-result-container {\n",
       "    max-height: 300px;\n",
       "    overflow: auto;\n",
       "  }\n",
       "  table, th, td {\n",
       "    border: 1px solid black;\n",
       "    border-collapse: collapse;\n",
       "  }\n",
       "  th, td {\n",
       "    padding: 5px;\n",
       "  }\n",
       "  th {\n",
       "    text-align: left;\n",
       "  }\n",
       "</style><div class='table-result-container'><table class='table-result'><thead style='background-color: white'><tr><th>Item_Identifier</th><th>Item_Weight</th><th>Item_Fat_Content</th><th>Item_Visibility</th><th>Item_Type</th><th>Item_MRP</th><th>Outlet_Identifier</th><th>Outlet_Establishment_Year</th><th>Outlet_Size</th><th>Outlet_Location_Type</th><th>Outlet_Type</th><th>Item_Outlet_Sales</th></tr></thead><tbody><tr><td>DRK12</td><td>null</td><td>Low Fat</td><td>0.041683481</td><td>Soft Drinks</td><td>31.29</td><td>OUT027</td><td>1985</td><td>Medium</td><td>Tier 3</td><td>Supermarket Type3</td><td>898.83</td></tr><tr><td>DRK12</td><td>9.5</td><td>Low Fat</td><td>0.041851461</td><td>Soft Drinks</td><td>31.49</td><td>OUT013</td><td>1987</td><td>High</td><td>Tier 3</td><td>Supermarket Type1</td><td>466.06</td></tr><tr><td>DRK12</td><td>9.5</td><td>Low Fat</td><td>0.042056944</td><td>Soft Drinks</td><td>31.89</td><td>OUT018</td><td>2009</td><td>Medium</td><td>Tier 3</td><td>Supermarket Type2</td><td>366.19</td></tr><tr><td>FDX59</td><td>10.195</td><td>Low Fat</td><td>0.051618281</td><td>Breads</td><td>31.9558</td><td>OUT013</td><td>1987</td><td>High</td><td>Tier 3</td><td>Supermarket Type1</td><td>373.5138</td></tr><tr><td>FDG40</td><td>null</td><td>Low Fat</td><td>0.039631495</td><td>Frozen Foods</td><td>31.9558</td><td>OUT027</td><td>1985</td><td>Medium</td><td>Tier 3</td><td>Supermarket Type3</td><td>984.7182</td></tr><tr><td>FDV28</td><td>16.1</td><td>Regular</td><td>0.159698192</td><td>Frozen Foods</td><td>32.0558</td><td>OUT035</td><td>2004</td><td>Small</td><td>Tier 2</td><td>Supermarket Type1</td><td>1018.674</td></tr><tr><td>DRK12</td><td>9.5</td><td>LF</td><td>0.042123243</td><td>Soft Drinks</td><td>32.09</td><td>OUT017</td><td>2007</td><td>null</td><td>Tier 2</td><td>Supermarket Type1</td><td>432.77</td></tr><tr><td>FDU21</td><td>11.8</td><td>reg</td><td>0.07665661</td><td>Snack Foods</td><td>32.3558</td><td>OUT013</td><td>1987</td><td>High</td><td>Tier 3</td><td>Supermarket Type1</td><td>169.779</td></tr><tr><td>NCO06</td><td>19.25</td><td>Low Fat</td><td>0.108030434</td><td>Household</td><td>32.4558</td><td>OUT046</td><td>1997</td><td>Small</td><td>Tier 1</td><td>Supermarket Type1</td><td>101.8674</td></tr><tr><td>DRK12</td><td>9.5</td><td>Low Fat</td><td>0.041951439</td><td>Soft Drinks</td><td>32.49</td><td>OUT049</td><td>1999</td><td>Medium</td><td>Tier 1</td><td>Supermarket Type1</td><td>865.54</td></tr></tbody></table></div>"
      ]
     },
     "metadata": {
      "application/vnd.databricks.v1+output": {
       "addedWidgets": {},
       "aggData": [],
       "aggError": "",
       "aggOverflow": false,
       "aggSchema": [],
       "aggSeriesLimitReached": false,
       "aggType": "",
       "arguments": {},
       "columnCustomDisplayInfos": {},
       "data": [
        [
         "DRK12",
         null,
         "Low Fat",
         0.041683481,
         "Soft Drinks",
         31.29,
         "OUT027",
         1985,
         "Medium",
         "Tier 3",
         "Supermarket Type3",
         898.83
        ],
        [
         "DRK12",
         9.5,
         "Low Fat",
         0.041851461,
         "Soft Drinks",
         31.49,
         "OUT013",
         1987,
         "High",
         "Tier 3",
         "Supermarket Type1",
         466.06
        ],
        [
         "DRK12",
         9.5,
         "Low Fat",
         0.042056944,
         "Soft Drinks",
         31.89,
         "OUT018",
         2009,
         "Medium",
         "Tier 3",
         "Supermarket Type2",
         366.19
        ],
        [
         "FDX59",
         10.195,
         "Low Fat",
         0.051618281,
         "Breads",
         31.9558,
         "OUT013",
         1987,
         "High",
         "Tier 3",
         "Supermarket Type1",
         373.5138
        ],
        [
         "FDG40",
         null,
         "Low Fat",
         0.039631495,
         "Frozen Foods",
         31.9558,
         "OUT027",
         1985,
         "Medium",
         "Tier 3",
         "Supermarket Type3",
         984.7182
        ],
        [
         "FDV28",
         16.1,
         "Regular",
         0.159698192,
         "Frozen Foods",
         32.0558,
         "OUT035",
         2004,
         "Small",
         "Tier 2",
         "Supermarket Type1",
         1018.674
        ],
        [
         "DRK12",
         9.5,
         "LF",
         0.042123243,
         "Soft Drinks",
         32.09,
         "OUT017",
         2007,
         null,
         "Tier 2",
         "Supermarket Type1",
         432.77
        ],
        [
         "FDU21",
         11.8,
         "reg",
         0.07665661,
         "Snack Foods",
         32.3558,
         "OUT013",
         1987,
         "High",
         "Tier 3",
         "Supermarket Type1",
         169.779
        ],
        [
         "NCO06",
         19.25,
         "Low Fat",
         0.108030434,
         "Household",
         32.4558,
         "OUT046",
         1997,
         "Small",
         "Tier 1",
         "Supermarket Type1",
         101.8674
        ],
        [
         "DRK12",
         9.5,
         "Low Fat",
         0.041951439,
         "Soft Drinks",
         32.49,
         "OUT049",
         1999,
         "Medium",
         "Tier 1",
         "Supermarket Type1",
         865.54
        ]
       ],
       "datasetInfos": [],
       "dbfsResultPath": null,
       "isJsonSchema": true,
       "metadata": {},
       "overflow": false,
       "plotOptions": {
        "customPlotOptions": {},
        "displayType": "table",
        "pivotAggregation": null,
        "pivotColumns": null,
        "xColumns": null,
        "yColumns": null
       },
       "removedWidgets": [],
       "schema": [
        {
         "metadata": "{}",
         "name": "Item_Identifier",
         "type": "\"string\""
        },
        {
         "metadata": "{}",
         "name": "Item_Weight",
         "type": "\"double\""
        },
        {
         "metadata": "{}",
         "name": "Item_Fat_Content",
         "type": "\"string\""
        },
        {
         "metadata": "{}",
         "name": "Item_Visibility",
         "type": "\"double\""
        },
        {
         "metadata": "{}",
         "name": "Item_Type",
         "type": "\"string\""
        },
        {
         "metadata": "{}",
         "name": "Item_MRP",
         "type": "\"double\""
        },
        {
         "metadata": "{}",
         "name": "Outlet_Identifier",
         "type": "\"string\""
        },
        {
         "metadata": "{}",
         "name": "Outlet_Establishment_Year",
         "type": "\"integer\""
        },
        {
         "metadata": "{}",
         "name": "Outlet_Size",
         "type": "\"string\""
        },
        {
         "metadata": "{}",
         "name": "Outlet_Location_Type",
         "type": "\"string\""
        },
        {
         "metadata": "{}",
         "name": "Outlet_Type",
         "type": "\"string\""
        },
        {
         "metadata": "{}",
         "name": "Item_Outlet_Sales",
         "type": "\"double\""
        }
       ],
       "type": "table"
      }
     },
     "output_type": "display_data"
    }
   ],
   "source": [
    "df_csv_1.sort(['Item_MRP'], ascending = [1])\\\n",
    "    .limit(10)\\\n",
    "    .display()"
   ]
  },
  {
   "cell_type": "markdown",
   "metadata": {
    "application/vnd.databricks.v1+cell": {
     "cellMetadata": {
      "byteLimit": 2048000,
      "rowLimit": 10000
     },
     "inputWidgets": {},
     "nuid": "ff9db9ae-5e13-465c-8319-2f7620a5be1f",
     "showTitle": false,
     "tableResultSettingsMap": {},
     "title": ""
    }
   },
   "source": [
    "## Limit"
   ]
  },
  {
   "cell_type": "code",
   "execution_count": 0,
   "metadata": {
    "application/vnd.databricks.v1+cell": {
     "cellMetadata": {
      "byteLimit": 2048000,
      "rowLimit": 10000
     },
     "inputWidgets": {},
     "nuid": "59f4bba1-8b31-4837-8d0c-37b91e863573",
     "showTitle": false,
     "tableResultSettingsMap": {},
     "title": ""
    }
   },
   "outputs": [
    {
     "output_type": "display_data",
     "data": {
      "text/html": [
       "<style scoped>\n",
       "  .table-result-container {\n",
       "    max-height: 300px;\n",
       "    overflow: auto;\n",
       "  }\n",
       "  table, th, td {\n",
       "    border: 1px solid black;\n",
       "    border-collapse: collapse;\n",
       "  }\n",
       "  th, td {\n",
       "    padding: 5px;\n",
       "  }\n",
       "  th {\n",
       "    text-align: left;\n",
       "  }\n",
       "</style><div class='table-result-container'><table class='table-result'><thead style='background-color: white'><tr><th>Item_Identifier</th><th>Item_Weight</th><th>Item_Fat_Content</th><th>Item_Visibility</th><th>Item_Type</th><th>Item_MRP</th><th>Outlet_Identifier</th><th>Outlet_Establishment_Year</th><th>Outlet_Size</th><th>Outlet_Location_Type</th><th>Outlet_Type</th><th>Item_Outlet_Sales</th></tr></thead><tbody><tr><td>FDA15</td><td>9.3</td><td>Low Fat</td><td>0.016047301</td><td>Dairy</td><td>249.8092</td><td>OUT049</td><td>1999</td><td>Medium</td><td>Tier 1</td><td>Supermarket Type1</td><td>3735.138</td></tr><tr><td>DRC01</td><td>5.92</td><td>Regular</td><td>0.019278216</td><td>Soft Drinks</td><td>48.2692</td><td>OUT018</td><td>2009</td><td>Medium</td><td>Tier 3</td><td>Supermarket Type2</td><td>443.4228</td></tr><tr><td>FDN15</td><td>17.5</td><td>Low Fat</td><td>0.016760075</td><td>Meat</td><td>141.618</td><td>OUT049</td><td>1999</td><td>Medium</td><td>Tier 1</td><td>Supermarket Type1</td><td>2097.27</td></tr><tr><td>FDX07</td><td>19.2</td><td>Regular</td><td>0.0</td><td>Fruits and Vegetables</td><td>182.095</td><td>OUT010</td><td>1998</td><td>null</td><td>Tier 3</td><td>Grocery Store</td><td>732.38</td></tr><tr><td>NCD19</td><td>8.93</td><td>Low Fat</td><td>0.0</td><td>Household</td><td>53.8614</td><td>OUT013</td><td>1987</td><td>High</td><td>Tier 3</td><td>Supermarket Type1</td><td>994.7052</td></tr><tr><td>FDP36</td><td>10.395</td><td>Regular</td><td>0.0</td><td>Baking Goods</td><td>51.4008</td><td>OUT018</td><td>2009</td><td>Medium</td><td>Tier 3</td><td>Supermarket Type2</td><td>556.6088</td></tr><tr><td>FDO10</td><td>13.65</td><td>Regular</td><td>0.012741089</td><td>Snack Foods</td><td>57.6588</td><td>OUT013</td><td>1987</td><td>High</td><td>Tier 3</td><td>Supermarket Type1</td><td>343.5528</td></tr><tr><td>FDP10</td><td>null</td><td>Low Fat</td><td>0.127469857</td><td>Snack Foods</td><td>107.7622</td><td>OUT027</td><td>1985</td><td>Medium</td><td>Tier 3</td><td>Supermarket Type3</td><td>4022.7636</td></tr><tr><td>FDH17</td><td>16.2</td><td>Regular</td><td>0.016687114</td><td>Frozen Foods</td><td>96.9726</td><td>OUT045</td><td>2002</td><td>null</td><td>Tier 2</td><td>Supermarket Type1</td><td>1076.5986</td></tr><tr><td>FDU28</td><td>19.2</td><td>Regular</td><td>0.09444959</td><td>Frozen Foods</td><td>187.8214</td><td>OUT017</td><td>2007</td><td>null</td><td>Tier 2</td><td>Supermarket Type1</td><td>4710.535</td></tr></tbody></table></div>"
      ]
     },
     "metadata": {
      "application/vnd.databricks.v1+output": {
       "addedWidgets": {},
       "aggData": [],
       "aggError": "",
       "aggOverflow": false,
       "aggSchema": [],
       "aggSeriesLimitReached": false,
       "aggType": "",
       "arguments": {},
       "columnCustomDisplayInfos": {},
       "data": [
        [
         "FDA15",
         9.3,
         "Low Fat",
         0.016047301,
         "Dairy",
         249.8092,
         "OUT049",
         1999,
         "Medium",
         "Tier 1",
         "Supermarket Type1",
         3735.138
        ],
        [
         "DRC01",
         5.92,
         "Regular",
         0.019278216,
         "Soft Drinks",
         48.2692,
         "OUT018",
         2009,
         "Medium",
         "Tier 3",
         "Supermarket Type2",
         443.4228
        ],
        [
         "FDN15",
         17.5,
         "Low Fat",
         0.016760075,
         "Meat",
         141.618,
         "OUT049",
         1999,
         "Medium",
         "Tier 1",
         "Supermarket Type1",
         2097.27
        ],
        [
         "FDX07",
         19.2,
         "Regular",
         0.0,
         "Fruits and Vegetables",
         182.095,
         "OUT010",
         1998,
         null,
         "Tier 3",
         "Grocery Store",
         732.38
        ],
        [
         "NCD19",
         8.93,
         "Low Fat",
         0.0,
         "Household",
         53.8614,
         "OUT013",
         1987,
         "High",
         "Tier 3",
         "Supermarket Type1",
         994.7052
        ],
        [
         "FDP36",
         10.395,
         "Regular",
         0.0,
         "Baking Goods",
         51.4008,
         "OUT018",
         2009,
         "Medium",
         "Tier 3",
         "Supermarket Type2",
         556.6088
        ],
        [
         "FDO10",
         13.65,
         "Regular",
         0.012741089,
         "Snack Foods",
         57.6588,
         "OUT013",
         1987,
         "High",
         "Tier 3",
         "Supermarket Type1",
         343.5528
        ],
        [
         "FDP10",
         null,
         "Low Fat",
         0.127469857,
         "Snack Foods",
         107.7622,
         "OUT027",
         1985,
         "Medium",
         "Tier 3",
         "Supermarket Type3",
         4022.7636
        ],
        [
         "FDH17",
         16.2,
         "Regular",
         0.016687114,
         "Frozen Foods",
         96.9726,
         "OUT045",
         2002,
         null,
         "Tier 2",
         "Supermarket Type1",
         1076.5986
        ],
        [
         "FDU28",
         19.2,
         "Regular",
         0.09444959,
         "Frozen Foods",
         187.8214,
         "OUT017",
         2007,
         null,
         "Tier 2",
         "Supermarket Type1",
         4710.535
        ]
       ],
       "datasetInfos": [],
       "dbfsResultPath": null,
       "isJsonSchema": true,
       "metadata": {},
       "overflow": false,
       "plotOptions": {
        "customPlotOptions": {},
        "displayType": "table",
        "pivotAggregation": null,
        "pivotColumns": null,
        "xColumns": null,
        "yColumns": null
       },
       "removedWidgets": [],
       "schema": [
        {
         "metadata": "{}",
         "name": "Item_Identifier",
         "type": "\"string\""
        },
        {
         "metadata": "{}",
         "name": "Item_Weight",
         "type": "\"double\""
        },
        {
         "metadata": "{}",
         "name": "Item_Fat_Content",
         "type": "\"string\""
        },
        {
         "metadata": "{}",
         "name": "Item_Visibility",
         "type": "\"double\""
        },
        {
         "metadata": "{}",
         "name": "Item_Type",
         "type": "\"string\""
        },
        {
         "metadata": "{}",
         "name": "Item_MRP",
         "type": "\"double\""
        },
        {
         "metadata": "{}",
         "name": "Outlet_Identifier",
         "type": "\"string\""
        },
        {
         "metadata": "{}",
         "name": "Outlet_Establishment_Year",
         "type": "\"integer\""
        },
        {
         "metadata": "{}",
         "name": "Outlet_Size",
         "type": "\"string\""
        },
        {
         "metadata": "{}",
         "name": "Outlet_Location_Type",
         "type": "\"string\""
        },
        {
         "metadata": "{}",
         "name": "Outlet_Type",
         "type": "\"string\""
        },
        {
         "metadata": "{}",
         "name": "Item_Outlet_Sales",
         "type": "\"double\""
        }
       ],
       "type": "table"
      }
     },
     "output_type": "display_data"
    }
   ],
   "source": [
    "df_csv_1.limit(10).display()"
   ]
  },
  {
   "cell_type": "markdown",
   "metadata": {
    "application/vnd.databricks.v1+cell": {
     "cellMetadata": {
      "byteLimit": 2048000,
      "rowLimit": 10000
     },
     "inputWidgets": {},
     "nuid": "d29a7210-e6a6-4fc3-a2c3-8300ba24cc21",
     "showTitle": false,
     "tableResultSettingsMap": {},
     "title": ""
    }
   },
   "source": [
    "## DROP"
   ]
  },
  {
   "cell_type": "markdown",
   "metadata": {
    "application/vnd.databricks.v1+cell": {
     "cellMetadata": {
      "byteLimit": 2048000,
      "rowLimit": 10000
     },
     "inputWidgets": {},
     "nuid": "f62e80fb-a3b9-48fa-b1c2-2ece5688c3a2",
     "showTitle": false,
     "tableResultSettingsMap": {},
     "title": ""
    }
   },
   "source": [
    "### Example 1"
   ]
  },
  {
   "cell_type": "code",
   "execution_count": 0,
   "metadata": {
    "application/vnd.databricks.v1+cell": {
     "cellMetadata": {
      "byteLimit": 2048000,
      "rowLimit": 10000
     },
     "inputWidgets": {},
     "nuid": "d820d3ce-450e-4a81-afe6-cf6d773f0cf9",
     "showTitle": false,
     "tableResultSettingsMap": {},
     "title": ""
    }
   },
   "outputs": [
    {
     "output_type": "display_data",
     "data": {
      "text/html": [
       "<style scoped>\n",
       "  .table-result-container {\n",
       "    max-height: 300px;\n",
       "    overflow: auto;\n",
       "  }\n",
       "  table, th, td {\n",
       "    border: 1px solid black;\n",
       "    border-collapse: collapse;\n",
       "  }\n",
       "  th, td {\n",
       "    padding: 5px;\n",
       "  }\n",
       "  th {\n",
       "    text-align: left;\n",
       "  }\n",
       "</style><div class='table-result-container'><table class='table-result'><thead style='background-color: white'><tr><th>Item_Identifier</th><th>Item_Weight</th><th>Item_Fat_Content</th><th>Item_Type</th><th>Item_MRP</th><th>Outlet_Identifier</th><th>Outlet_Establishment_Year</th><th>Outlet_Size</th><th>Outlet_Location_Type</th><th>Outlet_Type</th><th>Item_Outlet_Sales</th></tr></thead><tbody><tr><td>FDA15</td><td>9.3</td><td>Low Fat</td><td>Dairy</td><td>249.8092</td><td>OUT049</td><td>1999</td><td>Medium</td><td>Tier 1</td><td>Supermarket Type1</td><td>3735.138</td></tr><tr><td>DRC01</td><td>5.92</td><td>Regular</td><td>Soft Drinks</td><td>48.2692</td><td>OUT018</td><td>2009</td><td>Medium</td><td>Tier 3</td><td>Supermarket Type2</td><td>443.4228</td></tr><tr><td>FDN15</td><td>17.5</td><td>Low Fat</td><td>Meat</td><td>141.618</td><td>OUT049</td><td>1999</td><td>Medium</td><td>Tier 1</td><td>Supermarket Type1</td><td>2097.27</td></tr><tr><td>FDX07</td><td>19.2</td><td>Regular</td><td>Fruits and Vegetables</td><td>182.095</td><td>OUT010</td><td>1998</td><td>null</td><td>Tier 3</td><td>Grocery Store</td><td>732.38</td></tr><tr><td>NCD19</td><td>8.93</td><td>Low Fat</td><td>Household</td><td>53.8614</td><td>OUT013</td><td>1987</td><td>High</td><td>Tier 3</td><td>Supermarket Type1</td><td>994.7052</td></tr></tbody></table></div>"
      ]
     },
     "metadata": {
      "application/vnd.databricks.v1+output": {
       "addedWidgets": {},
       "aggData": [],
       "aggError": "",
       "aggOverflow": false,
       "aggSchema": [],
       "aggSeriesLimitReached": false,
       "aggType": "",
       "arguments": {},
       "columnCustomDisplayInfos": {},
       "data": [
        [
         "FDA15",
         9.3,
         "Low Fat",
         "Dairy",
         249.8092,
         "OUT049",
         1999,
         "Medium",
         "Tier 1",
         "Supermarket Type1",
         3735.138
        ],
        [
         "DRC01",
         5.92,
         "Regular",
         "Soft Drinks",
         48.2692,
         "OUT018",
         2009,
         "Medium",
         "Tier 3",
         "Supermarket Type2",
         443.4228
        ],
        [
         "FDN15",
         17.5,
         "Low Fat",
         "Meat",
         141.618,
         "OUT049",
         1999,
         "Medium",
         "Tier 1",
         "Supermarket Type1",
         2097.27
        ],
        [
         "FDX07",
         19.2,
         "Regular",
         "Fruits and Vegetables",
         182.095,
         "OUT010",
         1998,
         null,
         "Tier 3",
         "Grocery Store",
         732.38
        ],
        [
         "NCD19",
         8.93,
         "Low Fat",
         "Household",
         53.8614,
         "OUT013",
         1987,
         "High",
         "Tier 3",
         "Supermarket Type1",
         994.7052
        ]
       ],
       "datasetInfos": [],
       "dbfsResultPath": null,
       "isJsonSchema": true,
       "metadata": {},
       "overflow": false,
       "plotOptions": {
        "customPlotOptions": {},
        "displayType": "table",
        "pivotAggregation": null,
        "pivotColumns": null,
        "xColumns": null,
        "yColumns": null
       },
       "removedWidgets": [],
       "schema": [
        {
         "metadata": "{}",
         "name": "Item_Identifier",
         "type": "\"string\""
        },
        {
         "metadata": "{}",
         "name": "Item_Weight",
         "type": "\"double\""
        },
        {
         "metadata": "{}",
         "name": "Item_Fat_Content",
         "type": "\"string\""
        },
        {
         "metadata": "{}",
         "name": "Item_Type",
         "type": "\"string\""
        },
        {
         "metadata": "{}",
         "name": "Item_MRP",
         "type": "\"double\""
        },
        {
         "metadata": "{}",
         "name": "Outlet_Identifier",
         "type": "\"string\""
        },
        {
         "metadata": "{}",
         "name": "Outlet_Establishment_Year",
         "type": "\"integer\""
        },
        {
         "metadata": "{}",
         "name": "Outlet_Size",
         "type": "\"string\""
        },
        {
         "metadata": "{}",
         "name": "Outlet_Location_Type",
         "type": "\"string\""
        },
        {
         "metadata": "{}",
         "name": "Outlet_Type",
         "type": "\"string\""
        },
        {
         "metadata": "{}",
         "name": "Item_Outlet_Sales",
         "type": "\"double\""
        }
       ],
       "type": "table"
      }
     },
     "output_type": "display_data"
    }
   ],
   "source": [
    "df_csv_1.drop(\"Item_Visibility\").limit(5).display()"
   ]
  },
  {
   "cell_type": "markdown",
   "metadata": {
    "application/vnd.databricks.v1+cell": {
     "cellMetadata": {
      "byteLimit": 2048000,
      "rowLimit": 10000
     },
     "inputWidgets": {},
     "nuid": "bb27c756-c8d9-47ba-ab84-11430b17c485",
     "showTitle": false,
     "tableResultSettingsMap": {},
     "title": ""
    }
   },
   "source": [
    "### Example 2"
   ]
  },
  {
   "cell_type": "code",
   "execution_count": 0,
   "metadata": {
    "application/vnd.databricks.v1+cell": {
     "cellMetadata": {
      "byteLimit": 2048000,
      "rowLimit": 10000
     },
     "inputWidgets": {},
     "nuid": "d11e5d16-ebe8-48b0-a04a-ce99be02707d",
     "showTitle": false,
     "tableResultSettingsMap": {},
     "title": ""
    }
   },
   "outputs": [
    {
     "output_type": "display_data",
     "data": {
      "text/html": [
       "<style scoped>\n",
       "  .table-result-container {\n",
       "    max-height: 300px;\n",
       "    overflow: auto;\n",
       "  }\n",
       "  table, th, td {\n",
       "    border: 1px solid black;\n",
       "    border-collapse: collapse;\n",
       "  }\n",
       "  th, td {\n",
       "    padding: 5px;\n",
       "  }\n",
       "  th {\n",
       "    text-align: left;\n",
       "  }\n",
       "</style><div class='table-result-container'><table class='table-result'><thead style='background-color: white'><tr><th>Item_Identifier</th><th>Item_Weight</th><th>Item_Fat_Content</th><th>Item_Visibility</th><th>Item_MRP</th><th>Outlet_Identifier</th><th>Outlet_Establishment_Year</th><th>Outlet_Size</th><th>Outlet_Location_Type</th><th>Outlet_Type</th><th>Item_Outlet_Sales</th></tr></thead><tbody><tr><td>FDA15</td><td>9.3</td><td>Low Fat</td><td>0.016047301</td><td>249.8092</td><td>OUT049</td><td>1999</td><td>Medium</td><td>Tier 1</td><td>Supermarket Type1</td><td>3735.138</td></tr><tr><td>DRC01</td><td>5.92</td><td>Regular</td><td>0.019278216</td><td>48.2692</td><td>OUT018</td><td>2009</td><td>Medium</td><td>Tier 3</td><td>Supermarket Type2</td><td>443.4228</td></tr><tr><td>FDN15</td><td>17.5</td><td>Low Fat</td><td>0.016760075</td><td>141.618</td><td>OUT049</td><td>1999</td><td>Medium</td><td>Tier 1</td><td>Supermarket Type1</td><td>2097.27</td></tr><tr><td>FDX07</td><td>19.2</td><td>Regular</td><td>0.0</td><td>182.095</td><td>OUT010</td><td>1998</td><td>null</td><td>Tier 3</td><td>Grocery Store</td><td>732.38</td></tr><tr><td>NCD19</td><td>8.93</td><td>Low Fat</td><td>0.0</td><td>53.8614</td><td>OUT013</td><td>1987</td><td>High</td><td>Tier 3</td><td>Supermarket Type1</td><td>994.7052</td></tr></tbody></table></div>"
      ]
     },
     "metadata": {
      "application/vnd.databricks.v1+output": {
       "addedWidgets": {},
       "aggData": [],
       "aggError": "",
       "aggOverflow": false,
       "aggSchema": [],
       "aggSeriesLimitReached": false,
       "aggType": "",
       "arguments": {},
       "columnCustomDisplayInfos": {},
       "data": [
        [
         "FDA15",
         9.3,
         "Low Fat",
         0.016047301,
         249.8092,
         "OUT049",
         1999,
         "Medium",
         "Tier 1",
         "Supermarket Type1",
         3735.138
        ],
        [
         "DRC01",
         5.92,
         "Regular",
         0.019278216,
         48.2692,
         "OUT018",
         2009,
         "Medium",
         "Tier 3",
         "Supermarket Type2",
         443.4228
        ],
        [
         "FDN15",
         17.5,
         "Low Fat",
         0.016760075,
         141.618,
         "OUT049",
         1999,
         "Medium",
         "Tier 1",
         "Supermarket Type1",
         2097.27
        ],
        [
         "FDX07",
         19.2,
         "Regular",
         0.0,
         182.095,
         "OUT010",
         1998,
         null,
         "Tier 3",
         "Grocery Store",
         732.38
        ],
        [
         "NCD19",
         8.93,
         "Low Fat",
         0.0,
         53.8614,
         "OUT013",
         1987,
         "High",
         "Tier 3",
         "Supermarket Type1",
         994.7052
        ]
       ],
       "datasetInfos": [],
       "dbfsResultPath": null,
       "isJsonSchema": true,
       "metadata": {},
       "overflow": false,
       "plotOptions": {
        "customPlotOptions": {},
        "displayType": "table",
        "pivotAggregation": null,
        "pivotColumns": null,
        "xColumns": null,
        "yColumns": null
       },
       "removedWidgets": [],
       "schema": [
        {
         "metadata": "{}",
         "name": "Item_Identifier",
         "type": "\"string\""
        },
        {
         "metadata": "{}",
         "name": "Item_Weight",
         "type": "\"double\""
        },
        {
         "metadata": "{}",
         "name": "Item_Fat_Content",
         "type": "\"string\""
        },
        {
         "metadata": "{}",
         "name": "Item_Visibility",
         "type": "\"double\""
        },
        {
         "metadata": "{}",
         "name": "Item_MRP",
         "type": "\"double\""
        },
        {
         "metadata": "{}",
         "name": "Outlet_Identifier",
         "type": "\"string\""
        },
        {
         "metadata": "{}",
         "name": "Outlet_Establishment_Year",
         "type": "\"integer\""
        },
        {
         "metadata": "{}",
         "name": "Outlet_Size",
         "type": "\"string\""
        },
        {
         "metadata": "{}",
         "name": "Outlet_Location_Type",
         "type": "\"string\""
        },
        {
         "metadata": "{}",
         "name": "Outlet_Type",
         "type": "\"string\""
        },
        {
         "metadata": "{}",
         "name": "Item_Outlet_Sales",
         "type": "\"double\""
        }
       ],
       "type": "table"
      }
     },
     "output_type": "display_data"
    }
   ],
   "source": [
    "df_csv_1.drop(\"Item_Visibiliy\",\"Item_Type\").limit(5).display()"
   ]
  },
  {
   "cell_type": "markdown",
   "metadata": {
    "application/vnd.databricks.v1+cell": {
     "cellMetadata": {
      "byteLimit": 2048000,
      "rowLimit": 10000
     },
     "inputWidgets": {},
     "nuid": "fe76e4e7-fc7c-4bb1-a519-9ad0fc8bc0c1",
     "showTitle": false,
     "tableResultSettingsMap": {},
     "title": ""
    }
   },
   "source": [
    "## DROP_DUPLICATES"
   ]
  },
  {
   "cell_type": "markdown",
   "metadata": {
    "application/vnd.databricks.v1+cell": {
     "cellMetadata": {
      "byteLimit": 2048000,
      "rowLimit": 10000
     },
     "inputWidgets": {},
     "nuid": "16376d18-0ede-4296-82a5-5193c0e0a31c",
     "showTitle": false,
     "tableResultSettingsMap": {},
     "title": ""
    }
   },
   "source": [
    "### Example 1"
   ]
  },
  {
   "cell_type": "code",
   "execution_count": 0,
   "metadata": {
    "application/vnd.databricks.v1+cell": {
     "cellMetadata": {
      "byteLimit": 2048000,
      "rowLimit": 10000
     },
     "inputWidgets": {},
     "nuid": "53c593b1-4d9e-4b25-a541-b100475ad8d8",
     "showTitle": false,
     "tableResultSettingsMap": {},
     "title": ""
    }
   },
   "outputs": [
    {
     "output_type": "display_data",
     "data": {
      "text/html": [
       "<style scoped>\n",
       "  .table-result-container {\n",
       "    max-height: 300px;\n",
       "    overflow: auto;\n",
       "  }\n",
       "  table, th, td {\n",
       "    border: 1px solid black;\n",
       "    border-collapse: collapse;\n",
       "  }\n",
       "  th, td {\n",
       "    padding: 5px;\n",
       "  }\n",
       "  th {\n",
       "    text-align: left;\n",
       "  }\n",
       "</style><div class='table-result-container'><table class='table-result'><thead style='background-color: white'><tr><th>Item_Identifier</th><th>Item_Weight</th><th>Item_Fat_Content</th><th>Item_Visibility</th><th>Item_Type</th><th>Item_MRP</th><th>Outlet_Identifier</th><th>Outlet_Establishment_Year</th><th>Outlet_Size</th><th>Outlet_Location_Type</th><th>Outlet_Type</th><th>Item_Outlet_Sales</th></tr></thead><tbody><tr><td>NCD19</td><td>8.93</td><td>Low Fat</td><td>0.0</td><td>Household</td><td>53.8614</td><td>OUT013</td><td>1987</td><td>High</td><td>Tier 3</td><td>Supermarket Type1</td><td>994.7052</td></tr><tr><td>FDA15</td><td>9.3</td><td>Low Fat</td><td>0.016047301</td><td>Dairy</td><td>249.8092</td><td>OUT049</td><td>1999</td><td>Medium</td><td>Tier 1</td><td>Supermarket Type1</td><td>3735.138</td></tr><tr><td>FDH17</td><td>16.2</td><td>Regular</td><td>0.016687114</td><td>Frozen Foods</td><td>96.9726</td><td>OUT045</td><td>2002</td><td>null</td><td>Tier 2</td><td>Supermarket Type1</td><td>1076.5986</td></tr><tr><td>DRC01</td><td>5.92</td><td>Regular</td><td>0.019278216</td><td>Soft Drinks</td><td>48.2692</td><td>OUT018</td><td>2009</td><td>Medium</td><td>Tier 3</td><td>Supermarket Type2</td><td>443.4228</td></tr><tr><td>FDX07</td><td>19.2</td><td>Regular</td><td>0.0</td><td>Fruits and Vegetables</td><td>182.095</td><td>OUT010</td><td>1998</td><td>null</td><td>Tier 3</td><td>Grocery Store</td><td>732.38</td></tr><tr><td>FDP36</td><td>10.395</td><td>Regular</td><td>0.0</td><td>Baking Goods</td><td>51.4008</td><td>OUT018</td><td>2009</td><td>Medium</td><td>Tier 3</td><td>Supermarket Type2</td><td>556.6088</td></tr><tr><td>FDO10</td><td>13.65</td><td>Regular</td><td>0.012741089</td><td>Snack Foods</td><td>57.6588</td><td>OUT013</td><td>1987</td><td>High</td><td>Tier 3</td><td>Supermarket Type1</td><td>343.5528</td></tr><tr><td>FDP10</td><td>null</td><td>Low Fat</td><td>0.127469857</td><td>Snack Foods</td><td>107.7622</td><td>OUT027</td><td>1985</td><td>Medium</td><td>Tier 3</td><td>Supermarket Type3</td><td>4022.7636</td></tr><tr><td>FDN15</td><td>17.5</td><td>Low Fat</td><td>0.016760075</td><td>Meat</td><td>141.618</td><td>OUT049</td><td>1999</td><td>Medium</td><td>Tier 1</td><td>Supermarket Type1</td><td>2097.27</td></tr><tr><td>FDU28</td><td>19.2</td><td>Regular</td><td>0.09444959</td><td>Frozen Foods</td><td>187.8214</td><td>OUT017</td><td>2007</td><td>null</td><td>Tier 2</td><td>Supermarket Type1</td><td>4710.535</td></tr></tbody></table></div>"
      ]
     },
     "metadata": {
      "application/vnd.databricks.v1+output": {
       "addedWidgets": {},
       "aggData": [],
       "aggError": "",
       "aggOverflow": false,
       "aggSchema": [],
       "aggSeriesLimitReached": false,
       "aggType": "",
       "arguments": {},
       "columnCustomDisplayInfos": {},
       "data": [
        [
         "NCD19",
         8.93,
         "Low Fat",
         0.0,
         "Household",
         53.8614,
         "OUT013",
         1987,
         "High",
         "Tier 3",
         "Supermarket Type1",
         994.7052
        ],
        [
         "FDA15",
         9.3,
         "Low Fat",
         0.016047301,
         "Dairy",
         249.8092,
         "OUT049",
         1999,
         "Medium",
         "Tier 1",
         "Supermarket Type1",
         3735.138
        ],
        [
         "FDH17",
         16.2,
         "Regular",
         0.016687114,
         "Frozen Foods",
         96.9726,
         "OUT045",
         2002,
         null,
         "Tier 2",
         "Supermarket Type1",
         1076.5986
        ],
        [
         "DRC01",
         5.92,
         "Regular",
         0.019278216,
         "Soft Drinks",
         48.2692,
         "OUT018",
         2009,
         "Medium",
         "Tier 3",
         "Supermarket Type2",
         443.4228
        ],
        [
         "FDX07",
         19.2,
         "Regular",
         0.0,
         "Fruits and Vegetables",
         182.095,
         "OUT010",
         1998,
         null,
         "Tier 3",
         "Grocery Store",
         732.38
        ],
        [
         "FDP36",
         10.395,
         "Regular",
         0.0,
         "Baking Goods",
         51.4008,
         "OUT018",
         2009,
         "Medium",
         "Tier 3",
         "Supermarket Type2",
         556.6088
        ],
        [
         "FDO10",
         13.65,
         "Regular",
         0.012741089,
         "Snack Foods",
         57.6588,
         "OUT013",
         1987,
         "High",
         "Tier 3",
         "Supermarket Type1",
         343.5528
        ],
        [
         "FDP10",
         null,
         "Low Fat",
         0.127469857,
         "Snack Foods",
         107.7622,
         "OUT027",
         1985,
         "Medium",
         "Tier 3",
         "Supermarket Type3",
         4022.7636
        ],
        [
         "FDN15",
         17.5,
         "Low Fat",
         0.016760075,
         "Meat",
         141.618,
         "OUT049",
         1999,
         "Medium",
         "Tier 1",
         "Supermarket Type1",
         2097.27
        ],
        [
         "FDU28",
         19.2,
         "Regular",
         0.09444959,
         "Frozen Foods",
         187.8214,
         "OUT017",
         2007,
         null,
         "Tier 2",
         "Supermarket Type1",
         4710.535
        ]
       ],
       "datasetInfos": [],
       "dbfsResultPath": null,
       "isJsonSchema": true,
       "metadata": {},
       "overflow": false,
       "plotOptions": {
        "customPlotOptions": {},
        "displayType": "table",
        "pivotAggregation": null,
        "pivotColumns": null,
        "xColumns": null,
        "yColumns": null
       },
       "removedWidgets": [],
       "schema": [
        {
         "metadata": "{}",
         "name": "Item_Identifier",
         "type": "\"string\""
        },
        {
         "metadata": "{}",
         "name": "Item_Weight",
         "type": "\"double\""
        },
        {
         "metadata": "{}",
         "name": "Item_Fat_Content",
         "type": "\"string\""
        },
        {
         "metadata": "{}",
         "name": "Item_Visibility",
         "type": "\"double\""
        },
        {
         "metadata": "{}",
         "name": "Item_Type",
         "type": "\"string\""
        },
        {
         "metadata": "{}",
         "name": "Item_MRP",
         "type": "\"double\""
        },
        {
         "metadata": "{}",
         "name": "Outlet_Identifier",
         "type": "\"string\""
        },
        {
         "metadata": "{}",
         "name": "Outlet_Establishment_Year",
         "type": "\"integer\""
        },
        {
         "metadata": "{}",
         "name": "Outlet_Size",
         "type": "\"string\""
        },
        {
         "metadata": "{}",
         "name": "Outlet_Location_Type",
         "type": "\"string\""
        },
        {
         "metadata": "{}",
         "name": "Outlet_Type",
         "type": "\"string\""
        },
        {
         "metadata": "{}",
         "name": "Item_Outlet_Sales",
         "type": "\"double\""
        }
       ],
       "type": "table"
      }
     },
     "output_type": "display_data"
    }
   ],
   "source": [
    "df_csv_1.dropDuplicates().limit(10).display() # DeDups"
   ]
  },
  {
   "cell_type": "markdown",
   "metadata": {
    "application/vnd.databricks.v1+cell": {
     "cellMetadata": {
      "byteLimit": 2048000,
      "rowLimit": 10000
     },
     "inputWidgets": {},
     "nuid": "123e3369-d7a9-4528-aee3-26b37e386d06",
     "showTitle": false,
     "tableResultSettingsMap": {},
     "title": ""
    }
   },
   "source": [
    "### Example 2"
   ]
  },
  {
   "cell_type": "code",
   "execution_count": 0,
   "metadata": {
    "application/vnd.databricks.v1+cell": {
     "cellMetadata": {
      "byteLimit": 2048000,
      "rowLimit": 10000
     },
     "inputWidgets": {},
     "nuid": "269efccf-e424-472c-ad9d-1eec1cc556d0",
     "showTitle": false,
     "tableResultSettingsMap": {},
     "title": ""
    }
   },
   "outputs": [
    {
     "output_type": "display_data",
     "data": {
      "text/html": [
       "<style scoped>\n",
       "  .table-result-container {\n",
       "    max-height: 300px;\n",
       "    overflow: auto;\n",
       "  }\n",
       "  table, th, td {\n",
       "    border: 1px solid black;\n",
       "    border-collapse: collapse;\n",
       "  }\n",
       "  th, td {\n",
       "    padding: 5px;\n",
       "  }\n",
       "  th {\n",
       "    text-align: left;\n",
       "  }\n",
       "</style><div class='table-result-container'><table class='table-result'><thead style='background-color: white'><tr><th>Item_Identifier</th><th>Item_Weight</th><th>Item_Fat_Content</th><th>Item_Visibility</th><th>Item_Type</th><th>Item_MRP</th><th>Outlet_Identifier</th><th>Outlet_Establishment_Year</th><th>Outlet_Size</th><th>Outlet_Location_Type</th><th>Outlet_Type</th><th>Item_Outlet_Sales</th></tr></thead><tbody><tr><td>FDP36</td><td>10.395</td><td>Regular</td><td>0.0</td><td>Baking Goods</td><td>51.4008</td><td>OUT018</td><td>2009</td><td>Medium</td><td>Tier 3</td><td>Supermarket Type2</td><td>556.6088</td></tr><tr><td>FDO23</td><td>17.85</td><td>Low Fat</td><td>0.0</td><td>Breads</td><td>93.1436</td><td>OUT045</td><td>2002</td><td>null</td><td>Tier 2</td><td>Supermarket Type1</td><td>2174.5028</td></tr><tr><td>FDP49</td><td>9.0</td><td>Regular</td><td>0.069088961</td><td>Breakfast</td><td>56.3614</td><td>OUT046</td><td>1997</td><td>Small</td><td>Tier 1</td><td>Supermarket Type1</td><td>1547.3192</td></tr><tr><td>FDC14</td><td>null</td><td>Regular</td><td>0.072221801</td><td>Canned</td><td>43.6454</td><td>OUT019</td><td>1985</td><td>Small</td><td>Tier 1</td><td>Grocery Store</td><td>125.8362</td></tr><tr><td>FDA15</td><td>9.3</td><td>Low Fat</td><td>0.016047301</td><td>Dairy</td><td>249.8092</td><td>OUT049</td><td>1999</td><td>Medium</td><td>Tier 1</td><td>Supermarket Type1</td><td>3735.138</td></tr><tr><td>FDH17</td><td>16.2</td><td>Regular</td><td>0.016687114</td><td>Frozen Foods</td><td>96.9726</td><td>OUT045</td><td>2002</td><td>null</td><td>Tier 2</td><td>Supermarket Type1</td><td>1076.5986</td></tr><tr><td>FDX07</td><td>19.2</td><td>Regular</td><td>0.0</td><td>Fruits and Vegetables</td><td>182.095</td><td>OUT010</td><td>1998</td><td>null</td><td>Tier 3</td><td>Grocery Store</td><td>732.38</td></tr><tr><td>DRI11</td><td>null</td><td>Low Fat</td><td>0.034237682</td><td>Hard Drinks</td><td>113.2834</td><td>OUT027</td><td>1985</td><td>Medium</td><td>Tier 3</td><td>Supermarket Type3</td><td>2303.668</td></tr><tr><td>NCB42</td><td>11.8</td><td>Low Fat</td><td>0.008596051</td><td>Health and Hygiene</td><td>115.3492</td><td>OUT018</td><td>2009</td><td>Medium</td><td>Tier 3</td><td>Supermarket Type2</td><td>1621.8888</td></tr><tr><td>NCD19</td><td>8.93</td><td>Low Fat</td><td>0.0</td><td>Household</td><td>53.8614</td><td>OUT013</td><td>1987</td><td>High</td><td>Tier 3</td><td>Supermarket Type1</td><td>994.7052</td></tr></tbody></table></div>"
      ]
     },
     "metadata": {
      "application/vnd.databricks.v1+output": {
       "addedWidgets": {},
       "aggData": [],
       "aggError": "",
       "aggOverflow": false,
       "aggSchema": [],
       "aggSeriesLimitReached": false,
       "aggType": "",
       "arguments": {},
       "columnCustomDisplayInfos": {},
       "data": [
        [
         "FDP36",
         10.395,
         "Regular",
         0.0,
         "Baking Goods",
         51.4008,
         "OUT018",
         2009,
         "Medium",
         "Tier 3",
         "Supermarket Type2",
         556.6088
        ],
        [
         "FDO23",
         17.85,
         "Low Fat",
         0.0,
         "Breads",
         93.1436,
         "OUT045",
         2002,
         null,
         "Tier 2",
         "Supermarket Type1",
         2174.5028
        ],
        [
         "FDP49",
         9.0,
         "Regular",
         0.069088961,
         "Breakfast",
         56.3614,
         "OUT046",
         1997,
         "Small",
         "Tier 1",
         "Supermarket Type1",
         1547.3192
        ],
        [
         "FDC14",
         null,
         "Regular",
         0.072221801,
         "Canned",
         43.6454,
         "OUT019",
         1985,
         "Small",
         "Tier 1",
         "Grocery Store",
         125.8362
        ],
        [
         "FDA15",
         9.3,
         "Low Fat",
         0.016047301,
         "Dairy",
         249.8092,
         "OUT049",
         1999,
         "Medium",
         "Tier 1",
         "Supermarket Type1",
         3735.138
        ],
        [
         "FDH17",
         16.2,
         "Regular",
         0.016687114,
         "Frozen Foods",
         96.9726,
         "OUT045",
         2002,
         null,
         "Tier 2",
         "Supermarket Type1",
         1076.5986
        ],
        [
         "FDX07",
         19.2,
         "Regular",
         0.0,
         "Fruits and Vegetables",
         182.095,
         "OUT010",
         1998,
         null,
         "Tier 3",
         "Grocery Store",
         732.38
        ],
        [
         "DRI11",
         null,
         "Low Fat",
         0.034237682,
         "Hard Drinks",
         113.2834,
         "OUT027",
         1985,
         "Medium",
         "Tier 3",
         "Supermarket Type3",
         2303.668
        ],
        [
         "NCB42",
         11.8,
         "Low Fat",
         0.008596051,
         "Health and Hygiene",
         115.3492,
         "OUT018",
         2009,
         "Medium",
         "Tier 3",
         "Supermarket Type2",
         1621.8888
        ],
        [
         "NCD19",
         8.93,
         "Low Fat",
         0.0,
         "Household",
         53.8614,
         "OUT013",
         1987,
         "High",
         "Tier 3",
         "Supermarket Type1",
         994.7052
        ]
       ],
       "datasetInfos": [],
       "dbfsResultPath": null,
       "isJsonSchema": true,
       "metadata": {},
       "overflow": false,
       "plotOptions": {
        "customPlotOptions": {},
        "displayType": "table",
        "pivotAggregation": null,
        "pivotColumns": null,
        "xColumns": null,
        "yColumns": null
       },
       "removedWidgets": [],
       "schema": [
        {
         "metadata": "{}",
         "name": "Item_Identifier",
         "type": "\"string\""
        },
        {
         "metadata": "{}",
         "name": "Item_Weight",
         "type": "\"double\""
        },
        {
         "metadata": "{}",
         "name": "Item_Fat_Content",
         "type": "\"string\""
        },
        {
         "metadata": "{}",
         "name": "Item_Visibility",
         "type": "\"double\""
        },
        {
         "metadata": "{}",
         "name": "Item_Type",
         "type": "\"string\""
        },
        {
         "metadata": "{}",
         "name": "Item_MRP",
         "type": "\"double\""
        },
        {
         "metadata": "{}",
         "name": "Outlet_Identifier",
         "type": "\"string\""
        },
        {
         "metadata": "{}",
         "name": "Outlet_Establishment_Year",
         "type": "\"integer\""
        },
        {
         "metadata": "{}",
         "name": "Outlet_Size",
         "type": "\"string\""
        },
        {
         "metadata": "{}",
         "name": "Outlet_Location_Type",
         "type": "\"string\""
        },
        {
         "metadata": "{}",
         "name": "Outlet_Type",
         "type": "\"string\""
        },
        {
         "metadata": "{}",
         "name": "Item_Outlet_Sales",
         "type": "\"double\""
        }
       ],
       "type": "table"
      }
     },
     "output_type": "display_data"
    }
   ],
   "source": [
    "df_csv_1.dropDuplicates(subset=[\"Item_Type\"]).limit(10).display()"
   ]
  },
  {
   "cell_type": "code",
   "execution_count": 0,
   "metadata": {
    "application/vnd.databricks.v1+cell": {
     "cellMetadata": {
      "byteLimit": 2048000,
      "rowLimit": 10000
     },
     "inputWidgets": {},
     "nuid": "309e9c45-1eda-4e80-8875-ec514302650b",
     "showTitle": false,
     "tableResultSettingsMap": {},
     "title": ""
    }
   },
   "outputs": [
    {
     "output_type": "display_data",
     "data": {
      "text/html": [
       "<style scoped>\n",
       "  .table-result-container {\n",
       "    max-height: 300px;\n",
       "    overflow: auto;\n",
       "  }\n",
       "  table, th, td {\n",
       "    border: 1px solid black;\n",
       "    border-collapse: collapse;\n",
       "  }\n",
       "  th, td {\n",
       "    padding: 5px;\n",
       "  }\n",
       "  th {\n",
       "    text-align: left;\n",
       "  }\n",
       "</style><div class='table-result-container'><table class='table-result'><thead style='background-color: white'><tr><th>Item_Identifier</th><th>Item_Weight</th><th>Item_Fat_Content</th><th>Item_Visibility</th><th>Item_Type</th><th>Item_MRP</th><th>Outlet_Identifier</th><th>Outlet_Establishment_Year</th><th>Outlet_Size</th><th>Outlet_Location_Type</th><th>Outlet_Type</th><th>Item_Outlet_Sales</th></tr></thead><tbody><tr><td>NCD19</td><td>8.93</td><td>Low Fat</td><td>0.0</td><td>Household</td><td>53.8614</td><td>OUT013</td><td>1987</td><td>High</td><td>Tier 3</td><td>Supermarket Type1</td><td>994.7052</td></tr><tr><td>FDA15</td><td>9.3</td><td>Low Fat</td><td>0.016047301</td><td>Dairy</td><td>249.8092</td><td>OUT049</td><td>1999</td><td>Medium</td><td>Tier 1</td><td>Supermarket Type1</td><td>3735.138</td></tr><tr><td>FDH17</td><td>16.2</td><td>Regular</td><td>0.016687114</td><td>Frozen Foods</td><td>96.9726</td><td>OUT045</td><td>2002</td><td>null</td><td>Tier 2</td><td>Supermarket Type1</td><td>1076.5986</td></tr><tr><td>DRC01</td><td>5.92</td><td>Regular</td><td>0.019278216</td><td>Soft Drinks</td><td>48.2692</td><td>OUT018</td><td>2009</td><td>Medium</td><td>Tier 3</td><td>Supermarket Type2</td><td>443.4228</td></tr><tr><td>FDX07</td><td>19.2</td><td>Regular</td><td>0.0</td><td>Fruits and Vegetables</td><td>182.095</td><td>OUT010</td><td>1998</td><td>null</td><td>Tier 3</td><td>Grocery Store</td><td>732.38</td></tr><tr><td>FDP36</td><td>10.395</td><td>Regular</td><td>0.0</td><td>Baking Goods</td><td>51.4008</td><td>OUT018</td><td>2009</td><td>Medium</td><td>Tier 3</td><td>Supermarket Type2</td><td>556.6088</td></tr><tr><td>FDO10</td><td>13.65</td><td>Regular</td><td>0.012741089</td><td>Snack Foods</td><td>57.6588</td><td>OUT013</td><td>1987</td><td>High</td><td>Tier 3</td><td>Supermarket Type1</td><td>343.5528</td></tr><tr><td>FDP10</td><td>null</td><td>Low Fat</td><td>0.127469857</td><td>Snack Foods</td><td>107.7622</td><td>OUT027</td><td>1985</td><td>Medium</td><td>Tier 3</td><td>Supermarket Type3</td><td>4022.7636</td></tr><tr><td>FDN15</td><td>17.5</td><td>Low Fat</td><td>0.016760075</td><td>Meat</td><td>141.618</td><td>OUT049</td><td>1999</td><td>Medium</td><td>Tier 1</td><td>Supermarket Type1</td><td>2097.27</td></tr><tr><td>FDU28</td><td>19.2</td><td>Regular</td><td>0.09444959</td><td>Frozen Foods</td><td>187.8214</td><td>OUT017</td><td>2007</td><td>null</td><td>Tier 2</td><td>Supermarket Type1</td><td>4710.535</td></tr></tbody></table></div>"
      ]
     },
     "metadata": {
      "application/vnd.databricks.v1+output": {
       "addedWidgets": {},
       "aggData": [],
       "aggError": "",
       "aggOverflow": false,
       "aggSchema": [],
       "aggSeriesLimitReached": false,
       "aggType": "",
       "arguments": {},
       "columnCustomDisplayInfos": {},
       "data": [
        [
         "NCD19",
         8.93,
         "Low Fat",
         0.0,
         "Household",
         53.8614,
         "OUT013",
         1987,
         "High",
         "Tier 3",
         "Supermarket Type1",
         994.7052
        ],
        [
         "FDA15",
         9.3,
         "Low Fat",
         0.016047301,
         "Dairy",
         249.8092,
         "OUT049",
         1999,
         "Medium",
         "Tier 1",
         "Supermarket Type1",
         3735.138
        ],
        [
         "FDH17",
         16.2,
         "Regular",
         0.016687114,
         "Frozen Foods",
         96.9726,
         "OUT045",
         2002,
         null,
         "Tier 2",
         "Supermarket Type1",
         1076.5986
        ],
        [
         "DRC01",
         5.92,
         "Regular",
         0.019278216,
         "Soft Drinks",
         48.2692,
         "OUT018",
         2009,
         "Medium",
         "Tier 3",
         "Supermarket Type2",
         443.4228
        ],
        [
         "FDX07",
         19.2,
         "Regular",
         0.0,
         "Fruits and Vegetables",
         182.095,
         "OUT010",
         1998,
         null,
         "Tier 3",
         "Grocery Store",
         732.38
        ],
        [
         "FDP36",
         10.395,
         "Regular",
         0.0,
         "Baking Goods",
         51.4008,
         "OUT018",
         2009,
         "Medium",
         "Tier 3",
         "Supermarket Type2",
         556.6088
        ],
        [
         "FDO10",
         13.65,
         "Regular",
         0.012741089,
         "Snack Foods",
         57.6588,
         "OUT013",
         1987,
         "High",
         "Tier 3",
         "Supermarket Type1",
         343.5528
        ],
        [
         "FDP10",
         null,
         "Low Fat",
         0.127469857,
         "Snack Foods",
         107.7622,
         "OUT027",
         1985,
         "Medium",
         "Tier 3",
         "Supermarket Type3",
         4022.7636
        ],
        [
         "FDN15",
         17.5,
         "Low Fat",
         0.016760075,
         "Meat",
         141.618,
         "OUT049",
         1999,
         "Medium",
         "Tier 1",
         "Supermarket Type1",
         2097.27
        ],
        [
         "FDU28",
         19.2,
         "Regular",
         0.09444959,
         "Frozen Foods",
         187.8214,
         "OUT017",
         2007,
         null,
         "Tier 2",
         "Supermarket Type1",
         4710.535
        ]
       ],
       "datasetInfos": [],
       "dbfsResultPath": null,
       "isJsonSchema": true,
       "metadata": {},
       "overflow": false,
       "plotOptions": {
        "customPlotOptions": {},
        "displayType": "table",
        "pivotAggregation": null,
        "pivotColumns": null,
        "xColumns": null,
        "yColumns": null
       },
       "removedWidgets": [],
       "schema": [
        {
         "metadata": "{}",
         "name": "Item_Identifier",
         "type": "\"string\""
        },
        {
         "metadata": "{}",
         "name": "Item_Weight",
         "type": "\"double\""
        },
        {
         "metadata": "{}",
         "name": "Item_Fat_Content",
         "type": "\"string\""
        },
        {
         "metadata": "{}",
         "name": "Item_Visibility",
         "type": "\"double\""
        },
        {
         "metadata": "{}",
         "name": "Item_Type",
         "type": "\"string\""
        },
        {
         "metadata": "{}",
         "name": "Item_MRP",
         "type": "\"double\""
        },
        {
         "metadata": "{}",
         "name": "Outlet_Identifier",
         "type": "\"string\""
        },
        {
         "metadata": "{}",
         "name": "Outlet_Establishment_Year",
         "type": "\"integer\""
        },
        {
         "metadata": "{}",
         "name": "Outlet_Size",
         "type": "\"string\""
        },
        {
         "metadata": "{}",
         "name": "Outlet_Location_Type",
         "type": "\"string\""
        },
        {
         "metadata": "{}",
         "name": "Outlet_Type",
         "type": "\"string\""
        },
        {
         "metadata": "{}",
         "name": "Item_Outlet_Sales",
         "type": "\"double\""
        }
       ],
       "type": "table"
      }
     },
     "output_type": "display_data"
    }
   ],
   "source": [
    "df_csv_1.distinct().limit(10).display()"
   ]
  },
  {
   "cell_type": "markdown",
   "metadata": {
    "application/vnd.databricks.v1+cell": {
     "cellMetadata": {
      "byteLimit": 2048000,
      "rowLimit": 10000
     },
     "inputWidgets": {},
     "nuid": "4130e332-cfbd-4ba0-a81c-4bc60d07de9e",
     "showTitle": false,
     "tableResultSettingsMap": {},
     "title": ""
    }
   },
   "source": [
    "## UNION & UNION BY NAME"
   ]
  },
  {
   "cell_type": "markdown",
   "metadata": {
    "application/vnd.databricks.v1+cell": {
     "cellMetadata": {
      "byteLimit": 2048000,
      "rowLimit": 10000
     },
     "inputWidgets": {},
     "nuid": "95562d4b-fba1-4626-a5d0-64e31e12f6a9",
     "showTitle": false,
     "tableResultSettingsMap": {},
     "title": ""
    }
   },
   "source": [
    "#### Preparing DataFrames"
   ]
  },
  {
   "cell_type": "code",
   "execution_count": 0,
   "metadata": {
    "application/vnd.databricks.v1+cell": {
     "cellMetadata": {
      "byteLimit": 2048000,
      "rowLimit": 10000
     },
     "inputWidgets": {},
     "nuid": "5048203d-d487-4d11-9086-b2ea5155030a",
     "showTitle": false,
     "tableResultSettingsMap": {},
     "title": ""
    }
   },
   "outputs": [],
   "source": [
    "data1 = [('1','kad'),('2','sid')]\n",
    "schema1 = 'id STRING, name STRING' \n",
    "\n",
    "df1 = spark.createDataFrame(data1,schema1)\n",
    "\n",
    "data2 = [('3','rahul'),('4','jas')]\n",
    "schema2 = 'id STRING, name STRING' \n",
    "\n",
    "df2 = spark.createDataFrame(data2,schema2)\n",
    "\n",
    "data3 = [('kad','1'),('sid','2')]\n",
    "schema3 = 'name STRING, id STRING' \n",
    "\n",
    "df3 = spark.createDataFrame(data3,schema3)\n"
   ]
  },
  {
   "cell_type": "code",
   "execution_count": 0,
   "metadata": {
    "application/vnd.databricks.v1+cell": {
     "cellMetadata": {
      "byteLimit": 2048000,
      "rowLimit": 10000
     },
     "inputWidgets": {},
     "nuid": "59100b0e-4c53-4f03-b638-7d93e6f9269c",
     "showTitle": false,
     "tableResultSettingsMap": {},
     "title": ""
    }
   },
   "outputs": [
    {
     "output_type": "display_data",
     "data": {
      "text/html": [
       "<style scoped>\n",
       "  .table-result-container {\n",
       "    max-height: 300px;\n",
       "    overflow: auto;\n",
       "  }\n",
       "  table, th, td {\n",
       "    border: 1px solid black;\n",
       "    border-collapse: collapse;\n",
       "  }\n",
       "  th, td {\n",
       "    padding: 5px;\n",
       "  }\n",
       "  th {\n",
       "    text-align: left;\n",
       "  }\n",
       "</style><div class='table-result-container'><table class='table-result'><thead style='background-color: white'><tr><th>id</th><th>name</th></tr></thead><tbody><tr><td>1</td><td>kad</td></tr><tr><td>2</td><td>sid</td></tr></tbody></table></div>"
      ]
     },
     "metadata": {
      "application/vnd.databricks.v1+output": {
       "addedWidgets": {},
       "aggData": [],
       "aggError": "",
       "aggOverflow": false,
       "aggSchema": [],
       "aggSeriesLimitReached": false,
       "aggType": "",
       "arguments": {},
       "columnCustomDisplayInfos": {},
       "data": [
        [
         "1",
         "kad"
        ],
        [
         "2",
         "sid"
        ]
       ],
       "datasetInfos": [],
       "dbfsResultPath": null,
       "isJsonSchema": true,
       "metadata": {},
       "overflow": false,
       "plotOptions": {
        "customPlotOptions": {},
        "displayType": "table",
        "pivotAggregation": null,
        "pivotColumns": null,
        "xColumns": null,
        "yColumns": null
       },
       "removedWidgets": [],
       "schema": [
        {
         "metadata": "{}",
         "name": "id",
         "type": "\"string\""
        },
        {
         "metadata": "{}",
         "name": "name",
         "type": "\"string\""
        }
       ],
       "type": "table"
      }
     },
     "output_type": "display_data"
    }
   ],
   "source": [
    "df1.display()"
   ]
  },
  {
   "cell_type": "code",
   "execution_count": 0,
   "metadata": {
    "application/vnd.databricks.v1+cell": {
     "cellMetadata": {
      "byteLimit": 2048000,
      "rowLimit": 10000
     },
     "inputWidgets": {},
     "nuid": "825fb473-80f5-4b3f-bc94-6f8cebd82de6",
     "showTitle": false,
     "tableResultSettingsMap": {},
     "title": ""
    }
   },
   "outputs": [
    {
     "output_type": "display_data",
     "data": {
      "text/html": [
       "<style scoped>\n",
       "  .table-result-container {\n",
       "    max-height: 300px;\n",
       "    overflow: auto;\n",
       "  }\n",
       "  table, th, td {\n",
       "    border: 1px solid black;\n",
       "    border-collapse: collapse;\n",
       "  }\n",
       "  th, td {\n",
       "    padding: 5px;\n",
       "  }\n",
       "  th {\n",
       "    text-align: left;\n",
       "  }\n",
       "</style><div class='table-result-container'><table class='table-result'><thead style='background-color: white'><tr><th>id</th><th>name</th></tr></thead><tbody><tr><td>3</td><td>rahul</td></tr><tr><td>4</td><td>jas</td></tr></tbody></table></div>"
      ]
     },
     "metadata": {
      "application/vnd.databricks.v1+output": {
       "addedWidgets": {},
       "aggData": [],
       "aggError": "",
       "aggOverflow": false,
       "aggSchema": [],
       "aggSeriesLimitReached": false,
       "aggType": "",
       "arguments": {},
       "columnCustomDisplayInfos": {},
       "data": [
        [
         "3",
         "rahul"
        ],
        [
         "4",
         "jas"
        ]
       ],
       "datasetInfos": [],
       "dbfsResultPath": null,
       "isJsonSchema": true,
       "metadata": {},
       "overflow": false,
       "plotOptions": {
        "customPlotOptions": {},
        "displayType": "table",
        "pivotAggregation": null,
        "pivotColumns": null,
        "xColumns": null,
        "yColumns": null
       },
       "removedWidgets": [],
       "schema": [
        {
         "metadata": "{}",
         "name": "id",
         "type": "\"string\""
        },
        {
         "metadata": "{}",
         "name": "name",
         "type": "\"string\""
        }
       ],
       "type": "table"
      }
     },
     "output_type": "display_data"
    }
   ],
   "source": [
    "df2.display()"
   ]
  },
  {
   "cell_type": "markdown",
   "metadata": {
    "application/vnd.databricks.v1+cell": {
     "cellMetadata": {
      "byteLimit": 2048000,
      "rowLimit": 10000
     },
     "inputWidgets": {},
     "nuid": "12b75762-e05e-4ad5-8668-96c81c1c747e",
     "showTitle": false,
     "tableResultSettingsMap": {},
     "title": ""
    }
   },
   "source": [
    "#### Union"
   ]
  },
  {
   "cell_type": "code",
   "execution_count": 0,
   "metadata": {
    "application/vnd.databricks.v1+cell": {
     "cellMetadata": {
      "byteLimit": 2048000,
      "rowLimit": 10000
     },
     "inputWidgets": {},
     "nuid": "daefe6e4-c2c2-42f3-be44-9ebd5f364d26",
     "showTitle": false,
     "tableResultSettingsMap": {},
     "title": ""
    }
   },
   "outputs": [
    {
     "output_type": "display_data",
     "data": {
      "text/html": [
       "<style scoped>\n",
       "  .table-result-container {\n",
       "    max-height: 300px;\n",
       "    overflow: auto;\n",
       "  }\n",
       "  table, th, td {\n",
       "    border: 1px solid black;\n",
       "    border-collapse: collapse;\n",
       "  }\n",
       "  th, td {\n",
       "    padding: 5px;\n",
       "  }\n",
       "  th {\n",
       "    text-align: left;\n",
       "  }\n",
       "</style><div class='table-result-container'><table class='table-result'><thead style='background-color: white'><tr><th>id</th><th>name</th></tr></thead><tbody><tr><td>1</td><td>kad</td></tr><tr><td>2</td><td>sid</td></tr><tr><td>3</td><td>rahul</td></tr><tr><td>4</td><td>jas</td></tr></tbody></table></div>"
      ]
     },
     "metadata": {
      "application/vnd.databricks.v1+output": {
       "addedWidgets": {},
       "aggData": [],
       "aggError": "",
       "aggOverflow": false,
       "aggSchema": [],
       "aggSeriesLimitReached": false,
       "aggType": "",
       "arguments": {},
       "columnCustomDisplayInfos": {},
       "data": [
        [
         "1",
         "kad"
        ],
        [
         "2",
         "sid"
        ],
        [
         "3",
         "rahul"
        ],
        [
         "4",
         "jas"
        ]
       ],
       "datasetInfos": [],
       "dbfsResultPath": null,
       "isJsonSchema": true,
       "metadata": {},
       "overflow": false,
       "plotOptions": {
        "customPlotOptions": {},
        "displayType": "table",
        "pivotAggregation": null,
        "pivotColumns": null,
        "xColumns": null,
        "yColumns": null
       },
       "removedWidgets": [],
       "schema": [
        {
         "metadata": "{}",
         "name": "id",
         "type": "\"string\""
        },
        {
         "metadata": "{}",
         "name": "name",
         "type": "\"string\""
        }
       ],
       "type": "table"
      }
     },
     "output_type": "display_data"
    }
   ],
   "source": [
    "df1.union(df2).display()"
   ]
  },
  {
   "cell_type": "markdown",
   "metadata": {
    "application/vnd.databricks.v1+cell": {
     "cellMetadata": {
      "byteLimit": 2048000,
      "rowLimit": 10000
     },
     "inputWidgets": {},
     "nuid": "d90cbf80-c022-4603-bc38-850a8ddc6742",
     "showTitle": false,
     "tableResultSettingsMap": {},
     "title": ""
    }
   },
   "source": [
    "#### UNION BY NAME"
   ]
  },
  {
   "cell_type": "code",
   "execution_count": 0,
   "metadata": {
    "application/vnd.databricks.v1+cell": {
     "cellMetadata": {
      "byteLimit": 2048000,
      "rowLimit": 10000
     },
     "inputWidgets": {},
     "nuid": "46f2465e-783b-4471-9b6b-feff2c1cf6e5",
     "showTitle": false,
     "tableResultSettingsMap": {},
     "title": ""
    }
   },
   "outputs": [
    {
     "output_type": "display_data",
     "data": {
      "text/html": [
       "<style scoped>\n",
       "  .table-result-container {\n",
       "    max-height: 300px;\n",
       "    overflow: auto;\n",
       "  }\n",
       "  table, th, td {\n",
       "    border: 1px solid black;\n",
       "    border-collapse: collapse;\n",
       "  }\n",
       "  th, td {\n",
       "    padding: 5px;\n",
       "  }\n",
       "  th {\n",
       "    text-align: left;\n",
       "  }\n",
       "</style><div class='table-result-container'><table class='table-result'><thead style='background-color: white'><tr><th>name</th><th>id</th></tr></thead><tbody><tr><td>kad</td><td>1</td></tr><tr><td>sid</td><td>2</td></tr><tr><td>3</td><td>rahul</td></tr><tr><td>4</td><td>jas</td></tr></tbody></table></div>"
      ]
     },
     "metadata": {
      "application/vnd.databricks.v1+output": {
       "addedWidgets": {},
       "aggData": [],
       "aggError": "",
       "aggOverflow": false,
       "aggSchema": [],
       "aggSeriesLimitReached": false,
       "aggType": "",
       "arguments": {},
       "columnCustomDisplayInfos": {},
       "data": [
        [
         "kad",
         "1"
        ],
        [
         "sid",
         "2"
        ],
        [
         "3",
         "rahul"
        ],
        [
         "4",
         "jas"
        ]
       ],
       "datasetInfos": [],
       "dbfsResultPath": null,
       "isJsonSchema": true,
       "metadata": {},
       "overflow": false,
       "plotOptions": {
        "customPlotOptions": {},
        "displayType": "table",
        "pivotAggregation": null,
        "pivotColumns": null,
        "xColumns": null,
        "yColumns": null
       },
       "removedWidgets": [],
       "schema": [
        {
         "metadata": "{}",
         "name": "name",
         "type": "\"string\""
        },
        {
         "metadata": "{}",
         "name": "id",
         "type": "\"string\""
        }
       ],
       "type": "table"
      }
     },
     "output_type": "display_data"
    }
   ],
   "source": [
    "df3.union(df2).display()"
   ]
  },
  {
   "cell_type": "code",
   "execution_count": 0,
   "metadata": {
    "application/vnd.databricks.v1+cell": {
     "cellMetadata": {
      "byteLimit": 2048000,
      "rowLimit": 10000
     },
     "inputWidgets": {},
     "nuid": "495e136d-e845-4b5c-bfcd-ca9c29f9aa8a",
     "showTitle": false,
     "tableResultSettingsMap": {},
     "title": ""
    }
   },
   "outputs": [
    {
     "output_type": "display_data",
     "data": {
      "text/html": [
       "<style scoped>\n",
       "  .table-result-container {\n",
       "    max-height: 300px;\n",
       "    overflow: auto;\n",
       "  }\n",
       "  table, th, td {\n",
       "    border: 1px solid black;\n",
       "    border-collapse: collapse;\n",
       "  }\n",
       "  th, td {\n",
       "    padding: 5px;\n",
       "  }\n",
       "  th {\n",
       "    text-align: left;\n",
       "  }\n",
       "</style><div class='table-result-container'><table class='table-result'><thead style='background-color: white'><tr><th>name</th><th>id</th></tr></thead><tbody><tr><td>kad</td><td>1</td></tr><tr><td>sid</td><td>2</td></tr><tr><td>rahul</td><td>3</td></tr><tr><td>jas</td><td>4</td></tr></tbody></table></div>"
      ]
     },
     "metadata": {
      "application/vnd.databricks.v1+output": {
       "addedWidgets": {},
       "aggData": [],
       "aggError": "",
       "aggOverflow": false,
       "aggSchema": [],
       "aggSeriesLimitReached": false,
       "aggType": "",
       "arguments": {},
       "columnCustomDisplayInfos": {},
       "data": [
        [
         "kad",
         "1"
        ],
        [
         "sid",
         "2"
        ],
        [
         "rahul",
         "3"
        ],
        [
         "jas",
         "4"
        ]
       ],
       "datasetInfos": [],
       "dbfsResultPath": null,
       "isJsonSchema": true,
       "metadata": {},
       "overflow": false,
       "plotOptions": {
        "customPlotOptions": {},
        "displayType": "table",
        "pivotAggregation": null,
        "pivotColumns": null,
        "xColumns": null,
        "yColumns": null
       },
       "removedWidgets": [],
       "schema": [
        {
         "metadata": "{}",
         "name": "name",
         "type": "\"string\""
        },
        {
         "metadata": "{}",
         "name": "id",
         "type": "\"string\""
        }
       ],
       "type": "table"
      }
     },
     "output_type": "display_data"
    }
   ],
   "source": [
    "df3.unionByName(df2).display()"
   ]
  },
  {
   "cell_type": "markdown",
   "metadata": {
    "application/vnd.databricks.v1+cell": {
     "cellMetadata": {
      "byteLimit": 2048000,
      "rowLimit": 10000
     },
     "inputWidgets": {},
     "nuid": "0f5787fc-213b-4450-ae7e-424447454bf8",
     "showTitle": false,
     "tableResultSettingsMap": {},
     "title": ""
    }
   },
   "source": [
    "## String Functions"
   ]
  },
  {
   "cell_type": "markdown",
   "metadata": {
    "application/vnd.databricks.v1+cell": {
     "cellMetadata": {
      "byteLimit": 2048000,
      "rowLimit": 10000
     },
     "inputWidgets": {},
     "nuid": "4b1d7c1d-9f25-44ba-89da-ac1921d41bd1",
     "showTitle": false,
     "tableResultSettingsMap": {},
     "title": ""
    }
   },
   "source": [
    "#### initcap(), upper(), lower()"
   ]
  },
  {
   "cell_type": "code",
   "execution_count": 0,
   "metadata": {
    "application/vnd.databricks.v1+cell": {
     "cellMetadata": {
      "byteLimit": 2048000,
      "rowLimit": 10000
     },
     "inputWidgets": {},
     "nuid": "095c8055-1db0-4a6c-a16f-64ef8830ff2b",
     "showTitle": false,
     "tableResultSettingsMap": {},
     "title": ""
    }
   },
   "outputs": [
    {
     "output_type": "display_data",
     "data": {
      "text/html": [
       "<style scoped>\n",
       "  .table-result-container {\n",
       "    max-height: 300px;\n",
       "    overflow: auto;\n",
       "  }\n",
       "  table, th, td {\n",
       "    border: 1px solid black;\n",
       "    border-collapse: collapse;\n",
       "  }\n",
       "  th, td {\n",
       "    padding: 5px;\n",
       "  }\n",
       "  th {\n",
       "    text-align: left;\n",
       "  }\n",
       "</style><div class='table-result-container'><table class='table-result'><thead style='background-color: white'><tr><th>initcap</th><th>upper</th><th>lower</th></tr></thead><tbody><tr><td>Dairy</td><td>DAIRY</td><td>dairy</td></tr><tr><td>Soft Drinks</td><td>SOFT DRINKS</td><td>soft drinks</td></tr><tr><td>Meat</td><td>MEAT</td><td>meat</td></tr><tr><td>Fruits And Vegetables</td><td>FRUITS AND VEGETABLES</td><td>fruits and vegetables</td></tr><tr><td>Household</td><td>HOUSEHOLD</td><td>household</td></tr><tr><td>Baking Goods</td><td>BAKING GOODS</td><td>baking goods</td></tr><tr><td>Snack Foods</td><td>SNACK FOODS</td><td>snack foods</td></tr><tr><td>Snack Foods</td><td>SNACK FOODS</td><td>snack foods</td></tr><tr><td>Frozen Foods</td><td>FROZEN FOODS</td><td>frozen foods</td></tr><tr><td>Frozen Foods</td><td>FROZEN FOODS</td><td>frozen foods</td></tr></tbody></table></div>"
      ]
     },
     "metadata": {
      "application/vnd.databricks.v1+output": {
       "addedWidgets": {},
       "aggData": [],
       "aggError": "",
       "aggOverflow": false,
       "aggSchema": [],
       "aggSeriesLimitReached": false,
       "aggType": "",
       "arguments": {},
       "columnCustomDisplayInfos": {},
       "data": [
        [
         "Dairy",
         "DAIRY",
         "dairy"
        ],
        [
         "Soft Drinks",
         "SOFT DRINKS",
         "soft drinks"
        ],
        [
         "Meat",
         "MEAT",
         "meat"
        ],
        [
         "Fruits And Vegetables",
         "FRUITS AND VEGETABLES",
         "fruits and vegetables"
        ],
        [
         "Household",
         "HOUSEHOLD",
         "household"
        ],
        [
         "Baking Goods",
         "BAKING GOODS",
         "baking goods"
        ],
        [
         "Snack Foods",
         "SNACK FOODS",
         "snack foods"
        ],
        [
         "Snack Foods",
         "SNACK FOODS",
         "snack foods"
        ],
        [
         "Frozen Foods",
         "FROZEN FOODS",
         "frozen foods"
        ],
        [
         "Frozen Foods",
         "FROZEN FOODS",
         "frozen foods"
        ]
       ],
       "datasetInfos": [],
       "dbfsResultPath": null,
       "isJsonSchema": true,
       "metadata": {},
       "overflow": false,
       "plotOptions": {
        "customPlotOptions": {},
        "displayType": "table",
        "pivotAggregation": null,
        "pivotColumns": null,
        "xColumns": null,
        "yColumns": null
       },
       "removedWidgets": [],
       "schema": [
        {
         "metadata": "{}",
         "name": "initcap",
         "type": "\"string\""
        },
        {
         "metadata": "{}",
         "name": "upper",
         "type": "\"string\""
        },
        {
         "metadata": "{}",
         "name": "lower",
         "type": "\"string\""
        }
       ],
       "type": "table"
      }
     },
     "output_type": "display_data"
    }
   ],
   "source": [
    "df_csv_1\\\n",
    "    .select(\\\n",
    "        (initcap('Item_Type').alias(\"initcap\")),\\\n",
    "        (upper('Item_Type').alias('upper')),\\\n",
    "        (lower('Item_Type').alias('lower'))\\\n",
    "    )\\\n",
    "    .limit(10)\\\n",
    "    .display()"
   ]
  },
  {
   "cell_type": "markdown",
   "metadata": {
    "application/vnd.databricks.v1+cell": {
     "cellMetadata": {
      "byteLimit": 2048000,
      "rowLimit": 10000
     },
     "inputWidgets": {},
     "nuid": "3adc37b6-bd1c-43f7-9a1d-c48bd08476a3",
     "showTitle": false,
     "tableResultSettingsMap": {},
     "title": ""
    }
   },
   "source": [
    "## Date Function"
   ]
  },
  {
   "cell_type": "markdown",
   "metadata": {
    "application/vnd.databricks.v1+cell": {
     "cellMetadata": {
      "byteLimit": 2048000,
      "rowLimit": 10000
     },
     "inputWidgets": {},
     "nuid": "d55cbdf6-e628-4780-ab13-7c40cd67af0b",
     "showTitle": false,
     "tableResultSettingsMap": {},
     "title": ""
    }
   },
   "source": [
    "#### current_date()"
   ]
  },
  {
   "cell_type": "code",
   "execution_count": 0,
   "metadata": {
    "application/vnd.databricks.v1+cell": {
     "cellMetadata": {
      "byteLimit": 2048000,
      "rowLimit": 10000
     },
     "inputWidgets": {},
     "nuid": "be241ece-4925-4d09-adfd-8504e1c9d97b",
     "showTitle": false,
     "tableResultSettingsMap": {},
     "title": ""
    }
   },
   "outputs": [],
   "source": [
    "df_csv_1 = df_csv_1.withColumn('curr_date',current_date())"
   ]
  },
  {
   "cell_type": "code",
   "execution_count": 0,
   "metadata": {
    "application/vnd.databricks.v1+cell": {
     "cellMetadata": {
      "byteLimit": 2048000,
      "rowLimit": 10000
     },
     "inputWidgets": {},
     "nuid": "ece2e87e-0a97-4f60-b210-a0212cbb3017",
     "showTitle": false,
     "tableResultSettingsMap": {},
     "title": ""
    }
   },
   "outputs": [
    {
     "output_type": "display_data",
     "data": {
      "text/html": [
       "<style scoped>\n",
       "  .table-result-container {\n",
       "    max-height: 300px;\n",
       "    overflow: auto;\n",
       "  }\n",
       "  table, th, td {\n",
       "    border: 1px solid black;\n",
       "    border-collapse: collapse;\n",
       "  }\n",
       "  th, td {\n",
       "    padding: 5px;\n",
       "  }\n",
       "  th {\n",
       "    text-align: left;\n",
       "  }\n",
       "</style><div class='table-result-container'><table class='table-result'><thead style='background-color: white'><tr><th>Item_Identifier</th><th>Item_Weight</th><th>Item_Fat_Content</th><th>Item_Visibility</th><th>Item_Type</th><th>Item_MRP</th><th>Outlet_Identifier</th><th>Outlet_Establishment_Year</th><th>Outlet_Size</th><th>Outlet_Location_Type</th><th>Outlet_Type</th><th>Item_Outlet_Sales</th><th>curr_date</th></tr></thead><tbody><tr><td>FDA15</td><td>9.3</td><td>Low Fat</td><td>0.016047301</td><td>Dairy</td><td>249.8092</td><td>OUT049</td><td>1999</td><td>Medium</td><td>Tier 1</td><td>Supermarket Type1</td><td>3735.138</td><td>2025-03-14</td></tr><tr><td>DRC01</td><td>5.92</td><td>Regular</td><td>0.019278216</td><td>Soft Drinks</td><td>48.2692</td><td>OUT018</td><td>2009</td><td>Medium</td><td>Tier 3</td><td>Supermarket Type2</td><td>443.4228</td><td>2025-03-14</td></tr><tr><td>FDN15</td><td>17.5</td><td>Low Fat</td><td>0.016760075</td><td>Meat</td><td>141.618</td><td>OUT049</td><td>1999</td><td>Medium</td><td>Tier 1</td><td>Supermarket Type1</td><td>2097.27</td><td>2025-03-14</td></tr><tr><td>FDX07</td><td>19.2</td><td>Regular</td><td>0.0</td><td>Fruits and Vegetables</td><td>182.095</td><td>OUT010</td><td>1998</td><td>null</td><td>Tier 3</td><td>Grocery Store</td><td>732.38</td><td>2025-03-14</td></tr><tr><td>NCD19</td><td>8.93</td><td>Low Fat</td><td>0.0</td><td>Household</td><td>53.8614</td><td>OUT013</td><td>1987</td><td>High</td><td>Tier 3</td><td>Supermarket Type1</td><td>994.7052</td><td>2025-03-14</td></tr><tr><td>FDP36</td><td>10.395</td><td>Regular</td><td>0.0</td><td>Baking Goods</td><td>51.4008</td><td>OUT018</td><td>2009</td><td>Medium</td><td>Tier 3</td><td>Supermarket Type2</td><td>556.6088</td><td>2025-03-14</td></tr><tr><td>FDO10</td><td>13.65</td><td>Regular</td><td>0.012741089</td><td>Snack Foods</td><td>57.6588</td><td>OUT013</td><td>1987</td><td>High</td><td>Tier 3</td><td>Supermarket Type1</td><td>343.5528</td><td>2025-03-14</td></tr><tr><td>FDP10</td><td>null</td><td>Low Fat</td><td>0.127469857</td><td>Snack Foods</td><td>107.7622</td><td>OUT027</td><td>1985</td><td>Medium</td><td>Tier 3</td><td>Supermarket Type3</td><td>4022.7636</td><td>2025-03-14</td></tr><tr><td>FDH17</td><td>16.2</td><td>Regular</td><td>0.016687114</td><td>Frozen Foods</td><td>96.9726</td><td>OUT045</td><td>2002</td><td>null</td><td>Tier 2</td><td>Supermarket Type1</td><td>1076.5986</td><td>2025-03-14</td></tr><tr><td>FDU28</td><td>19.2</td><td>Regular</td><td>0.09444959</td><td>Frozen Foods</td><td>187.8214</td><td>OUT017</td><td>2007</td><td>null</td><td>Tier 2</td><td>Supermarket Type1</td><td>4710.535</td><td>2025-03-14</td></tr></tbody></table></div>"
      ]
     },
     "metadata": {
      "application/vnd.databricks.v1+output": {
       "addedWidgets": {},
       "aggData": [],
       "aggError": "",
       "aggOverflow": false,
       "aggSchema": [],
       "aggSeriesLimitReached": false,
       "aggType": "",
       "arguments": {},
       "columnCustomDisplayInfos": {},
       "data": [
        [
         "FDA15",
         9.3,
         "Low Fat",
         0.016047301,
         "Dairy",
         249.8092,
         "OUT049",
         1999,
         "Medium",
         "Tier 1",
         "Supermarket Type1",
         3735.138,
         "2025-03-14"
        ],
        [
         "DRC01",
         5.92,
         "Regular",
         0.019278216,
         "Soft Drinks",
         48.2692,
         "OUT018",
         2009,
         "Medium",
         "Tier 3",
         "Supermarket Type2",
         443.4228,
         "2025-03-14"
        ],
        [
         "FDN15",
         17.5,
         "Low Fat",
         0.016760075,
         "Meat",
         141.618,
         "OUT049",
         1999,
         "Medium",
         "Tier 1",
         "Supermarket Type1",
         2097.27,
         "2025-03-14"
        ],
        [
         "FDX07",
         19.2,
         "Regular",
         0.0,
         "Fruits and Vegetables",
         182.095,
         "OUT010",
         1998,
         null,
         "Tier 3",
         "Grocery Store",
         732.38,
         "2025-03-14"
        ],
        [
         "NCD19",
         8.93,
         "Low Fat",
         0.0,
         "Household",
         53.8614,
         "OUT013",
         1987,
         "High",
         "Tier 3",
         "Supermarket Type1",
         994.7052,
         "2025-03-14"
        ],
        [
         "FDP36",
         10.395,
         "Regular",
         0.0,
         "Baking Goods",
         51.4008,
         "OUT018",
         2009,
         "Medium",
         "Tier 3",
         "Supermarket Type2",
         556.6088,
         "2025-03-14"
        ],
        [
         "FDO10",
         13.65,
         "Regular",
         0.012741089,
         "Snack Foods",
         57.6588,
         "OUT013",
         1987,
         "High",
         "Tier 3",
         "Supermarket Type1",
         343.5528,
         "2025-03-14"
        ],
        [
         "FDP10",
         null,
         "Low Fat",
         0.127469857,
         "Snack Foods",
         107.7622,
         "OUT027",
         1985,
         "Medium",
         "Tier 3",
         "Supermarket Type3",
         4022.7636,
         "2025-03-14"
        ],
        [
         "FDH17",
         16.2,
         "Regular",
         0.016687114,
         "Frozen Foods",
         96.9726,
         "OUT045",
         2002,
         null,
         "Tier 2",
         "Supermarket Type1",
         1076.5986,
         "2025-03-14"
        ],
        [
         "FDU28",
         19.2,
         "Regular",
         0.09444959,
         "Frozen Foods",
         187.8214,
         "OUT017",
         2007,
         null,
         "Tier 2",
         "Supermarket Type1",
         4710.535,
         "2025-03-14"
        ]
       ],
       "datasetInfos": [],
       "dbfsResultPath": null,
       "isJsonSchema": true,
       "metadata": {},
       "overflow": false,
       "plotOptions": {
        "customPlotOptions": {},
        "displayType": "table",
        "pivotAggregation": null,
        "pivotColumns": null,
        "xColumns": null,
        "yColumns": null
       },
       "removedWidgets": [],
       "schema": [
        {
         "metadata": "{}",
         "name": "Item_Identifier",
         "type": "\"string\""
        },
        {
         "metadata": "{}",
         "name": "Item_Weight",
         "type": "\"double\""
        },
        {
         "metadata": "{}",
         "name": "Item_Fat_Content",
         "type": "\"string\""
        },
        {
         "metadata": "{}",
         "name": "Item_Visibility",
         "type": "\"double\""
        },
        {
         "metadata": "{}",
         "name": "Item_Type",
         "type": "\"string\""
        },
        {
         "metadata": "{}",
         "name": "Item_MRP",
         "type": "\"double\""
        },
        {
         "metadata": "{}",
         "name": "Outlet_Identifier",
         "type": "\"string\""
        },
        {
         "metadata": "{}",
         "name": "Outlet_Establishment_Year",
         "type": "\"integer\""
        },
        {
         "metadata": "{}",
         "name": "Outlet_Size",
         "type": "\"string\""
        },
        {
         "metadata": "{}",
         "name": "Outlet_Location_Type",
         "type": "\"string\""
        },
        {
         "metadata": "{}",
         "name": "Outlet_Type",
         "type": "\"string\""
        },
        {
         "metadata": "{}",
         "name": "Item_Outlet_Sales",
         "type": "\"double\""
        },
        {
         "metadata": "{}",
         "name": "curr_date",
         "type": "\"date\""
        }
       ],
       "type": "table"
      }
     },
     "output_type": "display_data"
    }
   ],
   "source": [
    "df_csv_1.limit(10).display()"
   ]
  },
  {
   "cell_type": "markdown",
   "metadata": {
    "application/vnd.databricks.v1+cell": {
     "cellMetadata": {
      "byteLimit": 2048000,
      "rowLimit": 10000
     },
     "inputWidgets": {},
     "nuid": "056ec072-804b-44d2-abcf-43ea01bd0dc6",
     "showTitle": false,
     "tableResultSettingsMap": {},
     "title": ""
    }
   },
   "source": [
    "#### date_add()"
   ]
  },
  {
   "cell_type": "code",
   "execution_count": 0,
   "metadata": {
    "application/vnd.databricks.v1+cell": {
     "cellMetadata": {
      "byteLimit": 2048000,
      "rowLimit": 10000
     },
     "inputWidgets": {},
     "nuid": "a2c105c4-fe5d-42f5-b74d-4066e5137e58",
     "showTitle": false,
     "tableResultSettingsMap": {},
     "title": ""
    }
   },
   "outputs": [],
   "source": [
    "df_csv_1 = df_csv_1.withColumn('week_after',date_add('curr_date',7))"
   ]
  },
  {
   "cell_type": "code",
   "execution_count": 0,
   "metadata": {
    "application/vnd.databricks.v1+cell": {
     "cellMetadata": {
      "byteLimit": 2048000,
      "rowLimit": 10000
     },
     "inputWidgets": {},
     "nuid": "2a8e1480-8fd5-47cd-98f0-d41990f72d7c",
     "showTitle": false,
     "tableResultSettingsMap": {},
     "title": ""
    }
   },
   "outputs": [
    {
     "output_type": "display_data",
     "data": {
      "text/html": [
       "<style scoped>\n",
       "  .table-result-container {\n",
       "    max-height: 300px;\n",
       "    overflow: auto;\n",
       "  }\n",
       "  table, th, td {\n",
       "    border: 1px solid black;\n",
       "    border-collapse: collapse;\n",
       "  }\n",
       "  th, td {\n",
       "    padding: 5px;\n",
       "  }\n",
       "  th {\n",
       "    text-align: left;\n",
       "  }\n",
       "</style><div class='table-result-container'><table class='table-result'><thead style='background-color: white'><tr><th>Item_Identifier</th><th>Item_Weight</th><th>Item_Fat_Content</th><th>Item_Visibility</th><th>Item_Type</th><th>Item_MRP</th><th>Outlet_Identifier</th><th>Outlet_Establishment_Year</th><th>Outlet_Size</th><th>Outlet_Location_Type</th><th>Outlet_Type</th><th>Item_Outlet_Sales</th><th>curr_date</th><th>week_after</th></tr></thead><tbody><tr><td>FDA15</td><td>9.3</td><td>Low Fat</td><td>0.016047301</td><td>Dairy</td><td>249.8092</td><td>OUT049</td><td>1999</td><td>Medium</td><td>Tier 1</td><td>Supermarket Type1</td><td>3735.138</td><td>2025-03-14</td><td>2025-03-21</td></tr><tr><td>DRC01</td><td>5.92</td><td>Regular</td><td>0.019278216</td><td>Soft Drinks</td><td>48.2692</td><td>OUT018</td><td>2009</td><td>Medium</td><td>Tier 3</td><td>Supermarket Type2</td><td>443.4228</td><td>2025-03-14</td><td>2025-03-21</td></tr><tr><td>FDN15</td><td>17.5</td><td>Low Fat</td><td>0.016760075</td><td>Meat</td><td>141.618</td><td>OUT049</td><td>1999</td><td>Medium</td><td>Tier 1</td><td>Supermarket Type1</td><td>2097.27</td><td>2025-03-14</td><td>2025-03-21</td></tr><tr><td>FDX07</td><td>19.2</td><td>Regular</td><td>0.0</td><td>Fruits and Vegetables</td><td>182.095</td><td>OUT010</td><td>1998</td><td>null</td><td>Tier 3</td><td>Grocery Store</td><td>732.38</td><td>2025-03-14</td><td>2025-03-21</td></tr><tr><td>NCD19</td><td>8.93</td><td>Low Fat</td><td>0.0</td><td>Household</td><td>53.8614</td><td>OUT013</td><td>1987</td><td>High</td><td>Tier 3</td><td>Supermarket Type1</td><td>994.7052</td><td>2025-03-14</td><td>2025-03-21</td></tr><tr><td>FDP36</td><td>10.395</td><td>Regular</td><td>0.0</td><td>Baking Goods</td><td>51.4008</td><td>OUT018</td><td>2009</td><td>Medium</td><td>Tier 3</td><td>Supermarket Type2</td><td>556.6088</td><td>2025-03-14</td><td>2025-03-21</td></tr><tr><td>FDO10</td><td>13.65</td><td>Regular</td><td>0.012741089</td><td>Snack Foods</td><td>57.6588</td><td>OUT013</td><td>1987</td><td>High</td><td>Tier 3</td><td>Supermarket Type1</td><td>343.5528</td><td>2025-03-14</td><td>2025-03-21</td></tr><tr><td>FDP10</td><td>null</td><td>Low Fat</td><td>0.127469857</td><td>Snack Foods</td><td>107.7622</td><td>OUT027</td><td>1985</td><td>Medium</td><td>Tier 3</td><td>Supermarket Type3</td><td>4022.7636</td><td>2025-03-14</td><td>2025-03-21</td></tr><tr><td>FDH17</td><td>16.2</td><td>Regular</td><td>0.016687114</td><td>Frozen Foods</td><td>96.9726</td><td>OUT045</td><td>2002</td><td>null</td><td>Tier 2</td><td>Supermarket Type1</td><td>1076.5986</td><td>2025-03-14</td><td>2025-03-21</td></tr><tr><td>FDU28</td><td>19.2</td><td>Regular</td><td>0.09444959</td><td>Frozen Foods</td><td>187.8214</td><td>OUT017</td><td>2007</td><td>null</td><td>Tier 2</td><td>Supermarket Type1</td><td>4710.535</td><td>2025-03-14</td><td>2025-03-21</td></tr></tbody></table></div>"
      ]
     },
     "metadata": {
      "application/vnd.databricks.v1+output": {
       "addedWidgets": {},
       "aggData": [],
       "aggError": "",
       "aggOverflow": false,
       "aggSchema": [],
       "aggSeriesLimitReached": false,
       "aggType": "",
       "arguments": {},
       "columnCustomDisplayInfos": {},
       "data": [
        [
         "FDA15",
         9.3,
         "Low Fat",
         0.016047301,
         "Dairy",
         249.8092,
         "OUT049",
         1999,
         "Medium",
         "Tier 1",
         "Supermarket Type1",
         3735.138,
         "2025-03-14",
         "2025-03-21"
        ],
        [
         "DRC01",
         5.92,
         "Regular",
         0.019278216,
         "Soft Drinks",
         48.2692,
         "OUT018",
         2009,
         "Medium",
         "Tier 3",
         "Supermarket Type2",
         443.4228,
         "2025-03-14",
         "2025-03-21"
        ],
        [
         "FDN15",
         17.5,
         "Low Fat",
         0.016760075,
         "Meat",
         141.618,
         "OUT049",
         1999,
         "Medium",
         "Tier 1",
         "Supermarket Type1",
         2097.27,
         "2025-03-14",
         "2025-03-21"
        ],
        [
         "FDX07",
         19.2,
         "Regular",
         0.0,
         "Fruits and Vegetables",
         182.095,
         "OUT010",
         1998,
         null,
         "Tier 3",
         "Grocery Store",
         732.38,
         "2025-03-14",
         "2025-03-21"
        ],
        [
         "NCD19",
         8.93,
         "Low Fat",
         0.0,
         "Household",
         53.8614,
         "OUT013",
         1987,
         "High",
         "Tier 3",
         "Supermarket Type1",
         994.7052,
         "2025-03-14",
         "2025-03-21"
        ],
        [
         "FDP36",
         10.395,
         "Regular",
         0.0,
         "Baking Goods",
         51.4008,
         "OUT018",
         2009,
         "Medium",
         "Tier 3",
         "Supermarket Type2",
         556.6088,
         "2025-03-14",
         "2025-03-21"
        ],
        [
         "FDO10",
         13.65,
         "Regular",
         0.012741089,
         "Snack Foods",
         57.6588,
         "OUT013",
         1987,
         "High",
         "Tier 3",
         "Supermarket Type1",
         343.5528,
         "2025-03-14",
         "2025-03-21"
        ],
        [
         "FDP10",
         null,
         "Low Fat",
         0.127469857,
         "Snack Foods",
         107.7622,
         "OUT027",
         1985,
         "Medium",
         "Tier 3",
         "Supermarket Type3",
         4022.7636,
         "2025-03-14",
         "2025-03-21"
        ],
        [
         "FDH17",
         16.2,
         "Regular",
         0.016687114,
         "Frozen Foods",
         96.9726,
         "OUT045",
         2002,
         null,
         "Tier 2",
         "Supermarket Type1",
         1076.5986,
         "2025-03-14",
         "2025-03-21"
        ],
        [
         "FDU28",
         19.2,
         "Regular",
         0.09444959,
         "Frozen Foods",
         187.8214,
         "OUT017",
         2007,
         null,
         "Tier 2",
         "Supermarket Type1",
         4710.535,
         "2025-03-14",
         "2025-03-21"
        ]
       ],
       "datasetInfos": [],
       "dbfsResultPath": null,
       "isJsonSchema": true,
       "metadata": {},
       "overflow": false,
       "plotOptions": {
        "customPlotOptions": {},
        "displayType": "table",
        "pivotAggregation": null,
        "pivotColumns": null,
        "xColumns": null,
        "yColumns": null
       },
       "removedWidgets": [],
       "schema": [
        {
         "metadata": "{}",
         "name": "Item_Identifier",
         "type": "\"string\""
        },
        {
         "metadata": "{}",
         "name": "Item_Weight",
         "type": "\"double\""
        },
        {
         "metadata": "{}",
         "name": "Item_Fat_Content",
         "type": "\"string\""
        },
        {
         "metadata": "{}",
         "name": "Item_Visibility",
         "type": "\"double\""
        },
        {
         "metadata": "{}",
         "name": "Item_Type",
         "type": "\"string\""
        },
        {
         "metadata": "{}",
         "name": "Item_MRP",
         "type": "\"double\""
        },
        {
         "metadata": "{}",
         "name": "Outlet_Identifier",
         "type": "\"string\""
        },
        {
         "metadata": "{}",
         "name": "Outlet_Establishment_Year",
         "type": "\"integer\""
        },
        {
         "metadata": "{}",
         "name": "Outlet_Size",
         "type": "\"string\""
        },
        {
         "metadata": "{}",
         "name": "Outlet_Location_Type",
         "type": "\"string\""
        },
        {
         "metadata": "{}",
         "name": "Outlet_Type",
         "type": "\"string\""
        },
        {
         "metadata": "{}",
         "name": "Item_Outlet_Sales",
         "type": "\"double\""
        },
        {
         "metadata": "{}",
         "name": "curr_date",
         "type": "\"date\""
        },
        {
         "metadata": "{}",
         "name": "week_after",
         "type": "\"date\""
        }
       ],
       "type": "table"
      }
     },
     "output_type": "display_data"
    }
   ],
   "source": [
    "df_csv_1.limit(10).display()"
   ]
  },
  {
   "cell_type": "markdown",
   "metadata": {
    "application/vnd.databricks.v1+cell": {
     "cellMetadata": {
      "byteLimit": 2048000,
      "rowLimit": 10000
     },
     "inputWidgets": {},
     "nuid": "db12816d-cee6-4090-90ea-fbae9598fa4e",
     "showTitle": false,
     "tableResultSettingsMap": {},
     "title": ""
    }
   },
   "source": [
    "#### date_sub()\n",
    "#### method - 1 "
   ]
  },
  {
   "cell_type": "code",
   "execution_count": 0,
   "metadata": {
    "application/vnd.databricks.v1+cell": {
     "cellMetadata": {
      "byteLimit": 2048000,
      "rowLimit": 10000
     },
     "inputWidgets": {},
     "nuid": "78a4abc9-9912-47ad-9575-466c60ad831d",
     "showTitle": false,
     "tableResultSettingsMap": {},
     "title": ""
    }
   },
   "outputs": [],
   "source": [
    "df_csv_1 = df_csv_1.withColumn('week_before_method1',date_sub('curr_date',7))"
   ]
  },
  {
   "cell_type": "code",
   "execution_count": 0,
   "metadata": {
    "application/vnd.databricks.v1+cell": {
     "cellMetadata": {
      "byteLimit": 2048000,
      "rowLimit": 10000
     },
     "inputWidgets": {},
     "nuid": "0352eb99-5665-4a85-9f44-2d3915e8ade0",
     "showTitle": false,
     "tableResultSettingsMap": {},
     "title": ""
    }
   },
   "outputs": [
    {
     "output_type": "display_data",
     "data": {
      "text/html": [
       "<style scoped>\n",
       "  .table-result-container {\n",
       "    max-height: 300px;\n",
       "    overflow: auto;\n",
       "  }\n",
       "  table, th, td {\n",
       "    border: 1px solid black;\n",
       "    border-collapse: collapse;\n",
       "  }\n",
       "  th, td {\n",
       "    padding: 5px;\n",
       "  }\n",
       "  th {\n",
       "    text-align: left;\n",
       "  }\n",
       "</style><div class='table-result-container'><table class='table-result'><thead style='background-color: white'><tr><th>Item_Identifier</th><th>Item_Weight</th><th>Item_Fat_Content</th><th>Item_Visibility</th><th>Item_Type</th><th>Item_MRP</th><th>Outlet_Identifier</th><th>Outlet_Establishment_Year</th><th>Outlet_Size</th><th>Outlet_Location_Type</th><th>Outlet_Type</th><th>Item_Outlet_Sales</th><th>curr_date</th><th>week_after</th><th>week_before_method1</th></tr></thead><tbody><tr><td>FDA15</td><td>9.3</td><td>Low Fat</td><td>0.016047301</td><td>Dairy</td><td>249.8092</td><td>OUT049</td><td>1999</td><td>Medium</td><td>Tier 1</td><td>Supermarket Type1</td><td>3735.138</td><td>2025-03-14</td><td>2025-03-21</td><td>2025-03-07</td></tr><tr><td>DRC01</td><td>5.92</td><td>Regular</td><td>0.019278216</td><td>Soft Drinks</td><td>48.2692</td><td>OUT018</td><td>2009</td><td>Medium</td><td>Tier 3</td><td>Supermarket Type2</td><td>443.4228</td><td>2025-03-14</td><td>2025-03-21</td><td>2025-03-07</td></tr><tr><td>FDN15</td><td>17.5</td><td>Low Fat</td><td>0.016760075</td><td>Meat</td><td>141.618</td><td>OUT049</td><td>1999</td><td>Medium</td><td>Tier 1</td><td>Supermarket Type1</td><td>2097.27</td><td>2025-03-14</td><td>2025-03-21</td><td>2025-03-07</td></tr><tr><td>FDX07</td><td>19.2</td><td>Regular</td><td>0.0</td><td>Fruits and Vegetables</td><td>182.095</td><td>OUT010</td><td>1998</td><td>null</td><td>Tier 3</td><td>Grocery Store</td><td>732.38</td><td>2025-03-14</td><td>2025-03-21</td><td>2025-03-07</td></tr><tr><td>NCD19</td><td>8.93</td><td>Low Fat</td><td>0.0</td><td>Household</td><td>53.8614</td><td>OUT013</td><td>1987</td><td>High</td><td>Tier 3</td><td>Supermarket Type1</td><td>994.7052</td><td>2025-03-14</td><td>2025-03-21</td><td>2025-03-07</td></tr><tr><td>FDP36</td><td>10.395</td><td>Regular</td><td>0.0</td><td>Baking Goods</td><td>51.4008</td><td>OUT018</td><td>2009</td><td>Medium</td><td>Tier 3</td><td>Supermarket Type2</td><td>556.6088</td><td>2025-03-14</td><td>2025-03-21</td><td>2025-03-07</td></tr><tr><td>FDO10</td><td>13.65</td><td>Regular</td><td>0.012741089</td><td>Snack Foods</td><td>57.6588</td><td>OUT013</td><td>1987</td><td>High</td><td>Tier 3</td><td>Supermarket Type1</td><td>343.5528</td><td>2025-03-14</td><td>2025-03-21</td><td>2025-03-07</td></tr><tr><td>FDP10</td><td>null</td><td>Low Fat</td><td>0.127469857</td><td>Snack Foods</td><td>107.7622</td><td>OUT027</td><td>1985</td><td>Medium</td><td>Tier 3</td><td>Supermarket Type3</td><td>4022.7636</td><td>2025-03-14</td><td>2025-03-21</td><td>2025-03-07</td></tr><tr><td>FDH17</td><td>16.2</td><td>Regular</td><td>0.016687114</td><td>Frozen Foods</td><td>96.9726</td><td>OUT045</td><td>2002</td><td>null</td><td>Tier 2</td><td>Supermarket Type1</td><td>1076.5986</td><td>2025-03-14</td><td>2025-03-21</td><td>2025-03-07</td></tr><tr><td>FDU28</td><td>19.2</td><td>Regular</td><td>0.09444959</td><td>Frozen Foods</td><td>187.8214</td><td>OUT017</td><td>2007</td><td>null</td><td>Tier 2</td><td>Supermarket Type1</td><td>4710.535</td><td>2025-03-14</td><td>2025-03-21</td><td>2025-03-07</td></tr></tbody></table></div>"
      ]
     },
     "metadata": {
      "application/vnd.databricks.v1+output": {
       "addedWidgets": {},
       "aggData": [],
       "aggError": "",
       "aggOverflow": false,
       "aggSchema": [],
       "aggSeriesLimitReached": false,
       "aggType": "",
       "arguments": {},
       "columnCustomDisplayInfos": {},
       "data": [
        [
         "FDA15",
         9.3,
         "Low Fat",
         0.016047301,
         "Dairy",
         249.8092,
         "OUT049",
         1999,
         "Medium",
         "Tier 1",
         "Supermarket Type1",
         3735.138,
         "2025-03-14",
         "2025-03-21",
         "2025-03-07"
        ],
        [
         "DRC01",
         5.92,
         "Regular",
         0.019278216,
         "Soft Drinks",
         48.2692,
         "OUT018",
         2009,
         "Medium",
         "Tier 3",
         "Supermarket Type2",
         443.4228,
         "2025-03-14",
         "2025-03-21",
         "2025-03-07"
        ],
        [
         "FDN15",
         17.5,
         "Low Fat",
         0.016760075,
         "Meat",
         141.618,
         "OUT049",
         1999,
         "Medium",
         "Tier 1",
         "Supermarket Type1",
         2097.27,
         "2025-03-14",
         "2025-03-21",
         "2025-03-07"
        ],
        [
         "FDX07",
         19.2,
         "Regular",
         0.0,
         "Fruits and Vegetables",
         182.095,
         "OUT010",
         1998,
         null,
         "Tier 3",
         "Grocery Store",
         732.38,
         "2025-03-14",
         "2025-03-21",
         "2025-03-07"
        ],
        [
         "NCD19",
         8.93,
         "Low Fat",
         0.0,
         "Household",
         53.8614,
         "OUT013",
         1987,
         "High",
         "Tier 3",
         "Supermarket Type1",
         994.7052,
         "2025-03-14",
         "2025-03-21",
         "2025-03-07"
        ],
        [
         "FDP36",
         10.395,
         "Regular",
         0.0,
         "Baking Goods",
         51.4008,
         "OUT018",
         2009,
         "Medium",
         "Tier 3",
         "Supermarket Type2",
         556.6088,
         "2025-03-14",
         "2025-03-21",
         "2025-03-07"
        ],
        [
         "FDO10",
         13.65,
         "Regular",
         0.012741089,
         "Snack Foods",
         57.6588,
         "OUT013",
         1987,
         "High",
         "Tier 3",
         "Supermarket Type1",
         343.5528,
         "2025-03-14",
         "2025-03-21",
         "2025-03-07"
        ],
        [
         "FDP10",
         null,
         "Low Fat",
         0.127469857,
         "Snack Foods",
         107.7622,
         "OUT027",
         1985,
         "Medium",
         "Tier 3",
         "Supermarket Type3",
         4022.7636,
         "2025-03-14",
         "2025-03-21",
         "2025-03-07"
        ],
        [
         "FDH17",
         16.2,
         "Regular",
         0.016687114,
         "Frozen Foods",
         96.9726,
         "OUT045",
         2002,
         null,
         "Tier 2",
         "Supermarket Type1",
         1076.5986,
         "2025-03-14",
         "2025-03-21",
         "2025-03-07"
        ],
        [
         "FDU28",
         19.2,
         "Regular",
         0.09444959,
         "Frozen Foods",
         187.8214,
         "OUT017",
         2007,
         null,
         "Tier 2",
         "Supermarket Type1",
         4710.535,
         "2025-03-14",
         "2025-03-21",
         "2025-03-07"
        ]
       ],
       "datasetInfos": [],
       "dbfsResultPath": null,
       "isJsonSchema": true,
       "metadata": {},
       "overflow": false,
       "plotOptions": {
        "customPlotOptions": {},
        "displayType": "table",
        "pivotAggregation": null,
        "pivotColumns": null,
        "xColumns": null,
        "yColumns": null
       },
       "removedWidgets": [],
       "schema": [
        {
         "metadata": "{}",
         "name": "Item_Identifier",
         "type": "\"string\""
        },
        {
         "metadata": "{}",
         "name": "Item_Weight",
         "type": "\"double\""
        },
        {
         "metadata": "{}",
         "name": "Item_Fat_Content",
         "type": "\"string\""
        },
        {
         "metadata": "{}",
         "name": "Item_Visibility",
         "type": "\"double\""
        },
        {
         "metadata": "{}",
         "name": "Item_Type",
         "type": "\"string\""
        },
        {
         "metadata": "{}",
         "name": "Item_MRP",
         "type": "\"double\""
        },
        {
         "metadata": "{}",
         "name": "Outlet_Identifier",
         "type": "\"string\""
        },
        {
         "metadata": "{}",
         "name": "Outlet_Establishment_Year",
         "type": "\"integer\""
        },
        {
         "metadata": "{}",
         "name": "Outlet_Size",
         "type": "\"string\""
        },
        {
         "metadata": "{}",
         "name": "Outlet_Location_Type",
         "type": "\"string\""
        },
        {
         "metadata": "{}",
         "name": "Outlet_Type",
         "type": "\"string\""
        },
        {
         "metadata": "{}",
         "name": "Item_Outlet_Sales",
         "type": "\"double\""
        },
        {
         "metadata": "{}",
         "name": "curr_date",
         "type": "\"date\""
        },
        {
         "metadata": "{}",
         "name": "week_after",
         "type": "\"date\""
        },
        {
         "metadata": "{}",
         "name": "week_before_method1",
         "type": "\"date\""
        }
       ],
       "type": "table"
      }
     },
     "output_type": "display_data"
    }
   ],
   "source": [
    "df_csv_1.limit(10).display()"
   ]
  },
  {
   "cell_type": "markdown",
   "metadata": {
    "application/vnd.databricks.v1+cell": {
     "cellMetadata": {
      "byteLimit": 2048000,
      "rowLimit": 10000
     },
     "inputWidgets": {},
     "nuid": "5ff08dbf-1130-49fe-8732-88e3a02e8a80",
     "showTitle": false,
     "tableResultSettingsMap": {},
     "title": ""
    }
   },
   "source": [
    "#### date_sub()\n",
    "#### method - 2"
   ]
  },
  {
   "cell_type": "code",
   "execution_count": 0,
   "metadata": {
    "application/vnd.databricks.v1+cell": {
     "cellMetadata": {
      "byteLimit": 2048000,
      "rowLimit": 10000
     },
     "inputWidgets": {},
     "nuid": "029d6fa1-b7bb-46ae-9a24-4c1fc78b6854",
     "showTitle": false,
     "tableResultSettingsMap": {},
     "title": ""
    }
   },
   "outputs": [],
   "source": [
    "df_csv_1 = df_csv_1.withColumn('week_before_method2',date_add('curr_date',-7))"
   ]
  },
  {
   "cell_type": "code",
   "execution_count": 0,
   "metadata": {
    "application/vnd.databricks.v1+cell": {
     "cellMetadata": {
      "byteLimit": 2048000,
      "rowLimit": 10000
     },
     "inputWidgets": {},
     "nuid": "fb11ad36-6166-42bd-87a8-8a00b0bc86a4",
     "showTitle": false,
     "tableResultSettingsMap": {},
     "title": ""
    }
   },
   "outputs": [
    {
     "output_type": "display_data",
     "data": {
      "text/html": [
       "<style scoped>\n",
       "  .table-result-container {\n",
       "    max-height: 300px;\n",
       "    overflow: auto;\n",
       "  }\n",
       "  table, th, td {\n",
       "    border: 1px solid black;\n",
       "    border-collapse: collapse;\n",
       "  }\n",
       "  th, td {\n",
       "    padding: 5px;\n",
       "  }\n",
       "  th {\n",
       "    text-align: left;\n",
       "  }\n",
       "</style><div class='table-result-container'><table class='table-result'><thead style='background-color: white'><tr><th>Item_Identifier</th><th>Item_Weight</th><th>Item_Fat_Content</th><th>Item_Visibility</th><th>Item_Type</th><th>Item_MRP</th><th>Outlet_Identifier</th><th>Outlet_Establishment_Year</th><th>Outlet_Size</th><th>Outlet_Location_Type</th><th>Outlet_Type</th><th>Item_Outlet_Sales</th><th>curr_date</th><th>week_after</th><th>week_before_method1</th><th>week_before_method2</th></tr></thead><tbody><tr><td>FDA15</td><td>9.3</td><td>Low Fat</td><td>0.016047301</td><td>Dairy</td><td>249.8092</td><td>OUT049</td><td>1999</td><td>Medium</td><td>Tier 1</td><td>Supermarket Type1</td><td>3735.138</td><td>2025-03-14</td><td>2025-03-21</td><td>2025-03-07</td><td>2025-03-07</td></tr><tr><td>DRC01</td><td>5.92</td><td>Regular</td><td>0.019278216</td><td>Soft Drinks</td><td>48.2692</td><td>OUT018</td><td>2009</td><td>Medium</td><td>Tier 3</td><td>Supermarket Type2</td><td>443.4228</td><td>2025-03-14</td><td>2025-03-21</td><td>2025-03-07</td><td>2025-03-07</td></tr><tr><td>FDN15</td><td>17.5</td><td>Low Fat</td><td>0.016760075</td><td>Meat</td><td>141.618</td><td>OUT049</td><td>1999</td><td>Medium</td><td>Tier 1</td><td>Supermarket Type1</td><td>2097.27</td><td>2025-03-14</td><td>2025-03-21</td><td>2025-03-07</td><td>2025-03-07</td></tr><tr><td>FDX07</td><td>19.2</td><td>Regular</td><td>0.0</td><td>Fruits and Vegetables</td><td>182.095</td><td>OUT010</td><td>1998</td><td>null</td><td>Tier 3</td><td>Grocery Store</td><td>732.38</td><td>2025-03-14</td><td>2025-03-21</td><td>2025-03-07</td><td>2025-03-07</td></tr><tr><td>NCD19</td><td>8.93</td><td>Low Fat</td><td>0.0</td><td>Household</td><td>53.8614</td><td>OUT013</td><td>1987</td><td>High</td><td>Tier 3</td><td>Supermarket Type1</td><td>994.7052</td><td>2025-03-14</td><td>2025-03-21</td><td>2025-03-07</td><td>2025-03-07</td></tr><tr><td>FDP36</td><td>10.395</td><td>Regular</td><td>0.0</td><td>Baking Goods</td><td>51.4008</td><td>OUT018</td><td>2009</td><td>Medium</td><td>Tier 3</td><td>Supermarket Type2</td><td>556.6088</td><td>2025-03-14</td><td>2025-03-21</td><td>2025-03-07</td><td>2025-03-07</td></tr><tr><td>FDO10</td><td>13.65</td><td>Regular</td><td>0.012741089</td><td>Snack Foods</td><td>57.6588</td><td>OUT013</td><td>1987</td><td>High</td><td>Tier 3</td><td>Supermarket Type1</td><td>343.5528</td><td>2025-03-14</td><td>2025-03-21</td><td>2025-03-07</td><td>2025-03-07</td></tr><tr><td>FDP10</td><td>null</td><td>Low Fat</td><td>0.127469857</td><td>Snack Foods</td><td>107.7622</td><td>OUT027</td><td>1985</td><td>Medium</td><td>Tier 3</td><td>Supermarket Type3</td><td>4022.7636</td><td>2025-03-14</td><td>2025-03-21</td><td>2025-03-07</td><td>2025-03-07</td></tr><tr><td>FDH17</td><td>16.2</td><td>Regular</td><td>0.016687114</td><td>Frozen Foods</td><td>96.9726</td><td>OUT045</td><td>2002</td><td>null</td><td>Tier 2</td><td>Supermarket Type1</td><td>1076.5986</td><td>2025-03-14</td><td>2025-03-21</td><td>2025-03-07</td><td>2025-03-07</td></tr><tr><td>FDU28</td><td>19.2</td><td>Regular</td><td>0.09444959</td><td>Frozen Foods</td><td>187.8214</td><td>OUT017</td><td>2007</td><td>null</td><td>Tier 2</td><td>Supermarket Type1</td><td>4710.535</td><td>2025-03-14</td><td>2025-03-21</td><td>2025-03-07</td><td>2025-03-07</td></tr></tbody></table></div>"
      ]
     },
     "metadata": {
      "application/vnd.databricks.v1+output": {
       "addedWidgets": {},
       "aggData": [],
       "aggError": "",
       "aggOverflow": false,
       "aggSchema": [],
       "aggSeriesLimitReached": false,
       "aggType": "",
       "arguments": {},
       "columnCustomDisplayInfos": {},
       "data": [
        [
         "FDA15",
         9.3,
         "Low Fat",
         0.016047301,
         "Dairy",
         249.8092,
         "OUT049",
         1999,
         "Medium",
         "Tier 1",
         "Supermarket Type1",
         3735.138,
         "2025-03-14",
         "2025-03-21",
         "2025-03-07",
         "2025-03-07"
        ],
        [
         "DRC01",
         5.92,
         "Regular",
         0.019278216,
         "Soft Drinks",
         48.2692,
         "OUT018",
         2009,
         "Medium",
         "Tier 3",
         "Supermarket Type2",
         443.4228,
         "2025-03-14",
         "2025-03-21",
         "2025-03-07",
         "2025-03-07"
        ],
        [
         "FDN15",
         17.5,
         "Low Fat",
         0.016760075,
         "Meat",
         141.618,
         "OUT049",
         1999,
         "Medium",
         "Tier 1",
         "Supermarket Type1",
         2097.27,
         "2025-03-14",
         "2025-03-21",
         "2025-03-07",
         "2025-03-07"
        ],
        [
         "FDX07",
         19.2,
         "Regular",
         0.0,
         "Fruits and Vegetables",
         182.095,
         "OUT010",
         1998,
         null,
         "Tier 3",
         "Grocery Store",
         732.38,
         "2025-03-14",
         "2025-03-21",
         "2025-03-07",
         "2025-03-07"
        ],
        [
         "NCD19",
         8.93,
         "Low Fat",
         0.0,
         "Household",
         53.8614,
         "OUT013",
         1987,
         "High",
         "Tier 3",
         "Supermarket Type1",
         994.7052,
         "2025-03-14",
         "2025-03-21",
         "2025-03-07",
         "2025-03-07"
        ],
        [
         "FDP36",
         10.395,
         "Regular",
         0.0,
         "Baking Goods",
         51.4008,
         "OUT018",
         2009,
         "Medium",
         "Tier 3",
         "Supermarket Type2",
         556.6088,
         "2025-03-14",
         "2025-03-21",
         "2025-03-07",
         "2025-03-07"
        ],
        [
         "FDO10",
         13.65,
         "Regular",
         0.012741089,
         "Snack Foods",
         57.6588,
         "OUT013",
         1987,
         "High",
         "Tier 3",
         "Supermarket Type1",
         343.5528,
         "2025-03-14",
         "2025-03-21",
         "2025-03-07",
         "2025-03-07"
        ],
        [
         "FDP10",
         null,
         "Low Fat",
         0.127469857,
         "Snack Foods",
         107.7622,
         "OUT027",
         1985,
         "Medium",
         "Tier 3",
         "Supermarket Type3",
         4022.7636,
         "2025-03-14",
         "2025-03-21",
         "2025-03-07",
         "2025-03-07"
        ],
        [
         "FDH17",
         16.2,
         "Regular",
         0.016687114,
         "Frozen Foods",
         96.9726,
         "OUT045",
         2002,
         null,
         "Tier 2",
         "Supermarket Type1",
         1076.5986,
         "2025-03-14",
         "2025-03-21",
         "2025-03-07",
         "2025-03-07"
        ],
        [
         "FDU28",
         19.2,
         "Regular",
         0.09444959,
         "Frozen Foods",
         187.8214,
         "OUT017",
         2007,
         null,
         "Tier 2",
         "Supermarket Type1",
         4710.535,
         "2025-03-14",
         "2025-03-21",
         "2025-03-07",
         "2025-03-07"
        ]
       ],
       "datasetInfos": [],
       "dbfsResultPath": null,
       "isJsonSchema": true,
       "metadata": {},
       "overflow": false,
       "plotOptions": {
        "customPlotOptions": {},
        "displayType": "table",
        "pivotAggregation": null,
        "pivotColumns": null,
        "xColumns": null,
        "yColumns": null
       },
       "removedWidgets": [],
       "schema": [
        {
         "metadata": "{}",
         "name": "Item_Identifier",
         "type": "\"string\""
        },
        {
         "metadata": "{}",
         "name": "Item_Weight",
         "type": "\"double\""
        },
        {
         "metadata": "{}",
         "name": "Item_Fat_Content",
         "type": "\"string\""
        },
        {
         "metadata": "{}",
         "name": "Item_Visibility",
         "type": "\"double\""
        },
        {
         "metadata": "{}",
         "name": "Item_Type",
         "type": "\"string\""
        },
        {
         "metadata": "{}",
         "name": "Item_MRP",
         "type": "\"double\""
        },
        {
         "metadata": "{}",
         "name": "Outlet_Identifier",
         "type": "\"string\""
        },
        {
         "metadata": "{}",
         "name": "Outlet_Establishment_Year",
         "type": "\"integer\""
        },
        {
         "metadata": "{}",
         "name": "Outlet_Size",
         "type": "\"string\""
        },
        {
         "metadata": "{}",
         "name": "Outlet_Location_Type",
         "type": "\"string\""
        },
        {
         "metadata": "{}",
         "name": "Outlet_Type",
         "type": "\"string\""
        },
        {
         "metadata": "{}",
         "name": "Item_Outlet_Sales",
         "type": "\"double\""
        },
        {
         "metadata": "{}",
         "name": "curr_date",
         "type": "\"date\""
        },
        {
         "metadata": "{}",
         "name": "week_after",
         "type": "\"date\""
        },
        {
         "metadata": "{}",
         "name": "week_before_method1",
         "type": "\"date\""
        },
        {
         "metadata": "{}",
         "name": "week_before_method2",
         "type": "\"date\""
        }
       ],
       "type": "table"
      }
     },
     "output_type": "display_data"
    }
   ],
   "source": [
    "df_csv_1.limit(10).display()"
   ]
  },
  {
   "cell_type": "markdown",
   "metadata": {
    "application/vnd.databricks.v1+cell": {
     "cellMetadata": {
      "byteLimit": 2048000,
      "rowLimit": 10000
     },
     "inputWidgets": {},
     "nuid": "4d9b0415-9508-4390-a178-377c80130824",
     "showTitle": false,
     "tableResultSettingsMap": {},
     "title": ""
    }
   },
   "source": [
    "#### datediff()"
   ]
  },
  {
   "cell_type": "code",
   "execution_count": 0,
   "metadata": {
    "application/vnd.databricks.v1+cell": {
     "cellMetadata": {
      "byteLimit": 2048000,
      "rowLimit": 10000
     },
     "inputWidgets": {},
     "nuid": "54debcba-32e3-4840-8ad6-3aefd350f77c",
     "showTitle": false,
     "tableResultSettingsMap": {},
     "title": ""
    }
   },
   "outputs": [],
   "source": [
    "df_csv_1 = df_csv_1.withColumn('datediff',datediff('week_after','curr_date'))"
   ]
  },
  {
   "cell_type": "code",
   "execution_count": 0,
   "metadata": {
    "application/vnd.databricks.v1+cell": {
     "cellMetadata": {
      "byteLimit": 2048000,
      "rowLimit": 10000
     },
     "inputWidgets": {},
     "nuid": "43e2c4cc-ef5a-4d32-84b5-30f406101e22",
     "showTitle": false,
     "tableResultSettingsMap": {},
     "title": ""
    }
   },
   "outputs": [
    {
     "output_type": "display_data",
     "data": {
      "text/html": [
       "<style scoped>\n",
       "  .table-result-container {\n",
       "    max-height: 300px;\n",
       "    overflow: auto;\n",
       "  }\n",
       "  table, th, td {\n",
       "    border: 1px solid black;\n",
       "    border-collapse: collapse;\n",
       "  }\n",
       "  th, td {\n",
       "    padding: 5px;\n",
       "  }\n",
       "  th {\n",
       "    text-align: left;\n",
       "  }\n",
       "</style><div class='table-result-container'><table class='table-result'><thead style='background-color: white'><tr><th>Item_Identifier</th><th>Item_Weight</th><th>Item_Fat_Content</th><th>Item_Visibility</th><th>Item_Type</th><th>Item_MRP</th><th>Outlet_Identifier</th><th>Outlet_Establishment_Year</th><th>Outlet_Size</th><th>Outlet_Location_Type</th><th>Outlet_Type</th><th>Item_Outlet_Sales</th><th>curr_date</th><th>week_after</th><th>week_before_method1</th><th>week_before_method2</th><th>datediff</th></tr></thead><tbody><tr><td>FDA15</td><td>9.3</td><td>Low Fat</td><td>0.016047301</td><td>Dairy</td><td>249.8092</td><td>OUT049</td><td>1999</td><td>Medium</td><td>Tier 1</td><td>Supermarket Type1</td><td>3735.138</td><td>2025-03-14</td><td>2025-03-21</td><td>2025-03-07</td><td>2025-03-07</td><td>7</td></tr><tr><td>DRC01</td><td>5.92</td><td>Regular</td><td>0.019278216</td><td>Soft Drinks</td><td>48.2692</td><td>OUT018</td><td>2009</td><td>Medium</td><td>Tier 3</td><td>Supermarket Type2</td><td>443.4228</td><td>2025-03-14</td><td>2025-03-21</td><td>2025-03-07</td><td>2025-03-07</td><td>7</td></tr><tr><td>FDN15</td><td>17.5</td><td>Low Fat</td><td>0.016760075</td><td>Meat</td><td>141.618</td><td>OUT049</td><td>1999</td><td>Medium</td><td>Tier 1</td><td>Supermarket Type1</td><td>2097.27</td><td>2025-03-14</td><td>2025-03-21</td><td>2025-03-07</td><td>2025-03-07</td><td>7</td></tr><tr><td>FDX07</td><td>19.2</td><td>Regular</td><td>0.0</td><td>Fruits and Vegetables</td><td>182.095</td><td>OUT010</td><td>1998</td><td>null</td><td>Tier 3</td><td>Grocery Store</td><td>732.38</td><td>2025-03-14</td><td>2025-03-21</td><td>2025-03-07</td><td>2025-03-07</td><td>7</td></tr><tr><td>NCD19</td><td>8.93</td><td>Low Fat</td><td>0.0</td><td>Household</td><td>53.8614</td><td>OUT013</td><td>1987</td><td>High</td><td>Tier 3</td><td>Supermarket Type1</td><td>994.7052</td><td>2025-03-14</td><td>2025-03-21</td><td>2025-03-07</td><td>2025-03-07</td><td>7</td></tr><tr><td>FDP36</td><td>10.395</td><td>Regular</td><td>0.0</td><td>Baking Goods</td><td>51.4008</td><td>OUT018</td><td>2009</td><td>Medium</td><td>Tier 3</td><td>Supermarket Type2</td><td>556.6088</td><td>2025-03-14</td><td>2025-03-21</td><td>2025-03-07</td><td>2025-03-07</td><td>7</td></tr><tr><td>FDO10</td><td>13.65</td><td>Regular</td><td>0.012741089</td><td>Snack Foods</td><td>57.6588</td><td>OUT013</td><td>1987</td><td>High</td><td>Tier 3</td><td>Supermarket Type1</td><td>343.5528</td><td>2025-03-14</td><td>2025-03-21</td><td>2025-03-07</td><td>2025-03-07</td><td>7</td></tr><tr><td>FDP10</td><td>null</td><td>Low Fat</td><td>0.127469857</td><td>Snack Foods</td><td>107.7622</td><td>OUT027</td><td>1985</td><td>Medium</td><td>Tier 3</td><td>Supermarket Type3</td><td>4022.7636</td><td>2025-03-14</td><td>2025-03-21</td><td>2025-03-07</td><td>2025-03-07</td><td>7</td></tr><tr><td>FDH17</td><td>16.2</td><td>Regular</td><td>0.016687114</td><td>Frozen Foods</td><td>96.9726</td><td>OUT045</td><td>2002</td><td>null</td><td>Tier 2</td><td>Supermarket Type1</td><td>1076.5986</td><td>2025-03-14</td><td>2025-03-21</td><td>2025-03-07</td><td>2025-03-07</td><td>7</td></tr><tr><td>FDU28</td><td>19.2</td><td>Regular</td><td>0.09444959</td><td>Frozen Foods</td><td>187.8214</td><td>OUT017</td><td>2007</td><td>null</td><td>Tier 2</td><td>Supermarket Type1</td><td>4710.535</td><td>2025-03-14</td><td>2025-03-21</td><td>2025-03-07</td><td>2025-03-07</td><td>7</td></tr></tbody></table></div>"
      ]
     },
     "metadata": {
      "application/vnd.databricks.v1+output": {
       "addedWidgets": {},
       "aggData": [],
       "aggError": "",
       "aggOverflow": false,
       "aggSchema": [],
       "aggSeriesLimitReached": false,
       "aggType": "",
       "arguments": {},
       "columnCustomDisplayInfos": {},
       "data": [
        [
         "FDA15",
         9.3,
         "Low Fat",
         0.016047301,
         "Dairy",
         249.8092,
         "OUT049",
         1999,
         "Medium",
         "Tier 1",
         "Supermarket Type1",
         3735.138,
         "2025-03-14",
         "2025-03-21",
         "2025-03-07",
         "2025-03-07",
         7
        ],
        [
         "DRC01",
         5.92,
         "Regular",
         0.019278216,
         "Soft Drinks",
         48.2692,
         "OUT018",
         2009,
         "Medium",
         "Tier 3",
         "Supermarket Type2",
         443.4228,
         "2025-03-14",
         "2025-03-21",
         "2025-03-07",
         "2025-03-07",
         7
        ],
        [
         "FDN15",
         17.5,
         "Low Fat",
         0.016760075,
         "Meat",
         141.618,
         "OUT049",
         1999,
         "Medium",
         "Tier 1",
         "Supermarket Type1",
         2097.27,
         "2025-03-14",
         "2025-03-21",
         "2025-03-07",
         "2025-03-07",
         7
        ],
        [
         "FDX07",
         19.2,
         "Regular",
         0.0,
         "Fruits and Vegetables",
         182.095,
         "OUT010",
         1998,
         null,
         "Tier 3",
         "Grocery Store",
         732.38,
         "2025-03-14",
         "2025-03-21",
         "2025-03-07",
         "2025-03-07",
         7
        ],
        [
         "NCD19",
         8.93,
         "Low Fat",
         0.0,
         "Household",
         53.8614,
         "OUT013",
         1987,
         "High",
         "Tier 3",
         "Supermarket Type1",
         994.7052,
         "2025-03-14",
         "2025-03-21",
         "2025-03-07",
         "2025-03-07",
         7
        ],
        [
         "FDP36",
         10.395,
         "Regular",
         0.0,
         "Baking Goods",
         51.4008,
         "OUT018",
         2009,
         "Medium",
         "Tier 3",
         "Supermarket Type2",
         556.6088,
         "2025-03-14",
         "2025-03-21",
         "2025-03-07",
         "2025-03-07",
         7
        ],
        [
         "FDO10",
         13.65,
         "Regular",
         0.012741089,
         "Snack Foods",
         57.6588,
         "OUT013",
         1987,
         "High",
         "Tier 3",
         "Supermarket Type1",
         343.5528,
         "2025-03-14",
         "2025-03-21",
         "2025-03-07",
         "2025-03-07",
         7
        ],
        [
         "FDP10",
         null,
         "Low Fat",
         0.127469857,
         "Snack Foods",
         107.7622,
         "OUT027",
         1985,
         "Medium",
         "Tier 3",
         "Supermarket Type3",
         4022.7636,
         "2025-03-14",
         "2025-03-21",
         "2025-03-07",
         "2025-03-07",
         7
        ],
        [
         "FDH17",
         16.2,
         "Regular",
         0.016687114,
         "Frozen Foods",
         96.9726,
         "OUT045",
         2002,
         null,
         "Tier 2",
         "Supermarket Type1",
         1076.5986,
         "2025-03-14",
         "2025-03-21",
         "2025-03-07",
         "2025-03-07",
         7
        ],
        [
         "FDU28",
         19.2,
         "Regular",
         0.09444959,
         "Frozen Foods",
         187.8214,
         "OUT017",
         2007,
         null,
         "Tier 2",
         "Supermarket Type1",
         4710.535,
         "2025-03-14",
         "2025-03-21",
         "2025-03-07",
         "2025-03-07",
         7
        ]
       ],
       "datasetInfos": [],
       "dbfsResultPath": null,
       "isJsonSchema": true,
       "metadata": {},
       "overflow": false,
       "plotOptions": {
        "customPlotOptions": {},
        "displayType": "table",
        "pivotAggregation": null,
        "pivotColumns": null,
        "xColumns": null,
        "yColumns": null
       },
       "removedWidgets": [],
       "schema": [
        {
         "metadata": "{}",
         "name": "Item_Identifier",
         "type": "\"string\""
        },
        {
         "metadata": "{}",
         "name": "Item_Weight",
         "type": "\"double\""
        },
        {
         "metadata": "{}",
         "name": "Item_Fat_Content",
         "type": "\"string\""
        },
        {
         "metadata": "{}",
         "name": "Item_Visibility",
         "type": "\"double\""
        },
        {
         "metadata": "{}",
         "name": "Item_Type",
         "type": "\"string\""
        },
        {
         "metadata": "{}",
         "name": "Item_MRP",
         "type": "\"double\""
        },
        {
         "metadata": "{}",
         "name": "Outlet_Identifier",
         "type": "\"string\""
        },
        {
         "metadata": "{}",
         "name": "Outlet_Establishment_Year",
         "type": "\"integer\""
        },
        {
         "metadata": "{}",
         "name": "Outlet_Size",
         "type": "\"string\""
        },
        {
         "metadata": "{}",
         "name": "Outlet_Location_Type",
         "type": "\"string\""
        },
        {
         "metadata": "{}",
         "name": "Outlet_Type",
         "type": "\"string\""
        },
        {
         "metadata": "{}",
         "name": "Item_Outlet_Sales",
         "type": "\"double\""
        },
        {
         "metadata": "{}",
         "name": "curr_date",
         "type": "\"date\""
        },
        {
         "metadata": "{}",
         "name": "week_after",
         "type": "\"date\""
        },
        {
         "metadata": "{}",
         "name": "week_before_method1",
         "type": "\"date\""
        },
        {
         "metadata": "{}",
         "name": "week_before_method2",
         "type": "\"date\""
        },
        {
         "metadata": "{}",
         "name": "datediff",
         "type": "\"integer\""
        }
       ],
       "type": "table"
      }
     },
     "output_type": "display_data"
    }
   ],
   "source": [
    "df_csv_1.limit(10).display()"
   ]
  },
  {
   "cell_type": "markdown",
   "metadata": {
    "application/vnd.databricks.v1+cell": {
     "cellMetadata": {},
     "inputWidgets": {},
     "nuid": "b25e717d-fffb-4c4f-95c3-0bd716af1811",
     "showTitle": false,
     "tableResultSettingsMap": {},
     "title": ""
    }
   },
   "source": [
    "#### date_format()"
   ]
  },
  {
   "cell_type": "code",
   "execution_count": 0,
   "metadata": {
    "application/vnd.databricks.v1+cell": {
     "cellMetadata": {
      "byteLimit": 2048000,
      "rowLimit": 10000
     },
     "inputWidgets": {},
     "nuid": "b22ed249-74f0-47ea-999f-9d96471e2405",
     "showTitle": false,
     "tableResultSettingsMap": {},
     "title": ""
    }
   },
   "outputs": [],
   "source": [
    "df_csv_1 = df_csv_1.withColumn('dateformat',date_format('week_before_method2','dd-MM-yyyy'))"
   ]
  },
  {
   "cell_type": "code",
   "execution_count": 0,
   "metadata": {
    "application/vnd.databricks.v1+cell": {
     "cellMetadata": {
      "byteLimit": 2048000,
      "rowLimit": 10000
     },
     "inputWidgets": {},
     "nuid": "8ead8b64-0ccb-49d5-882d-b02c367a050d",
     "showTitle": false,
     "tableResultSettingsMap": {},
     "title": ""
    }
   },
   "outputs": [
    {
     "output_type": "display_data",
     "data": {
      "text/html": [
       "<style scoped>\n",
       "  .table-result-container {\n",
       "    max-height: 300px;\n",
       "    overflow: auto;\n",
       "  }\n",
       "  table, th, td {\n",
       "    border: 1px solid black;\n",
       "    border-collapse: collapse;\n",
       "  }\n",
       "  th, td {\n",
       "    padding: 5px;\n",
       "  }\n",
       "  th {\n",
       "    text-align: left;\n",
       "  }\n",
       "</style><div class='table-result-container'><table class='table-result'><thead style='background-color: white'><tr><th>Item_Identifier</th><th>Item_Weight</th><th>Item_Fat_Content</th><th>Item_Visibility</th><th>Item_Type</th><th>Item_MRP</th><th>Outlet_Identifier</th><th>Outlet_Establishment_Year</th><th>Outlet_Size</th><th>Outlet_Location_Type</th><th>Outlet_Type</th><th>Item_Outlet_Sales</th><th>curr_date</th><th>week_after</th><th>week_before_method1</th><th>week_before_method2</th><th>datediff</th><th>dateformat</th></tr></thead><tbody><tr><td>FDA15</td><td>9.3</td><td>Low Fat</td><td>0.016047301</td><td>Dairy</td><td>249.8092</td><td>OUT049</td><td>1999</td><td>Medium</td><td>Tier 1</td><td>Supermarket Type1</td><td>3735.138</td><td>2025-03-14</td><td>2025-03-21</td><td>2025-03-07</td><td>2025-03-07</td><td>7</td><td>07-03-2025</td></tr><tr><td>DRC01</td><td>5.92</td><td>Regular</td><td>0.019278216</td><td>Soft Drinks</td><td>48.2692</td><td>OUT018</td><td>2009</td><td>Medium</td><td>Tier 3</td><td>Supermarket Type2</td><td>443.4228</td><td>2025-03-14</td><td>2025-03-21</td><td>2025-03-07</td><td>2025-03-07</td><td>7</td><td>07-03-2025</td></tr><tr><td>FDN15</td><td>17.5</td><td>Low Fat</td><td>0.016760075</td><td>Meat</td><td>141.618</td><td>OUT049</td><td>1999</td><td>Medium</td><td>Tier 1</td><td>Supermarket Type1</td><td>2097.27</td><td>2025-03-14</td><td>2025-03-21</td><td>2025-03-07</td><td>2025-03-07</td><td>7</td><td>07-03-2025</td></tr><tr><td>FDX07</td><td>19.2</td><td>Regular</td><td>0.0</td><td>Fruits and Vegetables</td><td>182.095</td><td>OUT010</td><td>1998</td><td>null</td><td>Tier 3</td><td>Grocery Store</td><td>732.38</td><td>2025-03-14</td><td>2025-03-21</td><td>2025-03-07</td><td>2025-03-07</td><td>7</td><td>07-03-2025</td></tr><tr><td>NCD19</td><td>8.93</td><td>Low Fat</td><td>0.0</td><td>Household</td><td>53.8614</td><td>OUT013</td><td>1987</td><td>High</td><td>Tier 3</td><td>Supermarket Type1</td><td>994.7052</td><td>2025-03-14</td><td>2025-03-21</td><td>2025-03-07</td><td>2025-03-07</td><td>7</td><td>07-03-2025</td></tr><tr><td>FDP36</td><td>10.395</td><td>Regular</td><td>0.0</td><td>Baking Goods</td><td>51.4008</td><td>OUT018</td><td>2009</td><td>Medium</td><td>Tier 3</td><td>Supermarket Type2</td><td>556.6088</td><td>2025-03-14</td><td>2025-03-21</td><td>2025-03-07</td><td>2025-03-07</td><td>7</td><td>07-03-2025</td></tr><tr><td>FDO10</td><td>13.65</td><td>Regular</td><td>0.012741089</td><td>Snack Foods</td><td>57.6588</td><td>OUT013</td><td>1987</td><td>High</td><td>Tier 3</td><td>Supermarket Type1</td><td>343.5528</td><td>2025-03-14</td><td>2025-03-21</td><td>2025-03-07</td><td>2025-03-07</td><td>7</td><td>07-03-2025</td></tr><tr><td>FDP10</td><td>null</td><td>Low Fat</td><td>0.127469857</td><td>Snack Foods</td><td>107.7622</td><td>OUT027</td><td>1985</td><td>Medium</td><td>Tier 3</td><td>Supermarket Type3</td><td>4022.7636</td><td>2025-03-14</td><td>2025-03-21</td><td>2025-03-07</td><td>2025-03-07</td><td>7</td><td>07-03-2025</td></tr><tr><td>FDH17</td><td>16.2</td><td>Regular</td><td>0.016687114</td><td>Frozen Foods</td><td>96.9726</td><td>OUT045</td><td>2002</td><td>null</td><td>Tier 2</td><td>Supermarket Type1</td><td>1076.5986</td><td>2025-03-14</td><td>2025-03-21</td><td>2025-03-07</td><td>2025-03-07</td><td>7</td><td>07-03-2025</td></tr><tr><td>FDU28</td><td>19.2</td><td>Regular</td><td>0.09444959</td><td>Frozen Foods</td><td>187.8214</td><td>OUT017</td><td>2007</td><td>null</td><td>Tier 2</td><td>Supermarket Type1</td><td>4710.535</td><td>2025-03-14</td><td>2025-03-21</td><td>2025-03-07</td><td>2025-03-07</td><td>7</td><td>07-03-2025</td></tr></tbody></table></div>"
      ]
     },
     "metadata": {
      "application/vnd.databricks.v1+output": {
       "addedWidgets": {},
       "aggData": [],
       "aggError": "",
       "aggOverflow": false,
       "aggSchema": [],
       "aggSeriesLimitReached": false,
       "aggType": "",
       "arguments": {},
       "columnCustomDisplayInfos": {},
       "data": [
        [
         "FDA15",
         9.3,
         "Low Fat",
         0.016047301,
         "Dairy",
         249.8092,
         "OUT049",
         1999,
         "Medium",
         "Tier 1",
         "Supermarket Type1",
         3735.138,
         "2025-03-14",
         "2025-03-21",
         "2025-03-07",
         "2025-03-07",
         7,
         "07-03-2025"
        ],
        [
         "DRC01",
         5.92,
         "Regular",
         0.019278216,
         "Soft Drinks",
         48.2692,
         "OUT018",
         2009,
         "Medium",
         "Tier 3",
         "Supermarket Type2",
         443.4228,
         "2025-03-14",
         "2025-03-21",
         "2025-03-07",
         "2025-03-07",
         7,
         "07-03-2025"
        ],
        [
         "FDN15",
         17.5,
         "Low Fat",
         0.016760075,
         "Meat",
         141.618,
         "OUT049",
         1999,
         "Medium",
         "Tier 1",
         "Supermarket Type1",
         2097.27,
         "2025-03-14",
         "2025-03-21",
         "2025-03-07",
         "2025-03-07",
         7,
         "07-03-2025"
        ],
        [
         "FDX07",
         19.2,
         "Regular",
         0.0,
         "Fruits and Vegetables",
         182.095,
         "OUT010",
         1998,
         null,
         "Tier 3",
         "Grocery Store",
         732.38,
         "2025-03-14",
         "2025-03-21",
         "2025-03-07",
         "2025-03-07",
         7,
         "07-03-2025"
        ],
        [
         "NCD19",
         8.93,
         "Low Fat",
         0.0,
         "Household",
         53.8614,
         "OUT013",
         1987,
         "High",
         "Tier 3",
         "Supermarket Type1",
         994.7052,
         "2025-03-14",
         "2025-03-21",
         "2025-03-07",
         "2025-03-07",
         7,
         "07-03-2025"
        ],
        [
         "FDP36",
         10.395,
         "Regular",
         0.0,
         "Baking Goods",
         51.4008,
         "OUT018",
         2009,
         "Medium",
         "Tier 3",
         "Supermarket Type2",
         556.6088,
         "2025-03-14",
         "2025-03-21",
         "2025-03-07",
         "2025-03-07",
         7,
         "07-03-2025"
        ],
        [
         "FDO10",
         13.65,
         "Regular",
         0.012741089,
         "Snack Foods",
         57.6588,
         "OUT013",
         1987,
         "High",
         "Tier 3",
         "Supermarket Type1",
         343.5528,
         "2025-03-14",
         "2025-03-21",
         "2025-03-07",
         "2025-03-07",
         7,
         "07-03-2025"
        ],
        [
         "FDP10",
         null,
         "Low Fat",
         0.127469857,
         "Snack Foods",
         107.7622,
         "OUT027",
         1985,
         "Medium",
         "Tier 3",
         "Supermarket Type3",
         4022.7636,
         "2025-03-14",
         "2025-03-21",
         "2025-03-07",
         "2025-03-07",
         7,
         "07-03-2025"
        ],
        [
         "FDH17",
         16.2,
         "Regular",
         0.016687114,
         "Frozen Foods",
         96.9726,
         "OUT045",
         2002,
         null,
         "Tier 2",
         "Supermarket Type1",
         1076.5986,
         "2025-03-14",
         "2025-03-21",
         "2025-03-07",
         "2025-03-07",
         7,
         "07-03-2025"
        ],
        [
         "FDU28",
         19.2,
         "Regular",
         0.09444959,
         "Frozen Foods",
         187.8214,
         "OUT017",
         2007,
         null,
         "Tier 2",
         "Supermarket Type1",
         4710.535,
         "2025-03-14",
         "2025-03-21",
         "2025-03-07",
         "2025-03-07",
         7,
         "07-03-2025"
        ]
       ],
       "datasetInfos": [],
       "dbfsResultPath": null,
       "isJsonSchema": true,
       "metadata": {},
       "overflow": false,
       "plotOptions": {
        "customPlotOptions": {},
        "displayType": "table",
        "pivotAggregation": null,
        "pivotColumns": null,
        "xColumns": null,
        "yColumns": null
       },
       "removedWidgets": [],
       "schema": [
        {
         "metadata": "{}",
         "name": "Item_Identifier",
         "type": "\"string\""
        },
        {
         "metadata": "{}",
         "name": "Item_Weight",
         "type": "\"double\""
        },
        {
         "metadata": "{}",
         "name": "Item_Fat_Content",
         "type": "\"string\""
        },
        {
         "metadata": "{}",
         "name": "Item_Visibility",
         "type": "\"double\""
        },
        {
         "metadata": "{}",
         "name": "Item_Type",
         "type": "\"string\""
        },
        {
         "metadata": "{}",
         "name": "Item_MRP",
         "type": "\"double\""
        },
        {
         "metadata": "{}",
         "name": "Outlet_Identifier",
         "type": "\"string\""
        },
        {
         "metadata": "{}",
         "name": "Outlet_Establishment_Year",
         "type": "\"integer\""
        },
        {
         "metadata": "{}",
         "name": "Outlet_Size",
         "type": "\"string\""
        },
        {
         "metadata": "{}",
         "name": "Outlet_Location_Type",
         "type": "\"string\""
        },
        {
         "metadata": "{}",
         "name": "Outlet_Type",
         "type": "\"string\""
        },
        {
         "metadata": "{}",
         "name": "Item_Outlet_Sales",
         "type": "\"double\""
        },
        {
         "metadata": "{}",
         "name": "curr_date",
         "type": "\"date\""
        },
        {
         "metadata": "{}",
         "name": "week_after",
         "type": "\"date\""
        },
        {
         "metadata": "{}",
         "name": "week_before_method1",
         "type": "\"date\""
        },
        {
         "metadata": "{}",
         "name": "week_before_method2",
         "type": "\"date\""
        },
        {
         "metadata": "{}",
         "name": "datediff",
         "type": "\"integer\""
        },
        {
         "metadata": "{}",
         "name": "dateformat",
         "type": "\"string\""
        }
       ],
       "type": "table"
      }
     },
     "output_type": "display_data"
    }
   ],
   "source": [
    "df_csv_1.limit(10).display()"
   ]
  },
  {
   "cell_type": "markdown",
   "metadata": {
    "application/vnd.databricks.v1+cell": {
     "cellMetadata": {},
     "inputWidgets": {},
     "nuid": "98577c6c-7b04-4f92-adaf-14554b00b4e1",
     "showTitle": false,
     "tableResultSettingsMap": {},
     "title": ""
    }
   },
   "source": [
    "## How to handle null?\n",
    "#### Option 1 - Dropping null\n",
    "#### Option 2 - Filling null"
   ]
  },
  {
   "cell_type": "code",
   "execution_count": 0,
   "metadata": {
    "application/vnd.databricks.v1+cell": {
     "cellMetadata": {
      "byteLimit": 2048000,
      "rowLimit": 10000
     },
     "inputWidgets": {},
     "nuid": "2b362fe4-d5b8-4908-9512-77945414d235",
     "showTitle": false,
     "tableResultSettingsMap": {},
     "title": ""
    }
   },
   "outputs": [
    {
     "output_type": "display_data",
     "data": {
      "text/html": [
       "<style scoped>\n",
       "  .table-result-container {\n",
       "    max-height: 300px;\n",
       "    overflow: auto;\n",
       "  }\n",
       "  table, th, td {\n",
       "    border: 1px solid black;\n",
       "    border-collapse: collapse;\n",
       "  }\n",
       "  th, td {\n",
       "    padding: 5px;\n",
       "  }\n",
       "  th {\n",
       "    text-align: left;\n",
       "  }\n",
       "</style><div class='table-result-container'><table class='table-result'><thead style='background-color: white'><tr><th>Outlet_Size</th></tr></thead><tbody><tr><td>High</td></tr><tr><td>null</td></tr><tr><td>Medium</td></tr><tr><td>Small</td></tr></tbody></table></div>"
      ]
     },
     "metadata": {
      "application/vnd.databricks.v1+output": {
       "addedWidgets": {},
       "aggData": [],
       "aggError": "",
       "aggOverflow": false,
       "aggSchema": [],
       "aggSeriesLimitReached": false,
       "aggType": "",
       "arguments": {},
       "columnCustomDisplayInfos": {},
       "data": [
        [
         "High"
        ],
        [
         null
        ],
        [
         "Medium"
        ],
        [
         "Small"
        ]
       ],
       "datasetInfos": [],
       "dbfsResultPath": null,
       "isJsonSchema": true,
       "metadata": {},
       "overflow": false,
       "plotOptions": {
        "customPlotOptions": {},
        "displayType": "table",
        "pivotAggregation": null,
        "pivotColumns": null,
        "xColumns": null,
        "yColumns": null
       },
       "removedWidgets": [],
       "schema": [
        {
         "metadata": "{}",
         "name": "Outlet_Size",
         "type": "\"string\""
        }
       ],
       "type": "table"
      }
     },
     "output_type": "display_data"
    }
   ],
   "source": [
    "df_csv_1.select('Outlet_Size').distinct().display()"
   ]
  },
  {
   "cell_type": "markdown",
   "metadata": {
    "application/vnd.databricks.v1+cell": {
     "cellMetadata": {},
     "inputWidgets": {},
     "nuid": "8fcc9696-b582-4cd3-adff-abfa2afb663c",
     "showTitle": false,
     "tableResultSettingsMap": {},
     "title": ""
    }
   },
   "source": [
    "#### Dropping nulls"
   ]
  },
  {
   "cell_type": "code",
   "execution_count": 0,
   "metadata": {
    "application/vnd.databricks.v1+cell": {
     "cellMetadata": {
      "byteLimit": 2048000,
      "rowLimit": 10000
     },
     "inputWidgets": {},
     "nuid": "e549c2af-6259-48bc-a720-73df4b587f23",
     "showTitle": false,
     "tableResultSettingsMap": {},
     "title": ""
    }
   },
   "outputs": [
    {
     "output_type": "display_data",
     "data": {
      "text/html": [
       "<style scoped>\n",
       "  .table-result-container {\n",
       "    max-height: 300px;\n",
       "    overflow: auto;\n",
       "  }\n",
       "  table, th, td {\n",
       "    border: 1px solid black;\n",
       "    border-collapse: collapse;\n",
       "  }\n",
       "  th, td {\n",
       "    padding: 5px;\n",
       "  }\n",
       "  th {\n",
       "    text-align: left;\n",
       "  }\n",
       "</style><div class='table-result-container'><table class='table-result'><thead style='background-color: white'><tr><th>Item_Identifier</th><th>Item_Weight</th><th>Item_Fat_Content</th><th>Item_Visibility</th><th>Item_Type</th><th>Item_MRP</th><th>Outlet_Identifier</th><th>Outlet_Establishment_Year</th><th>Outlet_Size</th><th>Outlet_Location_Type</th><th>Outlet_Type</th><th>Item_Outlet_Sales</th><th>curr_date</th><th>week_after</th><th>week_before_method1</th><th>week_before_method2</th><th>datediff</th><th>dateformat</th></tr></thead><tbody><tr><td>FDA15</td><td>9.3</td><td>Low Fat</td><td>0.016047301</td><td>Dairy</td><td>249.8092</td><td>OUT049</td><td>1999</td><td>Medium</td><td>Tier 1</td><td>Supermarket Type1</td><td>3735.138</td><td>2025-03-14</td><td>2025-03-21</td><td>2025-03-07</td><td>2025-03-07</td><td>7</td><td>07-03-2025</td></tr><tr><td>DRC01</td><td>5.92</td><td>Regular</td><td>0.019278216</td><td>Soft Drinks</td><td>48.2692</td><td>OUT018</td><td>2009</td><td>Medium</td><td>Tier 3</td><td>Supermarket Type2</td><td>443.4228</td><td>2025-03-14</td><td>2025-03-21</td><td>2025-03-07</td><td>2025-03-07</td><td>7</td><td>07-03-2025</td></tr><tr><td>FDN15</td><td>17.5</td><td>Low Fat</td><td>0.016760075</td><td>Meat</td><td>141.618</td><td>OUT049</td><td>1999</td><td>Medium</td><td>Tier 1</td><td>Supermarket Type1</td><td>2097.27</td><td>2025-03-14</td><td>2025-03-21</td><td>2025-03-07</td><td>2025-03-07</td><td>7</td><td>07-03-2025</td></tr><tr><td>FDX07</td><td>19.2</td><td>Regular</td><td>0.0</td><td>Fruits and Vegetables</td><td>182.095</td><td>OUT010</td><td>1998</td><td>null</td><td>Tier 3</td><td>Grocery Store</td><td>732.38</td><td>2025-03-14</td><td>2025-03-21</td><td>2025-03-07</td><td>2025-03-07</td><td>7</td><td>07-03-2025</td></tr><tr><td>NCD19</td><td>8.93</td><td>Low Fat</td><td>0.0</td><td>Household</td><td>53.8614</td><td>OUT013</td><td>1987</td><td>High</td><td>Tier 3</td><td>Supermarket Type1</td><td>994.7052</td><td>2025-03-14</td><td>2025-03-21</td><td>2025-03-07</td><td>2025-03-07</td><td>7</td><td>07-03-2025</td></tr><tr><td>FDP36</td><td>10.395</td><td>Regular</td><td>0.0</td><td>Baking Goods</td><td>51.4008</td><td>OUT018</td><td>2009</td><td>Medium</td><td>Tier 3</td><td>Supermarket Type2</td><td>556.6088</td><td>2025-03-14</td><td>2025-03-21</td><td>2025-03-07</td><td>2025-03-07</td><td>7</td><td>07-03-2025</td></tr><tr><td>FDO10</td><td>13.65</td><td>Regular</td><td>0.012741089</td><td>Snack Foods</td><td>57.6588</td><td>OUT013</td><td>1987</td><td>High</td><td>Tier 3</td><td>Supermarket Type1</td><td>343.5528</td><td>2025-03-14</td><td>2025-03-21</td><td>2025-03-07</td><td>2025-03-07</td><td>7</td><td>07-03-2025</td></tr><tr><td>FDP10</td><td>null</td><td>Low Fat</td><td>0.127469857</td><td>Snack Foods</td><td>107.7622</td><td>OUT027</td><td>1985</td><td>Medium</td><td>Tier 3</td><td>Supermarket Type3</td><td>4022.7636</td><td>2025-03-14</td><td>2025-03-21</td><td>2025-03-07</td><td>2025-03-07</td><td>7</td><td>07-03-2025</td></tr><tr><td>FDH17</td><td>16.2</td><td>Regular</td><td>0.016687114</td><td>Frozen Foods</td><td>96.9726</td><td>OUT045</td><td>2002</td><td>null</td><td>Tier 2</td><td>Supermarket Type1</td><td>1076.5986</td><td>2025-03-14</td><td>2025-03-21</td><td>2025-03-07</td><td>2025-03-07</td><td>7</td><td>07-03-2025</td></tr><tr><td>FDU28</td><td>19.2</td><td>Regular</td><td>0.09444959</td><td>Frozen Foods</td><td>187.8214</td><td>OUT017</td><td>2007</td><td>null</td><td>Tier 2</td><td>Supermarket Type1</td><td>4710.535</td><td>2025-03-14</td><td>2025-03-21</td><td>2025-03-07</td><td>2025-03-07</td><td>7</td><td>07-03-2025</td></tr></tbody></table></div>"
      ]
     },
     "metadata": {
      "application/vnd.databricks.v1+output": {
       "addedWidgets": {},
       "aggData": [],
       "aggError": "",
       "aggOverflow": false,
       "aggSchema": [],
       "aggSeriesLimitReached": false,
       "aggType": "",
       "arguments": {},
       "columnCustomDisplayInfos": {},
       "data": [
        [
         "FDA15",
         9.3,
         "Low Fat",
         0.016047301,
         "Dairy",
         249.8092,
         "OUT049",
         1999,
         "Medium",
         "Tier 1",
         "Supermarket Type1",
         3735.138,
         "2025-03-14",
         "2025-03-21",
         "2025-03-07",
         "2025-03-07",
         7,
         "07-03-2025"
        ],
        [
         "DRC01",
         5.92,
         "Regular",
         0.019278216,
         "Soft Drinks",
         48.2692,
         "OUT018",
         2009,
         "Medium",
         "Tier 3",
         "Supermarket Type2",
         443.4228,
         "2025-03-14",
         "2025-03-21",
         "2025-03-07",
         "2025-03-07",
         7,
         "07-03-2025"
        ],
        [
         "FDN15",
         17.5,
         "Low Fat",
         0.016760075,
         "Meat",
         141.618,
         "OUT049",
         1999,
         "Medium",
         "Tier 1",
         "Supermarket Type1",
         2097.27,
         "2025-03-14",
         "2025-03-21",
         "2025-03-07",
         "2025-03-07",
         7,
         "07-03-2025"
        ],
        [
         "FDX07",
         19.2,
         "Regular",
         0.0,
         "Fruits and Vegetables",
         182.095,
         "OUT010",
         1998,
         null,
         "Tier 3",
         "Grocery Store",
         732.38,
         "2025-03-14",
         "2025-03-21",
         "2025-03-07",
         "2025-03-07",
         7,
         "07-03-2025"
        ],
        [
         "NCD19",
         8.93,
         "Low Fat",
         0.0,
         "Household",
         53.8614,
         "OUT013",
         1987,
         "High",
         "Tier 3",
         "Supermarket Type1",
         994.7052,
         "2025-03-14",
         "2025-03-21",
         "2025-03-07",
         "2025-03-07",
         7,
         "07-03-2025"
        ],
        [
         "FDP36",
         10.395,
         "Regular",
         0.0,
         "Baking Goods",
         51.4008,
         "OUT018",
         2009,
         "Medium",
         "Tier 3",
         "Supermarket Type2",
         556.6088,
         "2025-03-14",
         "2025-03-21",
         "2025-03-07",
         "2025-03-07",
         7,
         "07-03-2025"
        ],
        [
         "FDO10",
         13.65,
         "Regular",
         0.012741089,
         "Snack Foods",
         57.6588,
         "OUT013",
         1987,
         "High",
         "Tier 3",
         "Supermarket Type1",
         343.5528,
         "2025-03-14",
         "2025-03-21",
         "2025-03-07",
         "2025-03-07",
         7,
         "07-03-2025"
        ],
        [
         "FDP10",
         null,
         "Low Fat",
         0.127469857,
         "Snack Foods",
         107.7622,
         "OUT027",
         1985,
         "Medium",
         "Tier 3",
         "Supermarket Type3",
         4022.7636,
         "2025-03-14",
         "2025-03-21",
         "2025-03-07",
         "2025-03-07",
         7,
         "07-03-2025"
        ],
        [
         "FDH17",
         16.2,
         "Regular",
         0.016687114,
         "Frozen Foods",
         96.9726,
         "OUT045",
         2002,
         null,
         "Tier 2",
         "Supermarket Type1",
         1076.5986,
         "2025-03-14",
         "2025-03-21",
         "2025-03-07",
         "2025-03-07",
         7,
         "07-03-2025"
        ],
        [
         "FDU28",
         19.2,
         "Regular",
         0.09444959,
         "Frozen Foods",
         187.8214,
         "OUT017",
         2007,
         null,
         "Tier 2",
         "Supermarket Type1",
         4710.535,
         "2025-03-14",
         "2025-03-21",
         "2025-03-07",
         "2025-03-07",
         7,
         "07-03-2025"
        ]
       ],
       "datasetInfos": [],
       "dbfsResultPath": null,
       "isJsonSchema": true,
       "metadata": {},
       "overflow": false,
       "plotOptions": {
        "customPlotOptions": {},
        "displayType": "table",
        "pivotAggregation": null,
        "pivotColumns": null,
        "xColumns": null,
        "yColumns": null
       },
       "removedWidgets": [],
       "schema": [
        {
         "metadata": "{}",
         "name": "Item_Identifier",
         "type": "\"string\""
        },
        {
         "metadata": "{}",
         "name": "Item_Weight",
         "type": "\"double\""
        },
        {
         "metadata": "{}",
         "name": "Item_Fat_Content",
         "type": "\"string\""
        },
        {
         "metadata": "{}",
         "name": "Item_Visibility",
         "type": "\"double\""
        },
        {
         "metadata": "{}",
         "name": "Item_Type",
         "type": "\"string\""
        },
        {
         "metadata": "{}",
         "name": "Item_MRP",
         "type": "\"double\""
        },
        {
         "metadata": "{}",
         "name": "Outlet_Identifier",
         "type": "\"string\""
        },
        {
         "metadata": "{}",
         "name": "Outlet_Establishment_Year",
         "type": "\"integer\""
        },
        {
         "metadata": "{}",
         "name": "Outlet_Size",
         "type": "\"string\""
        },
        {
         "metadata": "{}",
         "name": "Outlet_Location_Type",
         "type": "\"string\""
        },
        {
         "metadata": "{}",
         "name": "Outlet_Type",
         "type": "\"string\""
        },
        {
         "metadata": "{}",
         "name": "Item_Outlet_Sales",
         "type": "\"double\""
        },
        {
         "metadata": "{}",
         "name": "curr_date",
         "type": "\"date\""
        },
        {
         "metadata": "{}",
         "name": "week_after",
         "type": "\"date\""
        },
        {
         "metadata": "{}",
         "name": "week_before_method1",
         "type": "\"date\""
        },
        {
         "metadata": "{}",
         "name": "week_before_method2",
         "type": "\"date\""
        },
        {
         "metadata": "{}",
         "name": "datediff",
         "type": "\"integer\""
        },
        {
         "metadata": "{}",
         "name": "dateformat",
         "type": "\"string\""
        }
       ],
       "type": "table"
      }
     },
     "output_type": "display_data"
    }
   ],
   "source": [
    "df_csv_1.dropna('all')\\\n",
    "        .limit(10)\\\n",
    "        .display()"
   ]
  },
  {
   "cell_type": "code",
   "execution_count": 0,
   "metadata": {
    "application/vnd.databricks.v1+cell": {
     "cellMetadata": {
      "byteLimit": 2048000,
      "rowLimit": 10000
     },
     "inputWidgets": {},
     "nuid": "73043b6a-464c-4b40-b79e-8973fd5af167",
     "showTitle": false,
     "tableResultSettingsMap": {},
     "title": ""
    }
   },
   "outputs": [
    {
     "output_type": "display_data",
     "data": {
      "text/html": [
       "<style scoped>\n",
       "  .table-result-container {\n",
       "    max-height: 300px;\n",
       "    overflow: auto;\n",
       "  }\n",
       "  table, th, td {\n",
       "    border: 1px solid black;\n",
       "    border-collapse: collapse;\n",
       "  }\n",
       "  th, td {\n",
       "    padding: 5px;\n",
       "  }\n",
       "  th {\n",
       "    text-align: left;\n",
       "  }\n",
       "</style><div class='table-result-container'><table class='table-result'><thead style='background-color: white'><tr><th>Item_Identifier</th><th>Item_Weight</th><th>Item_Fat_Content</th><th>Item_Visibility</th><th>Item_Type</th><th>Item_MRP</th><th>Outlet_Identifier</th><th>Outlet_Establishment_Year</th><th>Outlet_Size</th><th>Outlet_Location_Type</th><th>Outlet_Type</th><th>Item_Outlet_Sales</th><th>curr_date</th><th>week_after</th><th>week_before_method1</th><th>week_before_method2</th><th>datediff</th><th>dateformat</th></tr></thead><tbody><tr><td>FDA15</td><td>9.3</td><td>Low Fat</td><td>0.016047301</td><td>Dairy</td><td>249.8092</td><td>OUT049</td><td>1999</td><td>Medium</td><td>Tier 1</td><td>Supermarket Type1</td><td>3735.138</td><td>2025-03-14</td><td>2025-03-21</td><td>2025-03-07</td><td>2025-03-07</td><td>7</td><td>07-03-2025</td></tr><tr><td>DRC01</td><td>5.92</td><td>Regular</td><td>0.019278216</td><td>Soft Drinks</td><td>48.2692</td><td>OUT018</td><td>2009</td><td>Medium</td><td>Tier 3</td><td>Supermarket Type2</td><td>443.4228</td><td>2025-03-14</td><td>2025-03-21</td><td>2025-03-07</td><td>2025-03-07</td><td>7</td><td>07-03-2025</td></tr><tr><td>FDN15</td><td>17.5</td><td>Low Fat</td><td>0.016760075</td><td>Meat</td><td>141.618</td><td>OUT049</td><td>1999</td><td>Medium</td><td>Tier 1</td><td>Supermarket Type1</td><td>2097.27</td><td>2025-03-14</td><td>2025-03-21</td><td>2025-03-07</td><td>2025-03-07</td><td>7</td><td>07-03-2025</td></tr><tr><td>NCD19</td><td>8.93</td><td>Low Fat</td><td>0.0</td><td>Household</td><td>53.8614</td><td>OUT013</td><td>1987</td><td>High</td><td>Tier 3</td><td>Supermarket Type1</td><td>994.7052</td><td>2025-03-14</td><td>2025-03-21</td><td>2025-03-07</td><td>2025-03-07</td><td>7</td><td>07-03-2025</td></tr><tr><td>FDP36</td><td>10.395</td><td>Regular</td><td>0.0</td><td>Baking Goods</td><td>51.4008</td><td>OUT018</td><td>2009</td><td>Medium</td><td>Tier 3</td><td>Supermarket Type2</td><td>556.6088</td><td>2025-03-14</td><td>2025-03-21</td><td>2025-03-07</td><td>2025-03-07</td><td>7</td><td>07-03-2025</td></tr><tr><td>FDO10</td><td>13.65</td><td>Regular</td><td>0.012741089</td><td>Snack Foods</td><td>57.6588</td><td>OUT013</td><td>1987</td><td>High</td><td>Tier 3</td><td>Supermarket Type1</td><td>343.5528</td><td>2025-03-14</td><td>2025-03-21</td><td>2025-03-07</td><td>2025-03-07</td><td>7</td><td>07-03-2025</td></tr><tr><td>FDY07</td><td>11.8</td><td>Low Fat</td><td>0.0</td><td>Fruits and Vegetables</td><td>45.5402</td><td>OUT049</td><td>1999</td><td>Medium</td><td>Tier 1</td><td>Supermarket Type1</td><td>1516.0266</td><td>2025-03-14</td><td>2025-03-21</td><td>2025-03-07</td><td>2025-03-07</td><td>7</td><td>07-03-2025</td></tr><tr><td>FDA03</td><td>18.5</td><td>Regular</td><td>0.045463773</td><td>Dairy</td><td>144.1102</td><td>OUT046</td><td>1997</td><td>Small</td><td>Tier 1</td><td>Supermarket Type1</td><td>2187.153</td><td>2025-03-14</td><td>2025-03-21</td><td>2025-03-07</td><td>2025-03-07</td><td>7</td><td>07-03-2025</td></tr><tr><td>FDX32</td><td>15.1</td><td>Regular</td><td>0.1000135</td><td>Fruits and Vegetables</td><td>145.4786</td><td>OUT049</td><td>1999</td><td>Medium</td><td>Tier 1</td><td>Supermarket Type1</td><td>1589.2646</td><td>2025-03-14</td><td>2025-03-21</td><td>2025-03-07</td><td>2025-03-07</td><td>7</td><td>07-03-2025</td></tr><tr><td>FDS46</td><td>17.6</td><td>Regular</td><td>0.047257328</td><td>Snack Foods</td><td>119.6782</td><td>OUT046</td><td>1997</td><td>Small</td><td>Tier 1</td><td>Supermarket Type1</td><td>2145.2076</td><td>2025-03-14</td><td>2025-03-21</td><td>2025-03-07</td><td>2025-03-07</td><td>7</td><td>07-03-2025</td></tr></tbody></table></div>"
      ]
     },
     "metadata": {
      "application/vnd.databricks.v1+output": {
       "addedWidgets": {},
       "aggData": [],
       "aggError": "",
       "aggOverflow": false,
       "aggSchema": [],
       "aggSeriesLimitReached": false,
       "aggType": "",
       "arguments": {},
       "columnCustomDisplayInfos": {},
       "data": [
        [
         "FDA15",
         9.3,
         "Low Fat",
         0.016047301,
         "Dairy",
         249.8092,
         "OUT049",
         1999,
         "Medium",
         "Tier 1",
         "Supermarket Type1",
         3735.138,
         "2025-03-14",
         "2025-03-21",
         "2025-03-07",
         "2025-03-07",
         7,
         "07-03-2025"
        ],
        [
         "DRC01",
         5.92,
         "Regular",
         0.019278216,
         "Soft Drinks",
         48.2692,
         "OUT018",
         2009,
         "Medium",
         "Tier 3",
         "Supermarket Type2",
         443.4228,
         "2025-03-14",
         "2025-03-21",
         "2025-03-07",
         "2025-03-07",
         7,
         "07-03-2025"
        ],
        [
         "FDN15",
         17.5,
         "Low Fat",
         0.016760075,
         "Meat",
         141.618,
         "OUT049",
         1999,
         "Medium",
         "Tier 1",
         "Supermarket Type1",
         2097.27,
         "2025-03-14",
         "2025-03-21",
         "2025-03-07",
         "2025-03-07",
         7,
         "07-03-2025"
        ],
        [
         "NCD19",
         8.93,
         "Low Fat",
         0.0,
         "Household",
         53.8614,
         "OUT013",
         1987,
         "High",
         "Tier 3",
         "Supermarket Type1",
         994.7052,
         "2025-03-14",
         "2025-03-21",
         "2025-03-07",
         "2025-03-07",
         7,
         "07-03-2025"
        ],
        [
         "FDP36",
         10.395,
         "Regular",
         0.0,
         "Baking Goods",
         51.4008,
         "OUT018",
         2009,
         "Medium",
         "Tier 3",
         "Supermarket Type2",
         556.6088,
         "2025-03-14",
         "2025-03-21",
         "2025-03-07",
         "2025-03-07",
         7,
         "07-03-2025"
        ],
        [
         "FDO10",
         13.65,
         "Regular",
         0.012741089,
         "Snack Foods",
         57.6588,
         "OUT013",
         1987,
         "High",
         "Tier 3",
         "Supermarket Type1",
         343.5528,
         "2025-03-14",
         "2025-03-21",
         "2025-03-07",
         "2025-03-07",
         7,
         "07-03-2025"
        ],
        [
         "FDY07",
         11.8,
         "Low Fat",
         0.0,
         "Fruits and Vegetables",
         45.5402,
         "OUT049",
         1999,
         "Medium",
         "Tier 1",
         "Supermarket Type1",
         1516.0266,
         "2025-03-14",
         "2025-03-21",
         "2025-03-07",
         "2025-03-07",
         7,
         "07-03-2025"
        ],
        [
         "FDA03",
         18.5,
         "Regular",
         0.045463773,
         "Dairy",
         144.1102,
         "OUT046",
         1997,
         "Small",
         "Tier 1",
         "Supermarket Type1",
         2187.153,
         "2025-03-14",
         "2025-03-21",
         "2025-03-07",
         "2025-03-07",
         7,
         "07-03-2025"
        ],
        [
         "FDX32",
         15.1,
         "Regular",
         0.1000135,
         "Fruits and Vegetables",
         145.4786,
         "OUT049",
         1999,
         "Medium",
         "Tier 1",
         "Supermarket Type1",
         1589.2646,
         "2025-03-14",
         "2025-03-21",
         "2025-03-07",
         "2025-03-07",
         7,
         "07-03-2025"
        ],
        [
         "FDS46",
         17.6,
         "Regular",
         0.047257328,
         "Snack Foods",
         119.6782,
         "OUT046",
         1997,
         "Small",
         "Tier 1",
         "Supermarket Type1",
         2145.2076,
         "2025-03-14",
         "2025-03-21",
         "2025-03-07",
         "2025-03-07",
         7,
         "07-03-2025"
        ]
       ],
       "datasetInfos": [],
       "dbfsResultPath": null,
       "isJsonSchema": true,
       "metadata": {},
       "overflow": false,
       "plotOptions": {
        "customPlotOptions": {},
        "displayType": "table",
        "pivotAggregation": null,
        "pivotColumns": null,
        "xColumns": null,
        "yColumns": null
       },
       "removedWidgets": [],
       "schema": [
        {
         "metadata": "{}",
         "name": "Item_Identifier",
         "type": "\"string\""
        },
        {
         "metadata": "{}",
         "name": "Item_Weight",
         "type": "\"double\""
        },
        {
         "metadata": "{}",
         "name": "Item_Fat_Content",
         "type": "\"string\""
        },
        {
         "metadata": "{}",
         "name": "Item_Visibility",
         "type": "\"double\""
        },
        {
         "metadata": "{}",
         "name": "Item_Type",
         "type": "\"string\""
        },
        {
         "metadata": "{}",
         "name": "Item_MRP",
         "type": "\"double\""
        },
        {
         "metadata": "{}",
         "name": "Outlet_Identifier",
         "type": "\"string\""
        },
        {
         "metadata": "{}",
         "name": "Outlet_Establishment_Year",
         "type": "\"integer\""
        },
        {
         "metadata": "{}",
         "name": "Outlet_Size",
         "type": "\"string\""
        },
        {
         "metadata": "{}",
         "name": "Outlet_Location_Type",
         "type": "\"string\""
        },
        {
         "metadata": "{}",
         "name": "Outlet_Type",
         "type": "\"string\""
        },
        {
         "metadata": "{}",
         "name": "Item_Outlet_Sales",
         "type": "\"double\""
        },
        {
         "metadata": "{}",
         "name": "curr_date",
         "type": "\"date\""
        },
        {
         "metadata": "{}",
         "name": "week_after",
         "type": "\"date\""
        },
        {
         "metadata": "{}",
         "name": "week_before_method1",
         "type": "\"date\""
        },
        {
         "metadata": "{}",
         "name": "week_before_method2",
         "type": "\"date\""
        },
        {
         "metadata": "{}",
         "name": "datediff",
         "type": "\"integer\""
        },
        {
         "metadata": "{}",
         "name": "dateformat",
         "type": "\"string\""
        }
       ],
       "type": "table"
      }
     },
     "output_type": "display_data"
    }
   ],
   "source": [
    "df_csv_1.dropna('any')\\\n",
    "        .limit(10)\\\n",
    "        .display()"
   ]
  },
  {
   "cell_type": "code",
   "execution_count": 0,
   "metadata": {
    "application/vnd.databricks.v1+cell": {
     "cellMetadata": {
      "byteLimit": 2048000,
      "rowLimit": 10000
     },
     "inputWidgets": {},
     "nuid": "89a0c2e5-b691-4d07-842e-c624df7f9227",
     "showTitle": false,
     "tableResultSettingsMap": {},
     "title": ""
    }
   },
   "outputs": [
    {
     "output_type": "display_data",
     "data": {
      "text/html": [
       "<style scoped>\n",
       "  .table-result-container {\n",
       "    max-height: 300px;\n",
       "    overflow: auto;\n",
       "  }\n",
       "  table, th, td {\n",
       "    border: 1px solid black;\n",
       "    border-collapse: collapse;\n",
       "  }\n",
       "  th, td {\n",
       "    padding: 5px;\n",
       "  }\n",
       "  th {\n",
       "    text-align: left;\n",
       "  }\n",
       "</style><div class='table-result-container'><table class='table-result'><thead style='background-color: white'><tr><th>Item_Identifier</th><th>Item_Weight</th><th>Item_Fat_Content</th><th>Item_Visibility</th><th>Item_Type</th><th>Item_MRP</th><th>Outlet_Identifier</th><th>Outlet_Establishment_Year</th><th>Outlet_Size</th><th>Outlet_Location_Type</th><th>Outlet_Type</th><th>Item_Outlet_Sales</th><th>curr_date</th><th>week_after</th><th>week_before_method1</th><th>week_before_method2</th><th>datediff</th><th>dateformat</th></tr></thead><tbody><tr><td>FDA15</td><td>9.3</td><td>Low Fat</td><td>0.016047301</td><td>Dairy</td><td>249.8092</td><td>OUT049</td><td>1999</td><td>Medium</td><td>Tier 1</td><td>Supermarket Type1</td><td>3735.138</td><td>2025-03-14</td><td>2025-03-21</td><td>2025-03-07</td><td>2025-03-07</td><td>7</td><td>07-03-2025</td></tr><tr><td>DRC01</td><td>5.92</td><td>Regular</td><td>0.019278216</td><td>Soft Drinks</td><td>48.2692</td><td>OUT018</td><td>2009</td><td>Medium</td><td>Tier 3</td><td>Supermarket Type2</td><td>443.4228</td><td>2025-03-14</td><td>2025-03-21</td><td>2025-03-07</td><td>2025-03-07</td><td>7</td><td>07-03-2025</td></tr><tr><td>FDN15</td><td>17.5</td><td>Low Fat</td><td>0.016760075</td><td>Meat</td><td>141.618</td><td>OUT049</td><td>1999</td><td>Medium</td><td>Tier 1</td><td>Supermarket Type1</td><td>2097.27</td><td>2025-03-14</td><td>2025-03-21</td><td>2025-03-07</td><td>2025-03-07</td><td>7</td><td>07-03-2025</td></tr><tr><td>NCD19</td><td>8.93</td><td>Low Fat</td><td>0.0</td><td>Household</td><td>53.8614</td><td>OUT013</td><td>1987</td><td>High</td><td>Tier 3</td><td>Supermarket Type1</td><td>994.7052</td><td>2025-03-14</td><td>2025-03-21</td><td>2025-03-07</td><td>2025-03-07</td><td>7</td><td>07-03-2025</td></tr><tr><td>FDP36</td><td>10.395</td><td>Regular</td><td>0.0</td><td>Baking Goods</td><td>51.4008</td><td>OUT018</td><td>2009</td><td>Medium</td><td>Tier 3</td><td>Supermarket Type2</td><td>556.6088</td><td>2025-03-14</td><td>2025-03-21</td><td>2025-03-07</td><td>2025-03-07</td><td>7</td><td>07-03-2025</td></tr><tr><td>FDO10</td><td>13.65</td><td>Regular</td><td>0.012741089</td><td>Snack Foods</td><td>57.6588</td><td>OUT013</td><td>1987</td><td>High</td><td>Tier 3</td><td>Supermarket Type1</td><td>343.5528</td><td>2025-03-14</td><td>2025-03-21</td><td>2025-03-07</td><td>2025-03-07</td><td>7</td><td>07-03-2025</td></tr><tr><td>FDP10</td><td>null</td><td>Low Fat</td><td>0.127469857</td><td>Snack Foods</td><td>107.7622</td><td>OUT027</td><td>1985</td><td>Medium</td><td>Tier 3</td><td>Supermarket Type3</td><td>4022.7636</td><td>2025-03-14</td><td>2025-03-21</td><td>2025-03-07</td><td>2025-03-07</td><td>7</td><td>07-03-2025</td></tr><tr><td>FDY07</td><td>11.8</td><td>Low Fat</td><td>0.0</td><td>Fruits and Vegetables</td><td>45.5402</td><td>OUT049</td><td>1999</td><td>Medium</td><td>Tier 1</td><td>Supermarket Type1</td><td>1516.0266</td><td>2025-03-14</td><td>2025-03-21</td><td>2025-03-07</td><td>2025-03-07</td><td>7</td><td>07-03-2025</td></tr><tr><td>FDA03</td><td>18.5</td><td>Regular</td><td>0.045463773</td><td>Dairy</td><td>144.1102</td><td>OUT046</td><td>1997</td><td>Small</td><td>Tier 1</td><td>Supermarket Type1</td><td>2187.153</td><td>2025-03-14</td><td>2025-03-21</td><td>2025-03-07</td><td>2025-03-07</td><td>7</td><td>07-03-2025</td></tr><tr><td>FDX32</td><td>15.1</td><td>Regular</td><td>0.1000135</td><td>Fruits and Vegetables</td><td>145.4786</td><td>OUT049</td><td>1999</td><td>Medium</td><td>Tier 1</td><td>Supermarket Type1</td><td>1589.2646</td><td>2025-03-14</td><td>2025-03-21</td><td>2025-03-07</td><td>2025-03-07</td><td>7</td><td>07-03-2025</td></tr></tbody></table></div>"
      ]
     },
     "metadata": {
      "application/vnd.databricks.v1+output": {
       "addedWidgets": {},
       "aggData": [],
       "aggError": "",
       "aggOverflow": false,
       "aggSchema": [],
       "aggSeriesLimitReached": false,
       "aggType": "",
       "arguments": {},
       "columnCustomDisplayInfos": {},
       "data": [
        [
         "FDA15",
         9.3,
         "Low Fat",
         0.016047301,
         "Dairy",
         249.8092,
         "OUT049",
         1999,
         "Medium",
         "Tier 1",
         "Supermarket Type1",
         3735.138,
         "2025-03-14",
         "2025-03-21",
         "2025-03-07",
         "2025-03-07",
         7,
         "07-03-2025"
        ],
        [
         "DRC01",
         5.92,
         "Regular",
         0.019278216,
         "Soft Drinks",
         48.2692,
         "OUT018",
         2009,
         "Medium",
         "Tier 3",
         "Supermarket Type2",
         443.4228,
         "2025-03-14",
         "2025-03-21",
         "2025-03-07",
         "2025-03-07",
         7,
         "07-03-2025"
        ],
        [
         "FDN15",
         17.5,
         "Low Fat",
         0.016760075,
         "Meat",
         141.618,
         "OUT049",
         1999,
         "Medium",
         "Tier 1",
         "Supermarket Type1",
         2097.27,
         "2025-03-14",
         "2025-03-21",
         "2025-03-07",
         "2025-03-07",
         7,
         "07-03-2025"
        ],
        [
         "NCD19",
         8.93,
         "Low Fat",
         0.0,
         "Household",
         53.8614,
         "OUT013",
         1987,
         "High",
         "Tier 3",
         "Supermarket Type1",
         994.7052,
         "2025-03-14",
         "2025-03-21",
         "2025-03-07",
         "2025-03-07",
         7,
         "07-03-2025"
        ],
        [
         "FDP36",
         10.395,
         "Regular",
         0.0,
         "Baking Goods",
         51.4008,
         "OUT018",
         2009,
         "Medium",
         "Tier 3",
         "Supermarket Type2",
         556.6088,
         "2025-03-14",
         "2025-03-21",
         "2025-03-07",
         "2025-03-07",
         7,
         "07-03-2025"
        ],
        [
         "FDO10",
         13.65,
         "Regular",
         0.012741089,
         "Snack Foods",
         57.6588,
         "OUT013",
         1987,
         "High",
         "Tier 3",
         "Supermarket Type1",
         343.5528,
         "2025-03-14",
         "2025-03-21",
         "2025-03-07",
         "2025-03-07",
         7,
         "07-03-2025"
        ],
        [
         "FDP10",
         null,
         "Low Fat",
         0.127469857,
         "Snack Foods",
         107.7622,
         "OUT027",
         1985,
         "Medium",
         "Tier 3",
         "Supermarket Type3",
         4022.7636,
         "2025-03-14",
         "2025-03-21",
         "2025-03-07",
         "2025-03-07",
         7,
         "07-03-2025"
        ],
        [
         "FDY07",
         11.8,
         "Low Fat",
         0.0,
         "Fruits and Vegetables",
         45.5402,
         "OUT049",
         1999,
         "Medium",
         "Tier 1",
         "Supermarket Type1",
         1516.0266,
         "2025-03-14",
         "2025-03-21",
         "2025-03-07",
         "2025-03-07",
         7,
         "07-03-2025"
        ],
        [
         "FDA03",
         18.5,
         "Regular",
         0.045463773,
         "Dairy",
         144.1102,
         "OUT046",
         1997,
         "Small",
         "Tier 1",
         "Supermarket Type1",
         2187.153,
         "2025-03-14",
         "2025-03-21",
         "2025-03-07",
         "2025-03-07",
         7,
         "07-03-2025"
        ],
        [
         "FDX32",
         15.1,
         "Regular",
         0.1000135,
         "Fruits and Vegetables",
         145.4786,
         "OUT049",
         1999,
         "Medium",
         "Tier 1",
         "Supermarket Type1",
         1589.2646,
         "2025-03-14",
         "2025-03-21",
         "2025-03-07",
         "2025-03-07",
         7,
         "07-03-2025"
        ]
       ],
       "datasetInfos": [],
       "dbfsResultPath": null,
       "isJsonSchema": true,
       "metadata": {},
       "overflow": false,
       "plotOptions": {
        "customPlotOptions": {},
        "displayType": "table",
        "pivotAggregation": null,
        "pivotColumns": null,
        "xColumns": null,
        "yColumns": null
       },
       "removedWidgets": [],
       "schema": [
        {
         "metadata": "{}",
         "name": "Item_Identifier",
         "type": "\"string\""
        },
        {
         "metadata": "{}",
         "name": "Item_Weight",
         "type": "\"double\""
        },
        {
         "metadata": "{}",
         "name": "Item_Fat_Content",
         "type": "\"string\""
        },
        {
         "metadata": "{}",
         "name": "Item_Visibility",
         "type": "\"double\""
        },
        {
         "metadata": "{}",
         "name": "Item_Type",
         "type": "\"string\""
        },
        {
         "metadata": "{}",
         "name": "Item_MRP",
         "type": "\"double\""
        },
        {
         "metadata": "{}",
         "name": "Outlet_Identifier",
         "type": "\"string\""
        },
        {
         "metadata": "{}",
         "name": "Outlet_Establishment_Year",
         "type": "\"integer\""
        },
        {
         "metadata": "{}",
         "name": "Outlet_Size",
         "type": "\"string\""
        },
        {
         "metadata": "{}",
         "name": "Outlet_Location_Type",
         "type": "\"string\""
        },
        {
         "metadata": "{}",
         "name": "Outlet_Type",
         "type": "\"string\""
        },
        {
         "metadata": "{}",
         "name": "Item_Outlet_Sales",
         "type": "\"double\""
        },
        {
         "metadata": "{}",
         "name": "curr_date",
         "type": "\"date\""
        },
        {
         "metadata": "{}",
         "name": "week_after",
         "type": "\"date\""
        },
        {
         "metadata": "{}",
         "name": "week_before_method1",
         "type": "\"date\""
        },
        {
         "metadata": "{}",
         "name": "week_before_method2",
         "type": "\"date\""
        },
        {
         "metadata": "{}",
         "name": "datediff",
         "type": "\"integer\""
        },
        {
         "metadata": "{}",
         "name": "dateformat",
         "type": "\"string\""
        }
       ],
       "type": "table"
      }
     },
     "output_type": "display_data"
    }
   ],
   "source": [
    "df_csv_1.dropna(subset=['Outlet_Size'])\\\n",
    "        .limit(10)\\\n",
    "        .display()"
   ]
  },
  {
   "cell_type": "markdown",
   "metadata": {
    "application/vnd.databricks.v1+cell": {
     "cellMetadata": {},
     "inputWidgets": {},
     "nuid": "ae4c9c25-be17-40d9-b624-45bcba35dfdf",
     "showTitle": false,
     "tableResultSettingsMap": {},
     "title": ""
    }
   },
   "source": [
    "#### filling nulls"
   ]
  },
  {
   "cell_type": "code",
   "execution_count": 0,
   "metadata": {
    "application/vnd.databricks.v1+cell": {
     "cellMetadata": {
      "byteLimit": 2048000,
      "rowLimit": 10000
     },
     "inputWidgets": {},
     "nuid": "5f7d0698-ac6a-4eb2-963a-4a01d65eac7a",
     "showTitle": false,
     "tableResultSettingsMap": {},
     "title": ""
    }
   },
   "outputs": [
    {
     "output_type": "display_data",
     "data": {
      "text/html": [
       "<style scoped>\n",
       "  .table-result-container {\n",
       "    max-height: 300px;\n",
       "    overflow: auto;\n",
       "  }\n",
       "  table, th, td {\n",
       "    border: 1px solid black;\n",
       "    border-collapse: collapse;\n",
       "  }\n",
       "  th, td {\n",
       "    padding: 5px;\n",
       "  }\n",
       "  th {\n",
       "    text-align: left;\n",
       "  }\n",
       "</style><div class='table-result-container'><table class='table-result'><thead style='background-color: white'><tr><th>Item_Identifier</th><th>Item_Weight</th><th>Item_Fat_Content</th><th>Item_Visibility</th><th>Item_Type</th><th>Item_MRP</th><th>Outlet_Identifier</th><th>Outlet_Establishment_Year</th><th>Outlet_Size</th><th>Outlet_Location_Type</th><th>Outlet_Type</th><th>Item_Outlet_Sales</th><th>curr_date</th><th>week_after</th><th>week_before_method1</th><th>week_before_method2</th><th>datediff</th><th>dateformat</th></tr></thead><tbody><tr><td>FDA15</td><td>9.3</td><td>Low Fat</td><td>0.016047301</td><td>Dairy</td><td>249.8092</td><td>OUT049</td><td>1999</td><td>Medium</td><td>Tier 1</td><td>Supermarket Type1</td><td>3735.138</td><td>2025-03-14</td><td>2025-03-21</td><td>2025-03-07</td><td>2025-03-07</td><td>7</td><td>07-03-2025</td></tr><tr><td>DRC01</td><td>5.92</td><td>Regular</td><td>0.019278216</td><td>Soft Drinks</td><td>48.2692</td><td>OUT018</td><td>2009</td><td>Medium</td><td>Tier 3</td><td>Supermarket Type2</td><td>443.4228</td><td>2025-03-14</td><td>2025-03-21</td><td>2025-03-07</td><td>2025-03-07</td><td>7</td><td>07-03-2025</td></tr><tr><td>FDN15</td><td>17.5</td><td>Low Fat</td><td>0.016760075</td><td>Meat</td><td>141.618</td><td>OUT049</td><td>1999</td><td>Medium</td><td>Tier 1</td><td>Supermarket Type1</td><td>2097.27</td><td>2025-03-14</td><td>2025-03-21</td><td>2025-03-07</td><td>2025-03-07</td><td>7</td><td>07-03-2025</td></tr><tr><td>FDX07</td><td>19.2</td><td>Regular</td><td>0.0</td><td>Fruits and Vegetables</td><td>182.095</td><td>OUT010</td><td>1998</td><td>NotAvailable</td><td>Tier 3</td><td>Grocery Store</td><td>732.38</td><td>2025-03-14</td><td>2025-03-21</td><td>2025-03-07</td><td>2025-03-07</td><td>7</td><td>07-03-2025</td></tr><tr><td>NCD19</td><td>8.93</td><td>Low Fat</td><td>0.0</td><td>Household</td><td>53.8614</td><td>OUT013</td><td>1987</td><td>High</td><td>Tier 3</td><td>Supermarket Type1</td><td>994.7052</td><td>2025-03-14</td><td>2025-03-21</td><td>2025-03-07</td><td>2025-03-07</td><td>7</td><td>07-03-2025</td></tr><tr><td>FDP36</td><td>10.395</td><td>Regular</td><td>0.0</td><td>Baking Goods</td><td>51.4008</td><td>OUT018</td><td>2009</td><td>Medium</td><td>Tier 3</td><td>Supermarket Type2</td><td>556.6088</td><td>2025-03-14</td><td>2025-03-21</td><td>2025-03-07</td><td>2025-03-07</td><td>7</td><td>07-03-2025</td></tr><tr><td>FDO10</td><td>13.65</td><td>Regular</td><td>0.012741089</td><td>Snack Foods</td><td>57.6588</td><td>OUT013</td><td>1987</td><td>High</td><td>Tier 3</td><td>Supermarket Type1</td><td>343.5528</td><td>2025-03-14</td><td>2025-03-21</td><td>2025-03-07</td><td>2025-03-07</td><td>7</td><td>07-03-2025</td></tr><tr><td>FDP10</td><td>null</td><td>Low Fat</td><td>0.127469857</td><td>Snack Foods</td><td>107.7622</td><td>OUT027</td><td>1985</td><td>Medium</td><td>Tier 3</td><td>Supermarket Type3</td><td>4022.7636</td><td>2025-03-14</td><td>2025-03-21</td><td>2025-03-07</td><td>2025-03-07</td><td>7</td><td>07-03-2025</td></tr><tr><td>FDH17</td><td>16.2</td><td>Regular</td><td>0.016687114</td><td>Frozen Foods</td><td>96.9726</td><td>OUT045</td><td>2002</td><td>NotAvailable</td><td>Tier 2</td><td>Supermarket Type1</td><td>1076.5986</td><td>2025-03-14</td><td>2025-03-21</td><td>2025-03-07</td><td>2025-03-07</td><td>7</td><td>07-03-2025</td></tr><tr><td>FDU28</td><td>19.2</td><td>Regular</td><td>0.09444959</td><td>Frozen Foods</td><td>187.8214</td><td>OUT017</td><td>2007</td><td>NotAvailable</td><td>Tier 2</td><td>Supermarket Type1</td><td>4710.535</td><td>2025-03-14</td><td>2025-03-21</td><td>2025-03-07</td><td>2025-03-07</td><td>7</td><td>07-03-2025</td></tr></tbody></table></div>"
      ]
     },
     "metadata": {
      "application/vnd.databricks.v1+output": {
       "addedWidgets": {},
       "aggData": [],
       "aggError": "",
       "aggOverflow": false,
       "aggSchema": [],
       "aggSeriesLimitReached": false,
       "aggType": "",
       "arguments": {},
       "columnCustomDisplayInfos": {},
       "data": [
        [
         "FDA15",
         9.3,
         "Low Fat",
         0.016047301,
         "Dairy",
         249.8092,
         "OUT049",
         1999,
         "Medium",
         "Tier 1",
         "Supermarket Type1",
         3735.138,
         "2025-03-14",
         "2025-03-21",
         "2025-03-07",
         "2025-03-07",
         7,
         "07-03-2025"
        ],
        [
         "DRC01",
         5.92,
         "Regular",
         0.019278216,
         "Soft Drinks",
         48.2692,
         "OUT018",
         2009,
         "Medium",
         "Tier 3",
         "Supermarket Type2",
         443.4228,
         "2025-03-14",
         "2025-03-21",
         "2025-03-07",
         "2025-03-07",
         7,
         "07-03-2025"
        ],
        [
         "FDN15",
         17.5,
         "Low Fat",
         0.016760075,
         "Meat",
         141.618,
         "OUT049",
         1999,
         "Medium",
         "Tier 1",
         "Supermarket Type1",
         2097.27,
         "2025-03-14",
         "2025-03-21",
         "2025-03-07",
         "2025-03-07",
         7,
         "07-03-2025"
        ],
        [
         "FDX07",
         19.2,
         "Regular",
         0.0,
         "Fruits and Vegetables",
         182.095,
         "OUT010",
         1998,
         "NotAvailable",
         "Tier 3",
         "Grocery Store",
         732.38,
         "2025-03-14",
         "2025-03-21",
         "2025-03-07",
         "2025-03-07",
         7,
         "07-03-2025"
        ],
        [
         "NCD19",
         8.93,
         "Low Fat",
         0.0,
         "Household",
         53.8614,
         "OUT013",
         1987,
         "High",
         "Tier 3",
         "Supermarket Type1",
         994.7052,
         "2025-03-14",
         "2025-03-21",
         "2025-03-07",
         "2025-03-07",
         7,
         "07-03-2025"
        ],
        [
         "FDP36",
         10.395,
         "Regular",
         0.0,
         "Baking Goods",
         51.4008,
         "OUT018",
         2009,
         "Medium",
         "Tier 3",
         "Supermarket Type2",
         556.6088,
         "2025-03-14",
         "2025-03-21",
         "2025-03-07",
         "2025-03-07",
         7,
         "07-03-2025"
        ],
        [
         "FDO10",
         13.65,
         "Regular",
         0.012741089,
         "Snack Foods",
         57.6588,
         "OUT013",
         1987,
         "High",
         "Tier 3",
         "Supermarket Type1",
         343.5528,
         "2025-03-14",
         "2025-03-21",
         "2025-03-07",
         "2025-03-07",
         7,
         "07-03-2025"
        ],
        [
         "FDP10",
         null,
         "Low Fat",
         0.127469857,
         "Snack Foods",
         107.7622,
         "OUT027",
         1985,
         "Medium",
         "Tier 3",
         "Supermarket Type3",
         4022.7636,
         "2025-03-14",
         "2025-03-21",
         "2025-03-07",
         "2025-03-07",
         7,
         "07-03-2025"
        ],
        [
         "FDH17",
         16.2,
         "Regular",
         0.016687114,
         "Frozen Foods",
         96.9726,
         "OUT045",
         2002,
         "NotAvailable",
         "Tier 2",
         "Supermarket Type1",
         1076.5986,
         "2025-03-14",
         "2025-03-21",
         "2025-03-07",
         "2025-03-07",
         7,
         "07-03-2025"
        ],
        [
         "FDU28",
         19.2,
         "Regular",
         0.09444959,
         "Frozen Foods",
         187.8214,
         "OUT017",
         2007,
         "NotAvailable",
         "Tier 2",
         "Supermarket Type1",
         4710.535,
         "2025-03-14",
         "2025-03-21",
         "2025-03-07",
         "2025-03-07",
         7,
         "07-03-2025"
        ]
       ],
       "datasetInfos": [],
       "dbfsResultPath": null,
       "isJsonSchema": true,
       "metadata": {},
       "overflow": false,
       "plotOptions": {
        "customPlotOptions": {},
        "displayType": "table",
        "pivotAggregation": null,
        "pivotColumns": null,
        "xColumns": null,
        "yColumns": null
       },
       "removedWidgets": [],
       "schema": [
        {
         "metadata": "{}",
         "name": "Item_Identifier",
         "type": "\"string\""
        },
        {
         "metadata": "{}",
         "name": "Item_Weight",
         "type": "\"double\""
        },
        {
         "metadata": "{}",
         "name": "Item_Fat_Content",
         "type": "\"string\""
        },
        {
         "metadata": "{}",
         "name": "Item_Visibility",
         "type": "\"double\""
        },
        {
         "metadata": "{}",
         "name": "Item_Type",
         "type": "\"string\""
        },
        {
         "metadata": "{}",
         "name": "Item_MRP",
         "type": "\"double\""
        },
        {
         "metadata": "{}",
         "name": "Outlet_Identifier",
         "type": "\"string\""
        },
        {
         "metadata": "{}",
         "name": "Outlet_Establishment_Year",
         "type": "\"integer\""
        },
        {
         "metadata": "{}",
         "name": "Outlet_Size",
         "type": "\"string\""
        },
        {
         "metadata": "{}",
         "name": "Outlet_Location_Type",
         "type": "\"string\""
        },
        {
         "metadata": "{}",
         "name": "Outlet_Type",
         "type": "\"string\""
        },
        {
         "metadata": "{}",
         "name": "Item_Outlet_Sales",
         "type": "\"double\""
        },
        {
         "metadata": "{}",
         "name": "curr_date",
         "type": "\"date\""
        },
        {
         "metadata": "{}",
         "name": "week_after",
         "type": "\"date\""
        },
        {
         "metadata": "{}",
         "name": "week_before_method1",
         "type": "\"date\""
        },
        {
         "metadata": "{}",
         "name": "week_before_method2",
         "type": "\"date\""
        },
        {
         "metadata": "{}",
         "name": "datediff",
         "type": "\"integer\""
        },
        {
         "metadata": "{}",
         "name": "dateformat",
         "type": "\"string\""
        }
       ],
       "type": "table"
      }
     },
     "output_type": "display_data"
    }
   ],
   "source": [
    "df_csv_1.fillna('NotAvailable')\\\n",
    "        .limit(10)\\\n",
    "        .display()"
   ]
  },
  {
   "cell_type": "code",
   "execution_count": 0,
   "metadata": {
    "application/vnd.databricks.v1+cell": {
     "cellMetadata": {
      "byteLimit": 2048000,
      "rowLimit": 10000
     },
     "inputWidgets": {},
     "nuid": "5afd1eb5-4f45-463d-b5c7-c63ab770f028",
     "showTitle": false,
     "tableResultSettingsMap": {},
     "title": ""
    }
   },
   "outputs": [
    {
     "output_type": "display_data",
     "data": {
      "text/html": [
       "<style scoped>\n",
       "  .table-result-container {\n",
       "    max-height: 300px;\n",
       "    overflow: auto;\n",
       "  }\n",
       "  table, th, td {\n",
       "    border: 1px solid black;\n",
       "    border-collapse: collapse;\n",
       "  }\n",
       "  th, td {\n",
       "    padding: 5px;\n",
       "  }\n",
       "  th {\n",
       "    text-align: left;\n",
       "  }\n",
       "</style><div class='table-result-container'><table class='table-result'><thead style='background-color: white'><tr><th>Item_Identifier</th><th>Item_Weight</th><th>Item_Fat_Content</th><th>Item_Visibility</th><th>Item_Type</th><th>Item_MRP</th><th>Outlet_Identifier</th><th>Outlet_Establishment_Year</th><th>Outlet_Size</th><th>Outlet_Location_Type</th><th>Outlet_Type</th><th>Item_Outlet_Sales</th><th>curr_date</th><th>week_after</th><th>week_before_method1</th><th>week_before_method2</th><th>datediff</th><th>dateformat</th></tr></thead><tbody><tr><td>FDA15</td><td>9.3</td><td>Low Fat</td><td>0.016047301</td><td>Dairy</td><td>249.8092</td><td>OUT049</td><td>1999</td><td>Medium</td><td>Tier 1</td><td>Supermarket Type1</td><td>3735.138</td><td>2025-03-14</td><td>2025-03-21</td><td>2025-03-07</td><td>2025-03-07</td><td>7</td><td>07-03-2025</td></tr><tr><td>DRC01</td><td>5.92</td><td>Regular</td><td>0.019278216</td><td>Soft Drinks</td><td>48.2692</td><td>OUT018</td><td>2009</td><td>Medium</td><td>Tier 3</td><td>Supermarket Type2</td><td>443.4228</td><td>2025-03-14</td><td>2025-03-21</td><td>2025-03-07</td><td>2025-03-07</td><td>7</td><td>07-03-2025</td></tr><tr><td>FDN15</td><td>17.5</td><td>Low Fat</td><td>0.016760075</td><td>Meat</td><td>141.618</td><td>OUT049</td><td>1999</td><td>Medium</td><td>Tier 1</td><td>Supermarket Type1</td><td>2097.27</td><td>2025-03-14</td><td>2025-03-21</td><td>2025-03-07</td><td>2025-03-07</td><td>7</td><td>07-03-2025</td></tr><tr><td>FDX07</td><td>19.2</td><td>Regular</td><td>0.0</td><td>Fruits and Vegetables</td><td>182.095</td><td>OUT010</td><td>1998</td><td>NotAvailable</td><td>Tier 3</td><td>Grocery Store</td><td>732.38</td><td>2025-03-14</td><td>2025-03-21</td><td>2025-03-07</td><td>2025-03-07</td><td>7</td><td>07-03-2025</td></tr><tr><td>NCD19</td><td>8.93</td><td>Low Fat</td><td>0.0</td><td>Household</td><td>53.8614</td><td>OUT013</td><td>1987</td><td>High</td><td>Tier 3</td><td>Supermarket Type1</td><td>994.7052</td><td>2025-03-14</td><td>2025-03-21</td><td>2025-03-07</td><td>2025-03-07</td><td>7</td><td>07-03-2025</td></tr><tr><td>FDP36</td><td>10.395</td><td>Regular</td><td>0.0</td><td>Baking Goods</td><td>51.4008</td><td>OUT018</td><td>2009</td><td>Medium</td><td>Tier 3</td><td>Supermarket Type2</td><td>556.6088</td><td>2025-03-14</td><td>2025-03-21</td><td>2025-03-07</td><td>2025-03-07</td><td>7</td><td>07-03-2025</td></tr><tr><td>FDO10</td><td>13.65</td><td>Regular</td><td>0.012741089</td><td>Snack Foods</td><td>57.6588</td><td>OUT013</td><td>1987</td><td>High</td><td>Tier 3</td><td>Supermarket Type1</td><td>343.5528</td><td>2025-03-14</td><td>2025-03-21</td><td>2025-03-07</td><td>2025-03-07</td><td>7</td><td>07-03-2025</td></tr><tr><td>FDP10</td><td>null</td><td>Low Fat</td><td>0.127469857</td><td>Snack Foods</td><td>107.7622</td><td>OUT027</td><td>1985</td><td>Medium</td><td>Tier 3</td><td>Supermarket Type3</td><td>4022.7636</td><td>2025-03-14</td><td>2025-03-21</td><td>2025-03-07</td><td>2025-03-07</td><td>7</td><td>07-03-2025</td></tr><tr><td>FDH17</td><td>16.2</td><td>Regular</td><td>0.016687114</td><td>Frozen Foods</td><td>96.9726</td><td>OUT045</td><td>2002</td><td>NotAvailable</td><td>Tier 2</td><td>Supermarket Type1</td><td>1076.5986</td><td>2025-03-14</td><td>2025-03-21</td><td>2025-03-07</td><td>2025-03-07</td><td>7</td><td>07-03-2025</td></tr><tr><td>FDU28</td><td>19.2</td><td>Regular</td><td>0.09444959</td><td>Frozen Foods</td><td>187.8214</td><td>OUT017</td><td>2007</td><td>NotAvailable</td><td>Tier 2</td><td>Supermarket Type1</td><td>4710.535</td><td>2025-03-14</td><td>2025-03-21</td><td>2025-03-07</td><td>2025-03-07</td><td>7</td><td>07-03-2025</td></tr></tbody></table></div>"
      ]
     },
     "metadata": {
      "application/vnd.databricks.v1+output": {
       "addedWidgets": {},
       "aggData": [],
       "aggError": "",
       "aggOverflow": false,
       "aggSchema": [],
       "aggSeriesLimitReached": false,
       "aggType": "",
       "arguments": {},
       "columnCustomDisplayInfos": {},
       "data": [
        [
         "FDA15",
         9.3,
         "Low Fat",
         0.016047301,
         "Dairy",
         249.8092,
         "OUT049",
         1999,
         "Medium",
         "Tier 1",
         "Supermarket Type1",
         3735.138,
         "2025-03-14",
         "2025-03-21",
         "2025-03-07",
         "2025-03-07",
         7,
         "07-03-2025"
        ],
        [
         "DRC01",
         5.92,
         "Regular",
         0.019278216,
         "Soft Drinks",
         48.2692,
         "OUT018",
         2009,
         "Medium",
         "Tier 3",
         "Supermarket Type2",
         443.4228,
         "2025-03-14",
         "2025-03-21",
         "2025-03-07",
         "2025-03-07",
         7,
         "07-03-2025"
        ],
        [
         "FDN15",
         17.5,
         "Low Fat",
         0.016760075,
         "Meat",
         141.618,
         "OUT049",
         1999,
         "Medium",
         "Tier 1",
         "Supermarket Type1",
         2097.27,
         "2025-03-14",
         "2025-03-21",
         "2025-03-07",
         "2025-03-07",
         7,
         "07-03-2025"
        ],
        [
         "FDX07",
         19.2,
         "Regular",
         0.0,
         "Fruits and Vegetables",
         182.095,
         "OUT010",
         1998,
         "NotAvailable",
         "Tier 3",
         "Grocery Store",
         732.38,
         "2025-03-14",
         "2025-03-21",
         "2025-03-07",
         "2025-03-07",
         7,
         "07-03-2025"
        ],
        [
         "NCD19",
         8.93,
         "Low Fat",
         0.0,
         "Household",
         53.8614,
         "OUT013",
         1987,
         "High",
         "Tier 3",
         "Supermarket Type1",
         994.7052,
         "2025-03-14",
         "2025-03-21",
         "2025-03-07",
         "2025-03-07",
         7,
         "07-03-2025"
        ],
        [
         "FDP36",
         10.395,
         "Regular",
         0.0,
         "Baking Goods",
         51.4008,
         "OUT018",
         2009,
         "Medium",
         "Tier 3",
         "Supermarket Type2",
         556.6088,
         "2025-03-14",
         "2025-03-21",
         "2025-03-07",
         "2025-03-07",
         7,
         "07-03-2025"
        ],
        [
         "FDO10",
         13.65,
         "Regular",
         0.012741089,
         "Snack Foods",
         57.6588,
         "OUT013",
         1987,
         "High",
         "Tier 3",
         "Supermarket Type1",
         343.5528,
         "2025-03-14",
         "2025-03-21",
         "2025-03-07",
         "2025-03-07",
         7,
         "07-03-2025"
        ],
        [
         "FDP10",
         null,
         "Low Fat",
         0.127469857,
         "Snack Foods",
         107.7622,
         "OUT027",
         1985,
         "Medium",
         "Tier 3",
         "Supermarket Type3",
         4022.7636,
         "2025-03-14",
         "2025-03-21",
         "2025-03-07",
         "2025-03-07",
         7,
         "07-03-2025"
        ],
        [
         "FDH17",
         16.2,
         "Regular",
         0.016687114,
         "Frozen Foods",
         96.9726,
         "OUT045",
         2002,
         "NotAvailable",
         "Tier 2",
         "Supermarket Type1",
         1076.5986,
         "2025-03-14",
         "2025-03-21",
         "2025-03-07",
         "2025-03-07",
         7,
         "07-03-2025"
        ],
        [
         "FDU28",
         19.2,
         "Regular",
         0.09444959,
         "Frozen Foods",
         187.8214,
         "OUT017",
         2007,
         "NotAvailable",
         "Tier 2",
         "Supermarket Type1",
         4710.535,
         "2025-03-14",
         "2025-03-21",
         "2025-03-07",
         "2025-03-07",
         7,
         "07-03-2025"
        ]
       ],
       "datasetInfos": [],
       "dbfsResultPath": null,
       "isJsonSchema": true,
       "metadata": {},
       "overflow": false,
       "plotOptions": {
        "customPlotOptions": {},
        "displayType": "table",
        "pivotAggregation": null,
        "pivotColumns": null,
        "xColumns": null,
        "yColumns": null
       },
       "removedWidgets": [],
       "schema": [
        {
         "metadata": "{}",
         "name": "Item_Identifier",
         "type": "\"string\""
        },
        {
         "metadata": "{}",
         "name": "Item_Weight",
         "type": "\"double\""
        },
        {
         "metadata": "{}",
         "name": "Item_Fat_Content",
         "type": "\"string\""
        },
        {
         "metadata": "{}",
         "name": "Item_Visibility",
         "type": "\"double\""
        },
        {
         "metadata": "{}",
         "name": "Item_Type",
         "type": "\"string\""
        },
        {
         "metadata": "{}",
         "name": "Item_MRP",
         "type": "\"double\""
        },
        {
         "metadata": "{}",
         "name": "Outlet_Identifier",
         "type": "\"string\""
        },
        {
         "metadata": "{}",
         "name": "Outlet_Establishment_Year",
         "type": "\"integer\""
        },
        {
         "metadata": "{}",
         "name": "Outlet_Size",
         "type": "\"string\""
        },
        {
         "metadata": "{}",
         "name": "Outlet_Location_Type",
         "type": "\"string\""
        },
        {
         "metadata": "{}",
         "name": "Outlet_Type",
         "type": "\"string\""
        },
        {
         "metadata": "{}",
         "name": "Item_Outlet_Sales",
         "type": "\"double\""
        },
        {
         "metadata": "{}",
         "name": "curr_date",
         "type": "\"date\""
        },
        {
         "metadata": "{}",
         "name": "week_after",
         "type": "\"date\""
        },
        {
         "metadata": "{}",
         "name": "week_before_method1",
         "type": "\"date\""
        },
        {
         "metadata": "{}",
         "name": "week_before_method2",
         "type": "\"date\""
        },
        {
         "metadata": "{}",
         "name": "datediff",
         "type": "\"integer\""
        },
        {
         "metadata": "{}",
         "name": "dateformat",
         "type": "\"string\""
        }
       ],
       "type": "table"
      }
     },
     "output_type": "display_data"
    }
   ],
   "source": [
    "df_csv_1.fillna('NotAvailable',subset=['Outlet_Size'])\\\n",
    "        .limit(10)\\\n",
    "        .display()"
   ]
  },
  {
   "cell_type": "code",
   "execution_count": 0,
   "metadata": {
    "application/vnd.databricks.v1+cell": {
     "cellMetadata": {},
     "inputWidgets": {},
     "nuid": "bd4dc122-23c5-4bc0-8567-330c300788d3",
     "showTitle": false,
     "tableResultSettingsMap": {},
     "title": ""
    }
   },
   "outputs": [],
   "source": []
  }
 ],
 "metadata": {
  "application/vnd.databricks.v1+notebook": {
   "computePreferences": null,
   "dashboards": [],
   "environmentMetadata": {
    "base_environment": "",
    "client": "1"
   },
   "language": "python",
   "notebookMetadata": {
    "mostRecentlyExecutedCommandWithImplicitDF": {
     "commandId": -1,
     "dataframes": [
      "_sqldf"
     ]
    },
    "pythonIndentUnit": 4
   },
   "notebookName": "01_Tutorial",
   "widgets": {}
  }
 },
 "nbformat": 4,
 "nbformat_minor": 0
}
